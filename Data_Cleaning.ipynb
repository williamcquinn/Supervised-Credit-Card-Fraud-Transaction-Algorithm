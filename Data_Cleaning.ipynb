{
 "cells": [
  {
   "cell_type": "markdown",
   "id": "e9b4f8ed",
   "metadata": {},
   "source": [
    "## Cleaning Credit Card Transaction Dataset "
   ]
  },
  {
   "cell_type": "code",
   "execution_count": 1,
   "id": "c30137c7",
   "metadata": {},
   "outputs": [],
   "source": [
    "# Libraries to install\n",
    "# %pip install pandas-profiling\n",
    "\n",
    "import pandas as pd\n",
    "import numpy as np\n",
    "import matplotlib.pyplot as plt\n",
    "import seaborn as sns\n",
    "%matplotlib inline"
   ]
  },
  {
   "cell_type": "code",
   "execution_count": 2,
   "id": "055bace6",
   "metadata": {},
   "outputs": [],
   "source": [
    "from datetime import timedelta"
   ]
  },
  {
   "cell_type": "markdown",
   "id": "9e7441b2",
   "metadata": {},
   "source": [
    "Load in the data."
   ]
  },
  {
   "cell_type": "code",
   "execution_count": 3,
   "id": "bef58dfd",
   "metadata": {},
   "outputs": [
    {
     "name": "stdout",
     "output_type": "stream",
     "text": [
      "CPU times: user 132 ms, sys: 30.9 ms, total: 163 ms\n",
      "Wall time: 183 ms\n"
     ]
    }
   ],
   "source": [
    "%%time\n",
    "mydata = pd.read_csv('card transactions.csv')"
   ]
  },
  {
   "cell_type": "markdown",
   "id": "eff7d412",
   "metadata": {},
   "source": [
    "Drop unwanted columns."
   ]
  },
  {
   "cell_type": "code",
   "execution_count": 4,
   "id": "9cf185e0",
   "metadata": {},
   "outputs": [],
   "source": [
    "mydata.drop(['Unnamed: 10', 'Unnamed: 11', 'Unnamed: 12', 'Unnamed: 13', 'Unnamed: 14', 'Unnamed: 15', 'Unnamed: 16', 'Unnamed: 17'],axis=1, inplace=True)"
   ]
  },
  {
   "cell_type": "markdown",
   "id": "82dfb2d3",
   "metadata": {},
   "source": [
    "Change Date to a datetime object"
   ]
  },
  {
   "cell_type": "code",
   "execution_count": 5,
   "id": "5d049e3a",
   "metadata": {},
   "outputs": [],
   "source": [
    "mydata['Date']= pd.to_datetime(mydata['Date'])"
   ]
  },
  {
   "cell_type": "code",
   "execution_count": 6,
   "id": "7dfe5f58",
   "metadata": {},
   "outputs": [
    {
     "data": {
      "text/plain": [
       "Recnum                        int64\n",
       "Cardnum                       int64\n",
       "Date                 datetime64[ns]\n",
       "Merchnum                     object\n",
       "Merch description            object\n",
       "Merch state                  object\n",
       "Merch zip                   float64\n",
       "Transtype                    object\n",
       "Amount                      float64\n",
       "Fraud                         int64\n",
       "dtype: object"
      ]
     },
     "execution_count": 6,
     "metadata": {},
     "output_type": "execute_result"
    }
   ],
   "source": [
    "mydata.dtypes"
   ]
  },
  {
   "cell_type": "markdown",
   "id": "59681d97",
   "metadata": {},
   "source": [
    "### Removing single large outlier"
   ]
  },
  {
   "cell_type": "markdown",
   "id": "45c03ba7",
   "metadata": {},
   "source": [
    "Need to identify what record the outlier is. Know transaction amount is above one million."
   ]
  },
  {
   "cell_type": "code",
   "execution_count": 7,
   "id": "732b77a8",
   "metadata": {},
   "outputs": [
    {
     "data": {
      "text/html": [
       "<div>\n",
       "<style scoped>\n",
       "    .dataframe tbody tr th:only-of-type {\n",
       "        vertical-align: middle;\n",
       "    }\n",
       "\n",
       "    .dataframe tbody tr th {\n",
       "        vertical-align: top;\n",
       "    }\n",
       "\n",
       "    .dataframe thead th {\n",
       "        text-align: right;\n",
       "    }\n",
       "</style>\n",
       "<table border=\"1\" class=\"dataframe\">\n",
       "  <thead>\n",
       "    <tr style=\"text-align: right;\">\n",
       "      <th></th>\n",
       "      <th>Recnum</th>\n",
       "      <th>Cardnum</th>\n",
       "      <th>Date</th>\n",
       "      <th>Merchnum</th>\n",
       "      <th>Merch description</th>\n",
       "      <th>Merch state</th>\n",
       "      <th>Merch zip</th>\n",
       "      <th>Transtype</th>\n",
       "      <th>Amount</th>\n",
       "      <th>Fraud</th>\n",
       "    </tr>\n",
       "  </thead>\n",
       "  <tbody>\n",
       "    <tr>\n",
       "      <th>52714</th>\n",
       "      <td>52715</td>\n",
       "      <td>5142189135</td>\n",
       "      <td>2010-07-13</td>\n",
       "      <td>NaN</td>\n",
       "      <td>INTERMEXICO</td>\n",
       "      <td>NaN</td>\n",
       "      <td>NaN</td>\n",
       "      <td>P</td>\n",
       "      <td>3102045.53</td>\n",
       "      <td>0</td>\n",
       "    </tr>\n",
       "  </tbody>\n",
       "</table>\n",
       "</div>"
      ],
      "text/plain": [
       "       Recnum     Cardnum       Date Merchnum Merch description Merch state  \\\n",
       "52714   52715  5142189135 2010-07-13      NaN       INTERMEXICO         NaN   \n",
       "\n",
       "       Merch zip Transtype      Amount  Fraud  \n",
       "52714        NaN         P  3102045.53      0  "
      ]
     },
     "execution_count": 7,
     "metadata": {},
     "output_type": "execute_result"
    }
   ],
   "source": [
    "mydata[mydata['Amount'] > 1000000]"
   ]
  },
  {
   "cell_type": "markdown",
   "id": "fbc81dec",
   "metadata": {},
   "source": [
    "Drop this row from the data set."
   ]
  },
  {
   "cell_type": "code",
   "execution_count": 8,
   "id": "0896b080",
   "metadata": {},
   "outputs": [],
   "source": [
    "mydata.drop([52714], inplace=True)"
   ]
  },
  {
   "cell_type": "markdown",
   "id": "b073448a",
   "metadata": {},
   "source": [
    "Check to make sure it has been removed."
   ]
  },
  {
   "cell_type": "code",
   "execution_count": 9,
   "id": "889df047",
   "metadata": {},
   "outputs": [
    {
     "data": {
      "text/html": [
       "<div>\n",
       "<style scoped>\n",
       "    .dataframe tbody tr th:only-of-type {\n",
       "        vertical-align: middle;\n",
       "    }\n",
       "\n",
       "    .dataframe tbody tr th {\n",
       "        vertical-align: top;\n",
       "    }\n",
       "\n",
       "    .dataframe thead th {\n",
       "        text-align: right;\n",
       "    }\n",
       "</style>\n",
       "<table border=\"1\" class=\"dataframe\">\n",
       "  <thead>\n",
       "    <tr style=\"text-align: right;\">\n",
       "      <th></th>\n",
       "      <th>Recnum</th>\n",
       "      <th>Cardnum</th>\n",
       "      <th>Date</th>\n",
       "      <th>Merchnum</th>\n",
       "      <th>Merch description</th>\n",
       "      <th>Merch state</th>\n",
       "      <th>Merch zip</th>\n",
       "      <th>Transtype</th>\n",
       "      <th>Amount</th>\n",
       "      <th>Fraud</th>\n",
       "    </tr>\n",
       "  </thead>\n",
       "  <tbody>\n",
       "  </tbody>\n",
       "</table>\n",
       "</div>"
      ],
      "text/plain": [
       "Empty DataFrame\n",
       "Columns: [Recnum, Cardnum, Date, Merchnum, Merch description, Merch state, Merch zip, Transtype, Amount, Fraud]\n",
       "Index: []"
      ]
     },
     "execution_count": 9,
     "metadata": {},
     "output_type": "execute_result"
    }
   ],
   "source": [
    "mydata[mydata['Amount'] > 1000000]"
   ]
  },
  {
   "cell_type": "markdown",
   "id": "087677dd",
   "metadata": {},
   "source": [
    "### Removing all but the \"P\" type transactions"
   ]
  },
  {
   "cell_type": "markdown",
   "id": "083597d0",
   "metadata": {},
   "source": [
    "See what the different transaction types are."
   ]
  },
  {
   "cell_type": "code",
   "execution_count": 10,
   "id": "5506d05b",
   "metadata": {},
   "outputs": [
    {
     "data": {
      "text/plain": [
       "P    96397\n",
       "A      181\n",
       "D      173\n",
       "Y        1\n",
       "Name: Transtype, dtype: int64"
      ]
     },
     "execution_count": 10,
     "metadata": {},
     "output_type": "execute_result"
    }
   ],
   "source": [
    "mydata[\"Transtype\"].value_counts()"
   ]
  },
  {
   "cell_type": "markdown",
   "id": "7cddf469",
   "metadata": {},
   "source": [
    "Too many rows to drop, so let's create a new dataset with only 'P'."
   ]
  },
  {
   "cell_type": "code",
   "execution_count": 11,
   "id": "905cb725",
   "metadata": {},
   "outputs": [],
   "source": [
    "mydata = mydata[mydata[\"Transtype\"]=='P']"
   ]
  },
  {
   "cell_type": "code",
   "execution_count": 12,
   "id": "68218066",
   "metadata": {},
   "outputs": [
    {
     "data": {
      "text/html": [
       "<div>\n",
       "<style scoped>\n",
       "    .dataframe tbody tr th:only-of-type {\n",
       "        vertical-align: middle;\n",
       "    }\n",
       "\n",
       "    .dataframe tbody tr th {\n",
       "        vertical-align: top;\n",
       "    }\n",
       "\n",
       "    .dataframe thead th {\n",
       "        text-align: right;\n",
       "    }\n",
       "</style>\n",
       "<table border=\"1\" class=\"dataframe\">\n",
       "  <thead>\n",
       "    <tr style=\"text-align: right;\">\n",
       "      <th></th>\n",
       "      <th>Recnum</th>\n",
       "      <th>Cardnum</th>\n",
       "      <th>Date</th>\n",
       "      <th>Merchnum</th>\n",
       "      <th>Merch description</th>\n",
       "      <th>Merch state</th>\n",
       "      <th>Merch zip</th>\n",
       "      <th>Transtype</th>\n",
       "      <th>Amount</th>\n",
       "      <th>Fraud</th>\n",
       "    </tr>\n",
       "  </thead>\n",
       "  <tbody>\n",
       "    <tr>\n",
       "      <th>0</th>\n",
       "      <td>1</td>\n",
       "      <td>5142190439</td>\n",
       "      <td>2010-01-01</td>\n",
       "      <td>5509006296254</td>\n",
       "      <td>FEDEX SHP 12/23/09 AB#</td>\n",
       "      <td>TN</td>\n",
       "      <td>38118.0</td>\n",
       "      <td>P</td>\n",
       "      <td>3.62</td>\n",
       "      <td>0</td>\n",
       "    </tr>\n",
       "    <tr>\n",
       "      <th>1</th>\n",
       "      <td>2</td>\n",
       "      <td>5142183973</td>\n",
       "      <td>2010-01-01</td>\n",
       "      <td>61003026333</td>\n",
       "      <td>SERVICE MERCHANDISE #81</td>\n",
       "      <td>MA</td>\n",
       "      <td>1803.0</td>\n",
       "      <td>P</td>\n",
       "      <td>31.42</td>\n",
       "      <td>0</td>\n",
       "    </tr>\n",
       "    <tr>\n",
       "      <th>2</th>\n",
       "      <td>3</td>\n",
       "      <td>5142131721</td>\n",
       "      <td>2010-01-01</td>\n",
       "      <td>4503082993600</td>\n",
       "      <td>OFFICE DEPOT #191</td>\n",
       "      <td>MD</td>\n",
       "      <td>20706.0</td>\n",
       "      <td>P</td>\n",
       "      <td>178.49</td>\n",
       "      <td>0</td>\n",
       "    </tr>\n",
       "    <tr>\n",
       "      <th>3</th>\n",
       "      <td>4</td>\n",
       "      <td>5142148452</td>\n",
       "      <td>2010-01-01</td>\n",
       "      <td>5509006296254</td>\n",
       "      <td>FEDEX SHP 12/28/09 AB#</td>\n",
       "      <td>TN</td>\n",
       "      <td>38118.0</td>\n",
       "      <td>P</td>\n",
       "      <td>3.62</td>\n",
       "      <td>0</td>\n",
       "    </tr>\n",
       "    <tr>\n",
       "      <th>4</th>\n",
       "      <td>5</td>\n",
       "      <td>5142190439</td>\n",
       "      <td>2010-01-01</td>\n",
       "      <td>5509006296254</td>\n",
       "      <td>FEDEX SHP 12/23/09 AB#</td>\n",
       "      <td>TN</td>\n",
       "      <td>38118.0</td>\n",
       "      <td>P</td>\n",
       "      <td>3.62</td>\n",
       "      <td>0</td>\n",
       "    </tr>\n",
       "  </tbody>\n",
       "</table>\n",
       "</div>"
      ],
      "text/plain": [
       "   Recnum     Cardnum       Date       Merchnum        Merch description  \\\n",
       "0       1  5142190439 2010-01-01  5509006296254   FEDEX SHP 12/23/09 AB#   \n",
       "1       2  5142183973 2010-01-01    61003026333  SERVICE MERCHANDISE #81   \n",
       "2       3  5142131721 2010-01-01  4503082993600        OFFICE DEPOT #191   \n",
       "3       4  5142148452 2010-01-01  5509006296254   FEDEX SHP 12/28/09 AB#   \n",
       "4       5  5142190439 2010-01-01  5509006296254   FEDEX SHP 12/23/09 AB#   \n",
       "\n",
       "  Merch state  Merch zip Transtype  Amount  Fraud  \n",
       "0          TN    38118.0         P    3.62      0  \n",
       "1          MA     1803.0         P   31.42      0  \n",
       "2          MD    20706.0         P  178.49      0  \n",
       "3          TN    38118.0         P    3.62      0  \n",
       "4          TN    38118.0         P    3.62      0  "
      ]
     },
     "execution_count": 12,
     "metadata": {},
     "output_type": "execute_result"
    }
   ],
   "source": [
    "mydata.head()"
   ]
  },
  {
   "cell_type": "markdown",
   "id": "33d64dd1",
   "metadata": {},
   "source": [
    "New data set. Removed outlier. Removed all transaction types but 'P'."
   ]
  },
  {
   "cell_type": "markdown",
   "id": "1320d236",
   "metadata": {},
   "source": [
    "# Filling in Missing Records"
   ]
  },
  {
   "cell_type": "markdown",
   "id": "0bbaacaa",
   "metadata": {},
   "source": [
    "### Merchnum"
   ]
  },
  {
   "cell_type": "markdown",
   "id": "d9f5b317",
   "metadata": {},
   "source": [
    "If merchnum == 0, replace with NaN"
   ]
  },
  {
   "cell_type": "code",
   "execution_count": 13,
   "id": "e9449388",
   "metadata": {},
   "outputs": [
    {
     "data": {
      "text/plain": [
       "53"
      ]
     },
     "execution_count": 13,
     "metadata": {},
     "output_type": "execute_result"
    }
   ],
   "source": [
    "len(mydata[mydata['Merchnum']=='0'])"
   ]
  },
  {
   "cell_type": "code",
   "execution_count": 14,
   "id": "29459ba7",
   "metadata": {},
   "outputs": [],
   "source": [
    "mydata.loc[mydata['Merchnum']== '0','Merchnum']=np.nan"
   ]
  },
  {
   "cell_type": "code",
   "execution_count": 15,
   "id": "498dab34",
   "metadata": {},
   "outputs": [
    {
     "data": {
      "text/plain": [
       "0"
      ]
     },
     "execution_count": 15,
     "metadata": {},
     "output_type": "execute_result"
    }
   ],
   "source": [
    "len(mydata[mydata['Merchnum']=='0'])"
   ]
  },
  {
   "cell_type": "markdown",
   "id": "3fc75d1a",
   "metadata": {},
   "source": [
    "Identify the location of the null values."
   ]
  },
  {
   "cell_type": "code",
   "execution_count": 16,
   "id": "f7c84bbe",
   "metadata": {},
   "outputs": [
    {
     "name": "stdout",
     "output_type": "stream",
     "text": [
      "Int64Index([  115,   135,   168,   201,   257,   260,   262,   272,   328,\n",
      "              358,\n",
      "            ...\n",
      "            96509, 96558, 96563, 96586, 96603, 96621, 96651, 96689, 96720,\n",
      "            96730],\n",
      "           dtype='int64', length=3251)\n"
     ]
    },
    {
     "data": {
      "text/html": [
       "<div>\n",
       "<style scoped>\n",
       "    .dataframe tbody tr th:only-of-type {\n",
       "        vertical-align: middle;\n",
       "    }\n",
       "\n",
       "    .dataframe tbody tr th {\n",
       "        vertical-align: top;\n",
       "    }\n",
       "\n",
       "    .dataframe thead th {\n",
       "        text-align: right;\n",
       "    }\n",
       "</style>\n",
       "<table border=\"1\" class=\"dataframe\">\n",
       "  <thead>\n",
       "    <tr style=\"text-align: right;\">\n",
       "      <th></th>\n",
       "      <th>Recnum</th>\n",
       "      <th>Cardnum</th>\n",
       "      <th>Date</th>\n",
       "      <th>Merchnum</th>\n",
       "      <th>Merch description</th>\n",
       "      <th>Merch state</th>\n",
       "      <th>Merch zip</th>\n",
       "      <th>Transtype</th>\n",
       "      <th>Amount</th>\n",
       "      <th>Fraud</th>\n",
       "    </tr>\n",
       "  </thead>\n",
       "  <tbody>\n",
       "    <tr>\n",
       "      <th>115</th>\n",
       "      <td>116</td>\n",
       "      <td>5142182128</td>\n",
       "      <td>2010-01-03</td>\n",
       "      <td>NaN</td>\n",
       "      <td>GRAINGER #973</td>\n",
       "      <td>IL</td>\n",
       "      <td>60089.0</td>\n",
       "      <td>P</td>\n",
       "      <td>327.34</td>\n",
       "      <td>0</td>\n",
       "    </tr>\n",
       "    <tr>\n",
       "      <th>135</th>\n",
       "      <td>136</td>\n",
       "      <td>5142126842</td>\n",
       "      <td>2010-01-03</td>\n",
       "      <td>NaN</td>\n",
       "      <td>AUTOMATED OFFICE PRODU</td>\n",
       "      <td>MD</td>\n",
       "      <td>20706.0</td>\n",
       "      <td>P</td>\n",
       "      <td>2110.00</td>\n",
       "      <td>0</td>\n",
       "    </tr>\n",
       "    <tr>\n",
       "      <th>168</th>\n",
       "      <td>169</td>\n",
       "      <td>5142132574</td>\n",
       "      <td>2010-01-03</td>\n",
       "      <td>NaN</td>\n",
       "      <td>ROLL CALL NEWSPAPER</td>\n",
       "      <td>DC</td>\n",
       "      <td>20001.0</td>\n",
       "      <td>P</td>\n",
       "      <td>104.69</td>\n",
       "      <td>0</td>\n",
       "    </tr>\n",
       "    <tr>\n",
       "      <th>201</th>\n",
       "      <td>202</td>\n",
       "      <td>5142140436</td>\n",
       "      <td>2010-01-03</td>\n",
       "      <td>NaN</td>\n",
       "      <td>MONTGOMERY COLLEGE-PHONE</td>\n",
       "      <td>MD</td>\n",
       "      <td>20850.0</td>\n",
       "      <td>P</td>\n",
       "      <td>266.00</td>\n",
       "      <td>0</td>\n",
       "    </tr>\n",
       "    <tr>\n",
       "      <th>257</th>\n",
       "      <td>258</td>\n",
       "      <td>5142257292</td>\n",
       "      <td>2010-01-04</td>\n",
       "      <td>NaN</td>\n",
       "      <td>ARGENT CHEMICAL LABS</td>\n",
       "      <td>WA</td>\n",
       "      <td>98052.0</td>\n",
       "      <td>P</td>\n",
       "      <td>240.00</td>\n",
       "      <td>0</td>\n",
       "    </tr>\n",
       "  </tbody>\n",
       "</table>\n",
       "</div>"
      ],
      "text/plain": [
       "     Recnum     Cardnum       Date Merchnum         Merch description  \\\n",
       "115     116  5142182128 2010-01-03      NaN             GRAINGER #973   \n",
       "135     136  5142126842 2010-01-03      NaN    AUTOMATED OFFICE PRODU   \n",
       "168     169  5142132574 2010-01-03      NaN       ROLL CALL NEWSPAPER   \n",
       "201     202  5142140436 2010-01-03      NaN  MONTGOMERY COLLEGE-PHONE   \n",
       "257     258  5142257292 2010-01-04      NaN      ARGENT CHEMICAL LABS   \n",
       "\n",
       "    Merch state  Merch zip Transtype   Amount  Fraud  \n",
       "115          IL    60089.0         P   327.34      0  \n",
       "135          MD    20706.0         P  2110.00      0  \n",
       "168          DC    20001.0         P   104.69      0  \n",
       "201          MD    20850.0         P   266.00      0  \n",
       "257          WA    98052.0         P   240.00      0  "
      ]
     },
     "execution_count": 16,
     "metadata": {},
     "output_type": "execute_result"
    }
   ],
   "source": [
    "null_merchnum = mydata[mydata['Merchnum'].isnull()]\n",
    "print(null_merchnum.index)\n",
    "null_merchnum.head()"
   ]
  },
  {
   "cell_type": "markdown",
   "id": "b686d184",
   "metadata": {},
   "source": [
    "Let's see if any of the records missing merchnum share a merch description with other records. "
   ]
  },
  {
   "cell_type": "code",
   "execution_count": 17,
   "id": "dae7833f",
   "metadata": {},
   "outputs": [
    {
     "data": {
      "text/html": [
       "<div>\n",
       "<style scoped>\n",
       "    .dataframe tbody tr th:only-of-type {\n",
       "        vertical-align: middle;\n",
       "    }\n",
       "\n",
       "    .dataframe tbody tr th {\n",
       "        vertical-align: top;\n",
       "    }\n",
       "\n",
       "    .dataframe thead th {\n",
       "        text-align: right;\n",
       "    }\n",
       "</style>\n",
       "<table border=\"1\" class=\"dataframe\">\n",
       "  <thead>\n",
       "    <tr style=\"text-align: right;\">\n",
       "      <th></th>\n",
       "      <th>Recnum</th>\n",
       "      <th>Cardnum</th>\n",
       "      <th>Date</th>\n",
       "      <th>Merchnum</th>\n",
       "      <th>Merch description</th>\n",
       "      <th>Merch state</th>\n",
       "      <th>Merch zip</th>\n",
       "      <th>Transtype</th>\n",
       "      <th>Amount</th>\n",
       "      <th>Fraud</th>\n",
       "    </tr>\n",
       "  </thead>\n",
       "  <tbody>\n",
       "    <tr>\n",
       "      <th>0</th>\n",
       "      <td>1</td>\n",
       "      <td>5142190439</td>\n",
       "      <td>2010-01-01</td>\n",
       "      <td>5509006296254</td>\n",
       "      <td>FEDEX SHP 12/23/09 AB#</td>\n",
       "      <td>TN</td>\n",
       "      <td>38118.0</td>\n",
       "      <td>P</td>\n",
       "      <td>3.62</td>\n",
       "      <td>0</td>\n",
       "    </tr>\n",
       "    <tr>\n",
       "      <th>1</th>\n",
       "      <td>2</td>\n",
       "      <td>5142183973</td>\n",
       "      <td>2010-01-01</td>\n",
       "      <td>61003026333</td>\n",
       "      <td>SERVICE MERCHANDISE #81</td>\n",
       "      <td>MA</td>\n",
       "      <td>1803.0</td>\n",
       "      <td>P</td>\n",
       "      <td>31.42</td>\n",
       "      <td>0</td>\n",
       "    </tr>\n",
       "    <tr>\n",
       "      <th>2</th>\n",
       "      <td>3</td>\n",
       "      <td>5142131721</td>\n",
       "      <td>2010-01-01</td>\n",
       "      <td>4503082993600</td>\n",
       "      <td>OFFICE DEPOT #191</td>\n",
       "      <td>MD</td>\n",
       "      <td>20706.0</td>\n",
       "      <td>P</td>\n",
       "      <td>178.49</td>\n",
       "      <td>0</td>\n",
       "    </tr>\n",
       "    <tr>\n",
       "      <th>3</th>\n",
       "      <td>4</td>\n",
       "      <td>5142148452</td>\n",
       "      <td>2010-01-01</td>\n",
       "      <td>5509006296254</td>\n",
       "      <td>FEDEX SHP 12/28/09 AB#</td>\n",
       "      <td>TN</td>\n",
       "      <td>38118.0</td>\n",
       "      <td>P</td>\n",
       "      <td>3.62</td>\n",
       "      <td>0</td>\n",
       "    </tr>\n",
       "    <tr>\n",
       "      <th>4</th>\n",
       "      <td>5</td>\n",
       "      <td>5142190439</td>\n",
       "      <td>2010-01-01</td>\n",
       "      <td>5509006296254</td>\n",
       "      <td>FEDEX SHP 12/23/09 AB#</td>\n",
       "      <td>TN</td>\n",
       "      <td>38118.0</td>\n",
       "      <td>P</td>\n",
       "      <td>3.62</td>\n",
       "      <td>0</td>\n",
       "    </tr>\n",
       "  </tbody>\n",
       "</table>\n",
       "</div>"
      ],
      "text/plain": [
       "   Recnum     Cardnum       Date       Merchnum        Merch description  \\\n",
       "0       1  5142190439 2010-01-01  5509006296254   FEDEX SHP 12/23/09 AB#   \n",
       "1       2  5142183973 2010-01-01    61003026333  SERVICE MERCHANDISE #81   \n",
       "2       3  5142131721 2010-01-01  4503082993600        OFFICE DEPOT #191   \n",
       "3       4  5142148452 2010-01-01  5509006296254   FEDEX SHP 12/28/09 AB#   \n",
       "4       5  5142190439 2010-01-01  5509006296254   FEDEX SHP 12/23/09 AB#   \n",
       "\n",
       "  Merch state  Merch zip Transtype  Amount  Fraud  \n",
       "0          TN    38118.0         P    3.62      0  \n",
       "1          MA     1803.0         P   31.42      0  \n",
       "2          MD    20706.0         P  178.49      0  \n",
       "3          TN    38118.0         P    3.62      0  \n",
       "4          TN    38118.0         P    3.62      0  "
      ]
     },
     "execution_count": 17,
     "metadata": {},
     "output_type": "execute_result"
    }
   ],
   "source": [
    "temp = mydata[mydata['Merchnum'].notnull()]\n",
    "temp.head()"
   ]
  },
  {
   "cell_type": "code",
   "execution_count": 18,
   "id": "d3ddc89c",
   "metadata": {},
   "outputs": [
    {
     "data": {
      "text/html": [
       "<div>\n",
       "<style scoped>\n",
       "    .dataframe tbody tr th:only-of-type {\n",
       "        vertical-align: middle;\n",
       "    }\n",
       "\n",
       "    .dataframe tbody tr th {\n",
       "        vertical-align: top;\n",
       "    }\n",
       "\n",
       "    .dataframe thead th {\n",
       "        text-align: right;\n",
       "    }\n",
       "</style>\n",
       "<table border=\"1\" class=\"dataframe\">\n",
       "  <thead>\n",
       "    <tr style=\"text-align: right;\">\n",
       "      <th></th>\n",
       "      <th>Merchnum</th>\n",
       "    </tr>\n",
       "    <tr>\n",
       "      <th>Merch description</th>\n",
       "      <th></th>\n",
       "    </tr>\n",
       "  </thead>\n",
       "  <tbody>\n",
       "    <tr>\n",
       "      <th>#9 SOFTWARE</th>\n",
       "      <td>[6000330882278]</td>\n",
       "    </tr>\n",
       "    <tr>\n",
       "      <th>(ISC)2 CERTIFICATION</th>\n",
       "      <td>[590065510]</td>\n",
       "    </tr>\n",
       "    <tr>\n",
       "      <th>0000000000000000000000</th>\n",
       "      <td>[8168600400097]</td>\n",
       "    </tr>\n",
       "    <tr>\n",
       "      <th>033007 KINKO'S</th>\n",
       "      <td>[35068136338]</td>\n",
       "    </tr>\n",
       "    <tr>\n",
       "      <th>05032 FLYING J</th>\n",
       "      <td>[121075089FL96]</td>\n",
       "    </tr>\n",
       "    <tr>\n",
       "      <th>...</th>\n",
       "      <td>...</td>\n",
       "    </tr>\n",
       "    <tr>\n",
       "      <th>ZYMARK CORPORATION</th>\n",
       "      <td>[790800099272, 988906278331]</td>\n",
       "    </tr>\n",
       "    <tr>\n",
       "      <th>ZYMAX ENVIROTECHNOLOGY</th>\n",
       "      <td>[9612006916900]</td>\n",
       "    </tr>\n",
       "    <tr>\n",
       "      <th>ZYMED LABORATORIES</th>\n",
       "      <td>[679966068337]</td>\n",
       "    </tr>\n",
       "    <tr>\n",
       "      <th>ZZYZX WORKSTATIONS</th>\n",
       "      <td>[6163608306809]</td>\n",
       "    </tr>\n",
       "    <tr>\n",
       "      <th>ZZYZX WRKSTNS PERIPHERAL</th>\n",
       "      <td>[6163608306809]</td>\n",
       "    </tr>\n",
       "  </tbody>\n",
       "</table>\n",
       "<p>12456 rows × 1 columns</p>\n",
       "</div>"
      ],
      "text/plain": [
       "                                              Merchnum\n",
       "Merch description                                     \n",
       "#9 SOFTWARE                            [6000330882278]\n",
       "(ISC)2 CERTIFICATION                       [590065510]\n",
       "0000000000000000000000                 [8168600400097]\n",
       "033007 KINKO'S                           [35068136338]\n",
       "05032 FLYING J                         [121075089FL96]\n",
       "...                                                ...\n",
       "ZYMARK CORPORATION        [790800099272, 988906278331]\n",
       "ZYMAX ENVIROTECHNOLOGY                 [9612006916900]\n",
       "ZYMED LABORATORIES                      [679966068337]\n",
       "ZZYZX WORKSTATIONS                     [6163608306809]\n",
       "ZZYZX WRKSTNS PERIPHERAL               [6163608306809]\n",
       "\n",
       "[12456 rows x 1 columns]"
      ]
     },
     "execution_count": 18,
     "metadata": {},
     "output_type": "execute_result"
    }
   ],
   "source": [
    "temp = temp.groupby(['Merch description'])['Merchnum'].unique().to_frame()\n",
    "temp"
   ]
  },
  {
   "cell_type": "markdown",
   "id": "18c1a01f",
   "metadata": {},
   "source": [
    "If a record missing the merchnum has the same merch description as another transaction in the dataset, then we are going to set the merchnum equal to what is found in the other transaction."
   ]
  },
  {
   "cell_type": "code",
   "execution_count": 19,
   "id": "f6a94ca5",
   "metadata": {},
   "outputs": [],
   "source": [
    "for index in null_merchnum.index:\n",
    "    if mydata.loc[index, 'Merch description'] in temp.index:\n",
    "        merch_desc = mydata.loc[index, 'Merch description']\n",
    "        mydata.loc[index, 'Merchnum'] = temp.loc[merch_desc, 'Merchnum'][0]"
   ]
  },
  {
   "cell_type": "markdown",
   "id": "145d490d",
   "metadata": {},
   "source": [
    "We will still have records missing merchnum."
   ]
  },
  {
   "cell_type": "code",
   "execution_count": 20,
   "id": "9a88afbe",
   "metadata": {},
   "outputs": [
    {
     "name": "stdout",
     "output_type": "stream",
     "text": [
      "2094\n"
     ]
    },
    {
     "data": {
      "text/html": [
       "<div>\n",
       "<style scoped>\n",
       "    .dataframe tbody tr th:only-of-type {\n",
       "        vertical-align: middle;\n",
       "    }\n",
       "\n",
       "    .dataframe tbody tr th {\n",
       "        vertical-align: top;\n",
       "    }\n",
       "\n",
       "    .dataframe thead th {\n",
       "        text-align: right;\n",
       "    }\n",
       "</style>\n",
       "<table border=\"1\" class=\"dataframe\">\n",
       "  <thead>\n",
       "    <tr style=\"text-align: right;\">\n",
       "      <th></th>\n",
       "      <th>Recnum</th>\n",
       "      <th>Cardnum</th>\n",
       "      <th>Date</th>\n",
       "      <th>Merchnum</th>\n",
       "      <th>Merch description</th>\n",
       "      <th>Merch state</th>\n",
       "      <th>Merch zip</th>\n",
       "      <th>Transtype</th>\n",
       "      <th>Amount</th>\n",
       "      <th>Fraud</th>\n",
       "    </tr>\n",
       "  </thead>\n",
       "  <tbody>\n",
       "    <tr>\n",
       "      <th>201</th>\n",
       "      <td>202</td>\n",
       "      <td>5142140436</td>\n",
       "      <td>2010-01-03</td>\n",
       "      <td>NaN</td>\n",
       "      <td>MONTGOMERY COLLEGE-PHONE</td>\n",
       "      <td>MD</td>\n",
       "      <td>20850.0</td>\n",
       "      <td>P</td>\n",
       "      <td>266.00</td>\n",
       "      <td>0</td>\n",
       "    </tr>\n",
       "    <tr>\n",
       "      <th>262</th>\n",
       "      <td>263</td>\n",
       "      <td>5142257575</td>\n",
       "      <td>2010-01-04</td>\n",
       "      <td>NaN</td>\n",
       "      <td>RETAIL DEBIT ADJUSTMENT</td>\n",
       "      <td>NaN</td>\n",
       "      <td>NaN</td>\n",
       "      <td>P</td>\n",
       "      <td>320.00</td>\n",
       "      <td>0</td>\n",
       "    </tr>\n",
       "    <tr>\n",
       "      <th>272</th>\n",
       "      <td>273</td>\n",
       "      <td>5142124791</td>\n",
       "      <td>2010-01-04</td>\n",
       "      <td>NaN</td>\n",
       "      <td>RETAIL DEBIT ADJUSTMENT</td>\n",
       "      <td>NaN</td>\n",
       "      <td>NaN</td>\n",
       "      <td>P</td>\n",
       "      <td>970.00</td>\n",
       "      <td>0</td>\n",
       "    </tr>\n",
       "    <tr>\n",
       "      <th>400</th>\n",
       "      <td>401</td>\n",
       "      <td>5142276099</td>\n",
       "      <td>2010-01-04</td>\n",
       "      <td>NaN</td>\n",
       "      <td>RETAIL DEBIT ADJUSTMENT</td>\n",
       "      <td>NaN</td>\n",
       "      <td>NaN</td>\n",
       "      <td>P</td>\n",
       "      <td>82.59</td>\n",
       "      <td>0</td>\n",
       "    </tr>\n",
       "    <tr>\n",
       "      <th>476</th>\n",
       "      <td>477</td>\n",
       "      <td>5142267793</td>\n",
       "      <td>2010-01-05</td>\n",
       "      <td>NaN</td>\n",
       "      <td>RETAIL DEBIT ADJUSTMENT</td>\n",
       "      <td>NaN</td>\n",
       "      <td>NaN</td>\n",
       "      <td>P</td>\n",
       "      <td>17.59</td>\n",
       "      <td>0</td>\n",
       "    </tr>\n",
       "  </tbody>\n",
       "</table>\n",
       "</div>"
      ],
      "text/plain": [
       "     Recnum     Cardnum       Date Merchnum         Merch description  \\\n",
       "201     202  5142140436 2010-01-03      NaN  MONTGOMERY COLLEGE-PHONE   \n",
       "262     263  5142257575 2010-01-04      NaN   RETAIL DEBIT ADJUSTMENT   \n",
       "272     273  5142124791 2010-01-04      NaN   RETAIL DEBIT ADJUSTMENT   \n",
       "400     401  5142276099 2010-01-04      NaN   RETAIL DEBIT ADJUSTMENT   \n",
       "476     477  5142267793 2010-01-05      NaN   RETAIL DEBIT ADJUSTMENT   \n",
       "\n",
       "    Merch state  Merch zip Transtype  Amount  Fraud  \n",
       "201          MD    20850.0         P  266.00      0  \n",
       "262         NaN        NaN         P  320.00      0  \n",
       "272         NaN        NaN         P  970.00      0  \n",
       "400         NaN        NaN         P   82.59      0  \n",
       "476         NaN        NaN         P   17.59      0  "
      ]
     },
     "execution_count": 20,
     "metadata": {},
     "output_type": "execute_result"
    }
   ],
   "source": [
    "null_merchnum = mydata[mydata['Merchnum'].isnull()]\n",
    "print(len(null_merchnum))\n",
    "null_merchnum.head()"
   ]
  },
  {
   "cell_type": "markdown",
   "id": "fc66e6d4",
   "metadata": {},
   "source": [
    "Fill the rest of the missing values in with the mode of merch description."
   ]
  },
  {
   "cell_type": "code",
   "execution_count": 21,
   "id": "d34f3e4b",
   "metadata": {},
   "outputs": [],
   "source": [
    "# mode_merchdesc = mydata.groupby('Merch description')['Merchnum'].value_counts().sort_values(ascending=False)\n",
    "# print(mode_merchdesc.head(3))"
   ]
  },
  {
   "cell_type": "code",
   "execution_count": 22,
   "id": "a25878c7",
   "metadata": {},
   "outputs": [],
   "source": [
    "# for index in null_merchnum.index:\n",
    "#         mydata.loc[index,'Merchnum'] = '9900020006406'"
   ]
  },
  {
   "cell_type": "code",
   "execution_count": 23,
   "id": "b477ef86",
   "metadata": {},
   "outputs": [],
   "source": [
    "merchdesc_merchnum = {}\n",
    "for index,merchdesc in mydata[mydata['Merch description'].notnull()]['Merch description'].items():\n",
    "    if merchdesc not in merchdesc_merchnum:\n",
    "        merchdesc_merchnum[merchdesc] = mydata.loc[index, 'Merchnum']"
   ]
  },
  {
   "cell_type": "code",
   "execution_count": 24,
   "id": "2357b3a4",
   "metadata": {},
   "outputs": [],
   "source": [
    "mydata['Merchnum'] = mydata['Merchnum'].fillna(mydata['Merch description'].map(merchdesc_merchnum))"
   ]
  },
  {
   "cell_type": "code",
   "execution_count": 25,
   "id": "b7bf8ae7",
   "metadata": {},
   "outputs": [
    {
     "data": {
      "text/plain": [
       "2094"
      ]
     },
     "execution_count": 25,
     "metadata": {},
     "output_type": "execute_result"
    }
   ],
   "source": [
    "mydata['Merchnum'].isnull().sum()"
   ]
  },
  {
   "cell_type": "markdown",
   "id": "cac42e3a",
   "metadata": {},
   "source": [
    "Fill in missing values with mode of Merch zip."
   ]
  },
  {
   "cell_type": "code",
   "execution_count": 29,
   "id": "cc4d584a",
   "metadata": {},
   "outputs": [],
   "source": [
    "zip_merchnum = {}\n",
    "for index,zip5 in mydata[mydata['Merch zip'].notnull()]['Merch zip'].items():\n",
    "    if zip5 not in zip_merchnum:\n",
    "        zip_merchnum[zip5] = mydata.loc[index, 'Merchnum']"
   ]
  },
  {
   "cell_type": "code",
   "execution_count": 30,
   "id": "6d62d2ef",
   "metadata": {},
   "outputs": [],
   "source": [
    "mydata['Merchnum'] = mydata['Merchnum'].fillna(mydata['Merch zip'].map(zip_merchnum))"
   ]
  },
  {
   "cell_type": "code",
   "execution_count": 31,
   "id": "3105ab68",
   "metadata": {},
   "outputs": [
    {
     "data": {
      "text/plain": [
       "1007"
      ]
     },
     "execution_count": 31,
     "metadata": {},
     "output_type": "execute_result"
    }
   ],
   "source": [
    "mydata['Merchnum'].isnull().sum()"
   ]
  },
  {
   "cell_type": "markdown",
   "id": "fbc5a77c",
   "metadata": {},
   "source": [
    "Fill in missing values with mode of Merch State."
   ]
  },
  {
   "cell_type": "code",
   "execution_count": 32,
   "id": "d17eb647",
   "metadata": {},
   "outputs": [],
   "source": [
    "state_merchnum = {}\n",
    "for index,state in mydata[mydata['Merch state'].notnull()]['Merch state'].items():\n",
    "    if state not in state_merchnum:\n",
    "        state_merchnum[state] = mydata.loc[index, 'Merchnum']"
   ]
  },
  {
   "cell_type": "code",
   "execution_count": 33,
   "id": "dc99a8e3",
   "metadata": {},
   "outputs": [],
   "source": [
    "mydata['Merchnum'] = mydata['Merchnum'].fillna(mydata['Merch state'].map(state_merchnum))"
   ]
  },
  {
   "cell_type": "code",
   "execution_count": 34,
   "id": "d49d91b1",
   "metadata": {},
   "outputs": [
    {
     "data": {
      "text/plain": [
       "416"
      ]
     },
     "execution_count": 34,
     "metadata": {},
     "output_type": "execute_result"
    }
   ],
   "source": [
    "mydata['Merchnum'].isnull().sum()"
   ]
  },
  {
   "cell_type": "markdown",
   "id": "71b613af",
   "metadata": {},
   "source": [
    "Assign unknown to the adjustment transactions."
   ]
  },
  {
   "cell_type": "code",
   "execution_count": 35,
   "id": "6ea797e0",
   "metadata": {},
   "outputs": [],
   "source": [
    "mydata['Merchnum'] = mydata['Merchnum'].mask(mydata['Merch description'] == 'RETAIL CREDIT ADJUSTMENT', 'Unk')\n",
    "mydata['Merchnum'] = mydata['Merchnum'].mask(mydata['Merch description'] == 'RETAIL DEBIT ADJUSTMENT', 'Unk')"
   ]
  },
  {
   "cell_type": "code",
   "execution_count": 36,
   "id": "c77b5ce2",
   "metadata": {},
   "outputs": [
    {
     "data": {
      "text/plain": [
       "416"
      ]
     },
     "execution_count": 36,
     "metadata": {},
     "output_type": "execute_result"
    }
   ],
   "source": [
    "mydata['Merchnum'].isnull().sum()"
   ]
  },
  {
   "cell_type": "markdown",
   "id": "2126ea6a",
   "metadata": {},
   "source": [
    "Fill in any remaining values with Unknown."
   ]
  },
  {
   "cell_type": "code",
   "execution_count": 37,
   "id": "65f13b05",
   "metadata": {},
   "outputs": [],
   "source": [
    "mydata['Merchnum'].fillna('Unk', inplace=True)"
   ]
  },
  {
   "cell_type": "markdown",
   "id": "03f9aaf3",
   "metadata": {},
   "source": [
    "Check to see if there are any missing Merchnum values remaining."
   ]
  },
  {
   "cell_type": "code",
   "execution_count": 38,
   "id": "43ae11c2",
   "metadata": {},
   "outputs": [
    {
     "data": {
      "text/plain": [
       "0"
      ]
     },
     "execution_count": 38,
     "metadata": {},
     "output_type": "execute_result"
    }
   ],
   "source": [
    "mydata['Merchnum'].isnull().sum()"
   ]
  },
  {
   "cell_type": "markdown",
   "id": "1add35a9",
   "metadata": {},
   "source": [
    "### Merch state\n",
    "\n",
    "Clean in this order:\n",
    "- If the record has a zip, use the state for that zip, if known.\n",
    "- If in range 00600-00799, 00900-00999: state=PR\n",
    "- Use the mode of the merchnum or merch description"
   ]
  },
  {
   "cell_type": "markdown",
   "id": "90ad2ba3",
   "metadata": {},
   "source": [
    "Identify the null values:"
   ]
  },
  {
   "cell_type": "code",
   "execution_count": 39,
   "id": "9edeb282",
   "metadata": {},
   "outputs": [
    {
     "name": "stdout",
     "output_type": "stream",
     "text": [
      "Int64Index([  262,   272,   400,   476,   487,   515,   544,   557,   737,\n",
      "              739,\n",
      "            ...\n",
      "            95996, 96303, 96304, 96313, 96345, 96360, 96563, 96603, 96651,\n",
      "            96730],\n",
      "           dtype='int64', length=1020)\n",
      "1020\n"
     ]
    },
    {
     "data": {
      "text/html": [
       "<div>\n",
       "<style scoped>\n",
       "    .dataframe tbody tr th:only-of-type {\n",
       "        vertical-align: middle;\n",
       "    }\n",
       "\n",
       "    .dataframe tbody tr th {\n",
       "        vertical-align: top;\n",
       "    }\n",
       "\n",
       "    .dataframe thead th {\n",
       "        text-align: right;\n",
       "    }\n",
       "</style>\n",
       "<table border=\"1\" class=\"dataframe\">\n",
       "  <thead>\n",
       "    <tr style=\"text-align: right;\">\n",
       "      <th></th>\n",
       "      <th>Recnum</th>\n",
       "      <th>Cardnum</th>\n",
       "      <th>Date</th>\n",
       "      <th>Merchnum</th>\n",
       "      <th>Merch description</th>\n",
       "      <th>Merch state</th>\n",
       "      <th>Merch zip</th>\n",
       "      <th>Transtype</th>\n",
       "      <th>Amount</th>\n",
       "      <th>Fraud</th>\n",
       "    </tr>\n",
       "  </thead>\n",
       "  <tbody>\n",
       "    <tr>\n",
       "      <th>262</th>\n",
       "      <td>263</td>\n",
       "      <td>5142257575</td>\n",
       "      <td>2010-01-04</td>\n",
       "      <td>Unk</td>\n",
       "      <td>RETAIL DEBIT ADJUSTMENT</td>\n",
       "      <td>NaN</td>\n",
       "      <td>NaN</td>\n",
       "      <td>P</td>\n",
       "      <td>320.00</td>\n",
       "      <td>0</td>\n",
       "    </tr>\n",
       "    <tr>\n",
       "      <th>272</th>\n",
       "      <td>273</td>\n",
       "      <td>5142124791</td>\n",
       "      <td>2010-01-04</td>\n",
       "      <td>Unk</td>\n",
       "      <td>RETAIL DEBIT ADJUSTMENT</td>\n",
       "      <td>NaN</td>\n",
       "      <td>NaN</td>\n",
       "      <td>P</td>\n",
       "      <td>970.00</td>\n",
       "      <td>0</td>\n",
       "    </tr>\n",
       "    <tr>\n",
       "      <th>400</th>\n",
       "      <td>401</td>\n",
       "      <td>5142276099</td>\n",
       "      <td>2010-01-04</td>\n",
       "      <td>Unk</td>\n",
       "      <td>RETAIL DEBIT ADJUSTMENT</td>\n",
       "      <td>NaN</td>\n",
       "      <td>NaN</td>\n",
       "      <td>P</td>\n",
       "      <td>82.59</td>\n",
       "      <td>0</td>\n",
       "    </tr>\n",
       "    <tr>\n",
       "      <th>476</th>\n",
       "      <td>477</td>\n",
       "      <td>5142267793</td>\n",
       "      <td>2010-01-05</td>\n",
       "      <td>Unk</td>\n",
       "      <td>RETAIL DEBIT ADJUSTMENT</td>\n",
       "      <td>NaN</td>\n",
       "      <td>NaN</td>\n",
       "      <td>P</td>\n",
       "      <td>17.59</td>\n",
       "      <td>0</td>\n",
       "    </tr>\n",
       "    <tr>\n",
       "      <th>487</th>\n",
       "      <td>488</td>\n",
       "      <td>5142267793</td>\n",
       "      <td>2010-01-05</td>\n",
       "      <td>Unk</td>\n",
       "      <td>RETAIL CREDIT ADJUSTMENT</td>\n",
       "      <td>NaN</td>\n",
       "      <td>NaN</td>\n",
       "      <td>P</td>\n",
       "      <td>19.69</td>\n",
       "      <td>0</td>\n",
       "    </tr>\n",
       "  </tbody>\n",
       "</table>\n",
       "</div>"
      ],
      "text/plain": [
       "     Recnum     Cardnum       Date Merchnum         Merch description  \\\n",
       "262     263  5142257575 2010-01-04      Unk   RETAIL DEBIT ADJUSTMENT   \n",
       "272     273  5142124791 2010-01-04      Unk   RETAIL DEBIT ADJUSTMENT   \n",
       "400     401  5142276099 2010-01-04      Unk   RETAIL DEBIT ADJUSTMENT   \n",
       "476     477  5142267793 2010-01-05      Unk   RETAIL DEBIT ADJUSTMENT   \n",
       "487     488  5142267793 2010-01-05      Unk  RETAIL CREDIT ADJUSTMENT   \n",
       "\n",
       "    Merch state  Merch zip Transtype  Amount  Fraud  \n",
       "262         NaN        NaN         P  320.00      0  \n",
       "272         NaN        NaN         P  970.00      0  \n",
       "400         NaN        NaN         P   82.59      0  \n",
       "476         NaN        NaN         P   17.59      0  \n",
       "487         NaN        NaN         P   19.69      0  "
      ]
     },
     "execution_count": 39,
     "metadata": {},
     "output_type": "execute_result"
    }
   ],
   "source": [
    "null_state = mydata[mydata['Merch state'].isnull()]\n",
    "print(null_state.index)\n",
    "print(len(null_state))\n",
    "null_state.head()"
   ]
  },
  {
   "cell_type": "markdown",
   "id": "f5398e1f",
   "metadata": {},
   "source": [
    "#### Records that have a zip."
   ]
  },
  {
   "cell_type": "code",
   "execution_count": 40,
   "id": "6cb05487",
   "metadata": {},
   "outputs": [
    {
     "name": "stdout",
     "output_type": "stream",
     "text": [
      "Int64Index([ 3258,  3262,  3540,  3642,  4969,  5229,  5636,  5900,  6030,\n",
      "             6136, 12152, 13558, 15019, 15124, 19330, 23374, 23490, 23620,\n",
      "            24185, 24226, 24283, 24297, 25271, 25442, 25487, 26816, 26922,\n",
      "            31712, 36538, 36789, 38034, 39023, 41267, 43466, 44407, 44563,\n",
      "            46054, 47198, 50127, 51057, 51883, 52186, 56632, 56943, 57296,\n",
      "            57661, 57794, 57981, 58138, 59094, 59270, 59479, 59582, 59825,\n",
      "            59832, 59908, 60003, 60035, 60168, 60207, 60243, 60338, 60596,\n",
      "            60901, 61417, 61430, 62420, 62657, 64882, 65084, 66157, 66182,\n",
      "            66252, 69422, 70551, 70588, 72400, 72447, 73628, 74805, 77608,\n",
      "            82782, 83272, 83425, 83454, 86405, 90259],\n",
      "           dtype='int64')\n",
      "87\n"
     ]
    },
    {
     "data": {
      "text/html": [
       "<div>\n",
       "<style scoped>\n",
       "    .dataframe tbody tr th:only-of-type {\n",
       "        vertical-align: middle;\n",
       "    }\n",
       "\n",
       "    .dataframe tbody tr th {\n",
       "        vertical-align: top;\n",
       "    }\n",
       "\n",
       "    .dataframe thead th {\n",
       "        text-align: right;\n",
       "    }\n",
       "</style>\n",
       "<table border=\"1\" class=\"dataframe\">\n",
       "  <thead>\n",
       "    <tr style=\"text-align: right;\">\n",
       "      <th></th>\n",
       "      <th>Recnum</th>\n",
       "      <th>Cardnum</th>\n",
       "      <th>Date</th>\n",
       "      <th>Merchnum</th>\n",
       "      <th>Merch description</th>\n",
       "      <th>Merch state</th>\n",
       "      <th>Merch zip</th>\n",
       "      <th>Transtype</th>\n",
       "      <th>Amount</th>\n",
       "      <th>Fraud</th>\n",
       "    </tr>\n",
       "  </thead>\n",
       "  <tbody>\n",
       "    <tr>\n",
       "      <th>3258</th>\n",
       "      <td>3259</td>\n",
       "      <td>5142153880</td>\n",
       "      <td>2010-01-14</td>\n",
       "      <td>582582822587</td>\n",
       "      <td>DIGITAL TECHNOLOGY CONTRA</td>\n",
       "      <td>NaN</td>\n",
       "      <td>926.0</td>\n",
       "      <td>P</td>\n",
       "      <td>2340.0</td>\n",
       "      <td>0</td>\n",
       "    </tr>\n",
       "    <tr>\n",
       "      <th>3262</th>\n",
       "      <td>3263</td>\n",
       "      <td>5142154098</td>\n",
       "      <td>2010-01-14</td>\n",
       "      <td>582582822587</td>\n",
       "      <td>DIGITAL TECHNOLOGY CONTRA</td>\n",
       "      <td>NaN</td>\n",
       "      <td>926.0</td>\n",
       "      <td>P</td>\n",
       "      <td>2387.0</td>\n",
       "      <td>0</td>\n",
       "    </tr>\n",
       "    <tr>\n",
       "      <th>3540</th>\n",
       "      <td>3541</td>\n",
       "      <td>5142154098</td>\n",
       "      <td>2010-01-17</td>\n",
       "      <td>582582822587</td>\n",
       "      <td>DIGITAL TECHNOLOGY CONTRA</td>\n",
       "      <td>NaN</td>\n",
       "      <td>926.0</td>\n",
       "      <td>P</td>\n",
       "      <td>2300.0</td>\n",
       "      <td>0</td>\n",
       "    </tr>\n",
       "    <tr>\n",
       "      <th>3642</th>\n",
       "      <td>3643</td>\n",
       "      <td>5142153880</td>\n",
       "      <td>2010-01-17</td>\n",
       "      <td>582582822587</td>\n",
       "      <td>DIGITAL TECHNOLOGY CONTRA</td>\n",
       "      <td>NaN</td>\n",
       "      <td>926.0</td>\n",
       "      <td>P</td>\n",
       "      <td>2500.0</td>\n",
       "      <td>0</td>\n",
       "    </tr>\n",
       "    <tr>\n",
       "      <th>4969</th>\n",
       "      <td>4970</td>\n",
       "      <td>5142194136</td>\n",
       "      <td>2010-01-24</td>\n",
       "      <td>597597721468</td>\n",
       "      <td>CRISTALIA ACQUISITION COR</td>\n",
       "      <td>NaN</td>\n",
       "      <td>929.0</td>\n",
       "      <td>P</td>\n",
       "      <td>83.0</td>\n",
       "      <td>0</td>\n",
       "    </tr>\n",
       "  </tbody>\n",
       "</table>\n",
       "</div>"
      ],
      "text/plain": [
       "      Recnum     Cardnum       Date      Merchnum          Merch description  \\\n",
       "3258    3259  5142153880 2010-01-14  582582822587  DIGITAL TECHNOLOGY CONTRA   \n",
       "3262    3263  5142154098 2010-01-14  582582822587  DIGITAL TECHNOLOGY CONTRA   \n",
       "3540    3541  5142154098 2010-01-17  582582822587  DIGITAL TECHNOLOGY CONTRA   \n",
       "3642    3643  5142153880 2010-01-17  582582822587  DIGITAL TECHNOLOGY CONTRA   \n",
       "4969    4970  5142194136 2010-01-24  597597721468  CRISTALIA ACQUISITION COR   \n",
       "\n",
       "     Merch state  Merch zip Transtype  Amount  Fraud  \n",
       "3258         NaN      926.0         P  2340.0      0  \n",
       "3262         NaN      926.0         P  2387.0      0  \n",
       "3540         NaN      926.0         P  2300.0      0  \n",
       "3642         NaN      926.0         P  2500.0      0  \n",
       "4969         NaN      929.0         P    83.0      0  "
      ]
     },
     "execution_count": 40,
     "metadata": {},
     "output_type": "execute_result"
    }
   ],
   "source": [
    "null_state_has_zip = null_state[null_state['Merch zip'].notnull()]\n",
    "print(null_state_has_zip.index)\n",
    "print(len(null_state_has_zip))\n",
    "null_state_has_zip.head()"
   ]
  },
  {
   "cell_type": "markdown",
   "id": "f218890c",
   "metadata": {},
   "source": [
    "Fill these state values in based on their zip. Start first with the PR zip codes."
   ]
  },
  {
   "cell_type": "code",
   "execution_count": 41,
   "id": "5d430bc6",
   "metadata": {},
   "outputs": [],
   "source": [
    "for index in null_state_has_zip.index:\n",
    "    if ((mydata.loc[index,'Merch zip'] >= 600) & (mydata.loc[index,'Merch zip'] <= 799)) | ((mydata.loc[index,'Merch zip'] >= 900)&(mydata.loc[index,'Merch zip'] <= 999)):\n",
    "        mydata.loc[index,'Merch state'] = 'PR'"
   ]
  },
  {
   "cell_type": "code",
   "execution_count": 42,
   "id": "8bce2303",
   "metadata": {},
   "outputs": [
    {
     "data": {
      "text/plain": [
       "'PR'"
      ]
     },
     "execution_count": 42,
     "metadata": {},
     "output_type": "execute_result"
    }
   ],
   "source": [
    "mydata.loc[3258,'Merch state']"
   ]
  },
  {
   "cell_type": "markdown",
   "id": "a5049778",
   "metadata": {},
   "source": [
    "Now the non PR zip codes."
   ]
  },
  {
   "cell_type": "code",
   "execution_count": 43,
   "id": "02008213",
   "metadata": {},
   "outputs": [
    {
     "name": "stdout",
     "output_type": "stream",
     "text": [
      "Int64Index([ 5900,  6136, 12152, 13558, 15019, 15124, 19330, 23374, 23490,\n",
      "            26816, 36538, 36789, 38034, 39023, 43466, 44407, 44563, 46054,\n",
      "            47198, 50127, 51057, 51883, 52186, 57296, 57661, 59832, 60003,\n",
      "            60035, 60901, 62657, 65084, 66157, 66182, 66252, 69422, 70551,\n",
      "            70588, 72400, 72447, 73628, 74805, 77608, 82782, 83272, 83425,\n",
      "            83454, 90259],\n",
      "           dtype='int64')\n"
     ]
    },
    {
     "data": {
      "text/html": [
       "<div>\n",
       "<style scoped>\n",
       "    .dataframe tbody tr th:only-of-type {\n",
       "        vertical-align: middle;\n",
       "    }\n",
       "\n",
       "    .dataframe tbody tr th {\n",
       "        vertical-align: top;\n",
       "    }\n",
       "\n",
       "    .dataframe thead th {\n",
       "        text-align: right;\n",
       "    }\n",
       "</style>\n",
       "<table border=\"1\" class=\"dataframe\">\n",
       "  <thead>\n",
       "    <tr style=\"text-align: right;\">\n",
       "      <th></th>\n",
       "      <th>Recnum</th>\n",
       "      <th>Cardnum</th>\n",
       "      <th>Date</th>\n",
       "      <th>Merchnum</th>\n",
       "      <th>Merch description</th>\n",
       "      <th>Merch state</th>\n",
       "      <th>Merch zip</th>\n",
       "      <th>Transtype</th>\n",
       "      <th>Amount</th>\n",
       "      <th>Fraud</th>\n",
       "    </tr>\n",
       "  </thead>\n",
       "  <tbody>\n",
       "    <tr>\n",
       "      <th>5900</th>\n",
       "      <td>5901</td>\n",
       "      <td>5142190418</td>\n",
       "      <td>2010-01-27</td>\n",
       "      <td>Unk</td>\n",
       "      <td>ATOMIC ENERGY AGENCY</td>\n",
       "      <td>NaN</td>\n",
       "      <td>1400.0</td>\n",
       "      <td>P</td>\n",
       "      <td>40.00</td>\n",
       "      <td>0</td>\n",
       "    </tr>\n",
       "    <tr>\n",
       "      <th>6136</th>\n",
       "      <td>6137</td>\n",
       "      <td>5142272703</td>\n",
       "      <td>2010-01-27</td>\n",
       "      <td>Unk</td>\n",
       "      <td>SHENAV HADRAHOT</td>\n",
       "      <td>NaN</td>\n",
       "      <td>65132.0</td>\n",
       "      <td>P</td>\n",
       "      <td>199.00</td>\n",
       "      <td>0</td>\n",
       "    </tr>\n",
       "    <tr>\n",
       "      <th>12152</th>\n",
       "      <td>12153</td>\n",
       "      <td>5142214551</td>\n",
       "      <td>2010-02-18</td>\n",
       "      <td>62074800</td>\n",
       "      <td>ECOMED VERLAGSGESELLSCHAF</td>\n",
       "      <td>NaN</td>\n",
       "      <td>86899.0</td>\n",
       "      <td>P</td>\n",
       "      <td>499.15</td>\n",
       "      <td>0</td>\n",
       "    </tr>\n",
       "    <tr>\n",
       "      <th>13558</th>\n",
       "      <td>13559</td>\n",
       "      <td>5142190147</td>\n",
       "      <td>2010-02-25</td>\n",
       "      <td>2582360</td>\n",
       "      <td>UABCS</td>\n",
       "      <td>NaN</td>\n",
       "      <td>23080.0</td>\n",
       "      <td>P</td>\n",
       "      <td>1748.25</td>\n",
       "      <td>0</td>\n",
       "    </tr>\n",
       "    <tr>\n",
       "      <th>15019</th>\n",
       "      <td>15020</td>\n",
       "      <td>5142227402</td>\n",
       "      <td>2010-03-02</td>\n",
       "      <td>Unk</td>\n",
       "      <td>SCANDINAVIAN1175745333760</td>\n",
       "      <td>NaN</td>\n",
       "      <td>60528.0</td>\n",
       "      <td>P</td>\n",
       "      <td>1867.58</td>\n",
       "      <td>0</td>\n",
       "    </tr>\n",
       "  </tbody>\n",
       "</table>\n",
       "</div>"
      ],
      "text/plain": [
       "       Recnum     Cardnum       Date  Merchnum          Merch description  \\\n",
       "5900     5901  5142190418 2010-01-27       Unk       ATOMIC ENERGY AGENCY   \n",
       "6136     6137  5142272703 2010-01-27       Unk            SHENAV HADRAHOT   \n",
       "12152   12153  5142214551 2010-02-18  62074800  ECOMED VERLAGSGESELLSCHAF   \n",
       "13558   13559  5142190147 2010-02-25   2582360                      UABCS   \n",
       "15019   15020  5142227402 2010-03-02       Unk  SCANDINAVIAN1175745333760   \n",
       "\n",
       "      Merch state  Merch zip Transtype   Amount  Fraud  \n",
       "5900          NaN     1400.0         P    40.00      0  \n",
       "6136          NaN    65132.0         P   199.00      0  \n",
       "12152         NaN    86899.0         P   499.15      0  \n",
       "13558         NaN    23080.0         P  1748.25      0  \n",
       "15019         NaN    60528.0         P  1867.58      0  "
      ]
     },
     "execution_count": 43,
     "metadata": {},
     "output_type": "execute_result"
    }
   ],
   "source": [
    "null_state_has_zip_nonPR = null_state_has_zip[(null_state_has_zip['Merch zip'] < 600)|\n",
    "                   ((null_state_has_zip['Merch zip'] > 799) & (null_state_has_zip['Merch zip'] < 900))|\n",
    "                   (null_state_has_zip['Merch zip'] > 999)]\n",
    "print(null_state_has_zip_nonPR.index)\n",
    "null_state_has_zip_nonPR.head()"
   ]
  },
  {
   "cell_type": "code",
   "execution_count": 44,
   "id": "175310d3",
   "metadata": {},
   "outputs": [
    {
     "data": {
      "text/plain": [
       "6.0        5\n",
       "12108.0    5\n",
       "9.0        4\n",
       "60528.0    4\n",
       "2.0        4\n",
       "86899.0    3\n",
       "38117.0    3\n",
       "23080.0    2\n",
       "1.0        2\n",
       "801.0      2\n",
       "48700.0    2\n",
       "90805.0    2\n",
       "31040.0    1\n",
       "76302.0    1\n",
       "65132.0    1\n",
       "50823.0    1\n",
       "3.0        1\n",
       "95461.0    1\n",
       "8.0        1\n",
       "1400.0     1\n",
       "41160.0    1\n",
       "Name: Merch zip, dtype: int64"
      ]
     },
     "execution_count": 44,
     "metadata": {},
     "output_type": "execute_result"
    }
   ],
   "source": [
    "null_state_has_zip_nonPR['Merch zip'].value_counts()"
   ]
  },
  {
   "cell_type": "markdown",
   "id": "9c578c00",
   "metadata": {},
   "source": [
    "With the list of zip codes, we will fill the state values in manually now. I verified the zip codes on the USPS website. If USPS said \"invalid zip code,\" we will put the Merch state as the mode of Merch description."
   ]
  },
  {
   "cell_type": "code",
   "execution_count": 45,
   "id": "550a56c9",
   "metadata": {},
   "outputs": [],
   "source": [
    "for index in null_state_has_zip_nonPR.index:\n",
    "    if (mydata.loc[index,'Merch zip'] == 12108.0):\n",
    "        # Lake Pleasent, NY\n",
    "        mydata.loc[index,'Merch state'] = 'NY'\n",
    "    elif (mydata.loc[index,'Merch zip'] == 38117.0):\n",
    "        # Memphis, TN\n",
    "        mydata.loc[index,'Merch state'] = 'TN'    \n",
    "    elif (mydata.loc[index,'Merch zip'] == 90805.0):\n",
    "        # Long Beach/Lakewood, CA\n",
    "        mydata.loc[index,'Merch state'] = 'CA'\n",
    "    elif (mydata.loc[index,'Merch zip'] == 31040.0):\n",
    "        # Dublin, GA\n",
    "        mydata.loc[index,'Merch state'] = 'GA'        \n",
    "    elif (mydata.loc[index,'Merch zip'] == 76302.0):\n",
    "        # Wichita Falls, TX\n",
    "        mydata.loc[index,'Merch state'] = 'TX'        \n",
    "    elif (mydata.loc[index,'Merch zip'] == 95461.0):\n",
    "        # Middletown/Loch Lomond, CA\n",
    "        mydata.loc[index,'Merch state'] = 'CA'\n",
    "    elif (mydata.loc[index,'Merch zip'] == 41160.0):\n",
    "        # Mazie, KY\n",
    "        mydata.loc[index,'Merch state'] = 'KY'"
   ]
  },
  {
   "cell_type": "markdown",
   "id": "cd143447",
   "metadata": {},
   "source": [
    "#### Transactions that do not have a zip code.\n",
    "\n",
    "Need to update our list of null states."
   ]
  },
  {
   "cell_type": "code",
   "execution_count": 46,
   "id": "b6edc694",
   "metadata": {},
   "outputs": [
    {
     "name": "stdout",
     "output_type": "stream",
     "text": [
      "Int64Index([  262,   272,   400,   476,   487,   515,   544,   557,   737,\n",
      "              739,\n",
      "            ...\n",
      "            95996, 96303, 96304, 96313, 96345, 96360, 96563, 96603, 96651,\n",
      "            96730],\n",
      "           dtype='int64', length=966)\n",
      "966\n"
     ]
    },
    {
     "data": {
      "text/html": [
       "<div>\n",
       "<style scoped>\n",
       "    .dataframe tbody tr th:only-of-type {\n",
       "        vertical-align: middle;\n",
       "    }\n",
       "\n",
       "    .dataframe tbody tr th {\n",
       "        vertical-align: top;\n",
       "    }\n",
       "\n",
       "    .dataframe thead th {\n",
       "        text-align: right;\n",
       "    }\n",
       "</style>\n",
       "<table border=\"1\" class=\"dataframe\">\n",
       "  <thead>\n",
       "    <tr style=\"text-align: right;\">\n",
       "      <th></th>\n",
       "      <th>Recnum</th>\n",
       "      <th>Cardnum</th>\n",
       "      <th>Date</th>\n",
       "      <th>Merchnum</th>\n",
       "      <th>Merch description</th>\n",
       "      <th>Merch state</th>\n",
       "      <th>Merch zip</th>\n",
       "      <th>Transtype</th>\n",
       "      <th>Amount</th>\n",
       "      <th>Fraud</th>\n",
       "    </tr>\n",
       "  </thead>\n",
       "  <tbody>\n",
       "    <tr>\n",
       "      <th>262</th>\n",
       "      <td>263</td>\n",
       "      <td>5142257575</td>\n",
       "      <td>2010-01-04</td>\n",
       "      <td>Unk</td>\n",
       "      <td>RETAIL DEBIT ADJUSTMENT</td>\n",
       "      <td>NaN</td>\n",
       "      <td>NaN</td>\n",
       "      <td>P</td>\n",
       "      <td>320.00</td>\n",
       "      <td>0</td>\n",
       "    </tr>\n",
       "    <tr>\n",
       "      <th>272</th>\n",
       "      <td>273</td>\n",
       "      <td>5142124791</td>\n",
       "      <td>2010-01-04</td>\n",
       "      <td>Unk</td>\n",
       "      <td>RETAIL DEBIT ADJUSTMENT</td>\n",
       "      <td>NaN</td>\n",
       "      <td>NaN</td>\n",
       "      <td>P</td>\n",
       "      <td>970.00</td>\n",
       "      <td>0</td>\n",
       "    </tr>\n",
       "    <tr>\n",
       "      <th>400</th>\n",
       "      <td>401</td>\n",
       "      <td>5142276099</td>\n",
       "      <td>2010-01-04</td>\n",
       "      <td>Unk</td>\n",
       "      <td>RETAIL DEBIT ADJUSTMENT</td>\n",
       "      <td>NaN</td>\n",
       "      <td>NaN</td>\n",
       "      <td>P</td>\n",
       "      <td>82.59</td>\n",
       "      <td>0</td>\n",
       "    </tr>\n",
       "    <tr>\n",
       "      <th>476</th>\n",
       "      <td>477</td>\n",
       "      <td>5142267793</td>\n",
       "      <td>2010-01-05</td>\n",
       "      <td>Unk</td>\n",
       "      <td>RETAIL DEBIT ADJUSTMENT</td>\n",
       "      <td>NaN</td>\n",
       "      <td>NaN</td>\n",
       "      <td>P</td>\n",
       "      <td>17.59</td>\n",
       "      <td>0</td>\n",
       "    </tr>\n",
       "    <tr>\n",
       "      <th>487</th>\n",
       "      <td>488</td>\n",
       "      <td>5142267793</td>\n",
       "      <td>2010-01-05</td>\n",
       "      <td>Unk</td>\n",
       "      <td>RETAIL CREDIT ADJUSTMENT</td>\n",
       "      <td>NaN</td>\n",
       "      <td>NaN</td>\n",
       "      <td>P</td>\n",
       "      <td>19.69</td>\n",
       "      <td>0</td>\n",
       "    </tr>\n",
       "  </tbody>\n",
       "</table>\n",
       "</div>"
      ],
      "text/plain": [
       "     Recnum     Cardnum       Date Merchnum         Merch description  \\\n",
       "262     263  5142257575 2010-01-04      Unk   RETAIL DEBIT ADJUSTMENT   \n",
       "272     273  5142124791 2010-01-04      Unk   RETAIL DEBIT ADJUSTMENT   \n",
       "400     401  5142276099 2010-01-04      Unk   RETAIL DEBIT ADJUSTMENT   \n",
       "476     477  5142267793 2010-01-05      Unk   RETAIL DEBIT ADJUSTMENT   \n",
       "487     488  5142267793 2010-01-05      Unk  RETAIL CREDIT ADJUSTMENT   \n",
       "\n",
       "    Merch state  Merch zip Transtype  Amount  Fraud  \n",
       "262         NaN        NaN         P  320.00      0  \n",
       "272         NaN        NaN         P  970.00      0  \n",
       "400         NaN        NaN         P   82.59      0  \n",
       "476         NaN        NaN         P   17.59      0  \n",
       "487         NaN        NaN         P   19.69      0  "
      ]
     },
     "execution_count": 46,
     "metadata": {},
     "output_type": "execute_result"
    }
   ],
   "source": [
    "null_state = mydata[mydata['Merch state'].isnull()]\n",
    "print(null_state.index)\n",
    "print(len(null_state))\n",
    "null_state.head()"
   ]
  },
  {
   "cell_type": "markdown",
   "id": "b046a8fd",
   "metadata": {},
   "source": [
    "Let's fill in these state values with the mode of the merch description."
   ]
  },
  {
   "cell_type": "code",
   "execution_count": 47,
   "id": "3abe4bda",
   "metadata": {},
   "outputs": [],
   "source": [
    "merchdesc_state = {}\n",
    "for index,merchdesc in mydata[mydata['Merch description'].notnull()]['Merch description'].items():\n",
    "    if merchdesc not in merchdesc_state:\n",
    "        merchdesc_state[merchdesc] = mydata.loc[index,'Merch state']"
   ]
  },
  {
   "cell_type": "markdown",
   "id": "b06245b6",
   "metadata": {},
   "source": [
    "To fill even more missing values, let's do the same process above but for merchant number now."
   ]
  },
  {
   "cell_type": "code",
   "execution_count": 48,
   "id": "b7974d1a",
   "metadata": {},
   "outputs": [],
   "source": [
    "merchnum_state = {}\n",
    "for index,merchnum in mydata[mydata['Merchnum'].notnull()]['Merchnum'].items():\n",
    "    if merchnum not in merchnum_state:\n",
    "        merchnum_state[merchnum] = mydata.loc[index,'Merch state']"
   ]
  },
  {
   "cell_type": "markdown",
   "id": "9bee6190",
   "metadata": {},
   "source": [
    "Fill in the missing merchant state values by mapping."
   ]
  },
  {
   "cell_type": "code",
   "execution_count": 50,
   "id": "a26dc801",
   "metadata": {},
   "outputs": [],
   "source": [
    "mydata['Merch state'] = mydata['Merch state'].fillna(mydata['Merch description'].map(merchdesc_state))\n",
    "mydata['Merch state'] = mydata['Merch state'].fillna(mydata['Merchnum'].map(merchnum_state))"
   ]
  },
  {
   "cell_type": "markdown",
   "id": "8cbe5883",
   "metadata": {},
   "source": [
    "Check to see if there are any null values left in Merch State."
   ]
  },
  {
   "cell_type": "code",
   "execution_count": 51,
   "id": "36555dfd",
   "metadata": {},
   "outputs": [
    {
     "data": {
      "text/plain": [
       "950"
      ]
     },
     "execution_count": 51,
     "metadata": {},
     "output_type": "execute_result"
    }
   ],
   "source": [
    "mydata['Merch state'].isnull().sum()"
   ]
  },
  {
   "cell_type": "markdown",
   "id": "484d16bd",
   "metadata": {},
   "source": [
    "Assign unknown to the adjustment transactions."
   ]
  },
  {
   "cell_type": "code",
   "execution_count": 52,
   "id": "d6905c7b",
   "metadata": {},
   "outputs": [],
   "source": [
    "mydata['Merch state'] = mydata['Merch state'].mask(mydata['Merch description'] == 'RETAIL CREDIT ADJUSTMENT', 'Unk')\n",
    "mydata['Merch state'] = mydata['Merch state'].mask(mydata['Merch description'] == 'RETAIL DEBIT ADJUSTMENT', 'Unk')\n",
    "                                                                 "
   ]
  },
  {
   "cell_type": "markdown",
   "id": "94603ca1",
   "metadata": {},
   "source": [
    "Check to see if there are any null values left in Merch State."
   ]
  },
  {
   "cell_type": "code",
   "execution_count": 53,
   "id": "3aeaba6a",
   "metadata": {},
   "outputs": [
    {
     "data": {
      "text/plain": [
       "298"
      ]
     },
     "execution_count": 53,
     "metadata": {},
     "output_type": "execute_result"
    }
   ],
   "source": [
    "mydata['Merch state'].isnull().sum()"
   ]
  },
  {
   "cell_type": "markdown",
   "id": "07f66523",
   "metadata": {},
   "source": [
    "Fill in the missing values with Unknown."
   ]
  },
  {
   "cell_type": "code",
   "execution_count": 54,
   "id": "e8155687",
   "metadata": {},
   "outputs": [],
   "source": [
    "mydata['Merch state'].fillna('Unk', inplace=True)"
   ]
  },
  {
   "cell_type": "code",
   "execution_count": 55,
   "id": "be49c7a0",
   "metadata": {},
   "outputs": [
    {
     "data": {
      "text/plain": [
       "0"
      ]
     },
     "execution_count": 55,
     "metadata": {},
     "output_type": "execute_result"
    }
   ],
   "source": [
    "mydata['Merch state'].isnull().sum()"
   ]
  },
  {
   "cell_type": "markdown",
   "id": "94397a98",
   "metadata": {},
   "source": [
    "### Merch zip"
   ]
  },
  {
   "cell_type": "code",
   "execution_count": 56,
   "id": "98b106db",
   "metadata": {},
   "outputs": [
    {
     "name": "stdout",
     "output_type": "stream",
     "text": [
      "Int64Index([   51,    54,    55,    58,    59,    60,    61,    62,    64,\n",
      "               65,\n",
      "            ...\n",
      "            96590, 96601, 96603, 96627, 96647, 96651, 96668, 96720, 96730,\n",
      "            96734],\n",
      "           dtype='int64', length=4300)\n",
      "4300\n"
     ]
    },
    {
     "data": {
      "text/html": [
       "<div>\n",
       "<style scoped>\n",
       "    .dataframe tbody tr th:only-of-type {\n",
       "        vertical-align: middle;\n",
       "    }\n",
       "\n",
       "    .dataframe tbody tr th {\n",
       "        vertical-align: top;\n",
       "    }\n",
       "\n",
       "    .dataframe thead th {\n",
       "        text-align: right;\n",
       "    }\n",
       "</style>\n",
       "<table border=\"1\" class=\"dataframe\">\n",
       "  <thead>\n",
       "    <tr style=\"text-align: right;\">\n",
       "      <th></th>\n",
       "      <th>Recnum</th>\n",
       "      <th>Cardnum</th>\n",
       "      <th>Date</th>\n",
       "      <th>Merchnum</th>\n",
       "      <th>Merch description</th>\n",
       "      <th>Merch state</th>\n",
       "      <th>Merch zip</th>\n",
       "      <th>Transtype</th>\n",
       "      <th>Amount</th>\n",
       "      <th>Fraud</th>\n",
       "    </tr>\n",
       "  </thead>\n",
       "  <tbody>\n",
       "    <tr>\n",
       "      <th>51</th>\n",
       "      <td>52</td>\n",
       "      <td>5142204384</td>\n",
       "      <td>2010-01-02</td>\n",
       "      <td>5000006000095</td>\n",
       "      <td>IBM INTERNET  01000025</td>\n",
       "      <td>NY</td>\n",
       "      <td>NaN</td>\n",
       "      <td>P</td>\n",
       "      <td>20.15</td>\n",
       "      <td>0</td>\n",
       "    </tr>\n",
       "    <tr>\n",
       "      <th>54</th>\n",
       "      <td>55</td>\n",
       "      <td>5142146340</td>\n",
       "      <td>2010-01-02</td>\n",
       "      <td>5000006000095</td>\n",
       "      <td>IBM INTERNET  01000025</td>\n",
       "      <td>NY</td>\n",
       "      <td>NaN</td>\n",
       "      <td>P</td>\n",
       "      <td>23.90</td>\n",
       "      <td>0</td>\n",
       "    </tr>\n",
       "    <tr>\n",
       "      <th>55</th>\n",
       "      <td>56</td>\n",
       "      <td>5142260984</td>\n",
       "      <td>2010-01-02</td>\n",
       "      <td>5000006000095</td>\n",
       "      <td>IBM INTERNET  01000025</td>\n",
       "      <td>NY</td>\n",
       "      <td>NaN</td>\n",
       "      <td>P</td>\n",
       "      <td>19.95</td>\n",
       "      <td>0</td>\n",
       "    </tr>\n",
       "    <tr>\n",
       "      <th>58</th>\n",
       "      <td>59</td>\n",
       "      <td>5142204384</td>\n",
       "      <td>2010-01-02</td>\n",
       "      <td>5000006000095</td>\n",
       "      <td>IBM INTERNET  01000025</td>\n",
       "      <td>NY</td>\n",
       "      <td>NaN</td>\n",
       "      <td>P</td>\n",
       "      <td>20.15</td>\n",
       "      <td>0</td>\n",
       "    </tr>\n",
       "    <tr>\n",
       "      <th>59</th>\n",
       "      <td>60</td>\n",
       "      <td>5142204384</td>\n",
       "      <td>2010-01-02</td>\n",
       "      <td>5000006000095</td>\n",
       "      <td>IBM INTERNET  01000025</td>\n",
       "      <td>NY</td>\n",
       "      <td>NaN</td>\n",
       "      <td>P</td>\n",
       "      <td>20.15</td>\n",
       "      <td>0</td>\n",
       "    </tr>\n",
       "  </tbody>\n",
       "</table>\n",
       "</div>"
      ],
      "text/plain": [
       "    Recnum     Cardnum       Date       Merchnum       Merch description  \\\n",
       "51      52  5142204384 2010-01-02  5000006000095  IBM INTERNET  01000025   \n",
       "54      55  5142146340 2010-01-02  5000006000095  IBM INTERNET  01000025   \n",
       "55      56  5142260984 2010-01-02  5000006000095  IBM INTERNET  01000025   \n",
       "58      59  5142204384 2010-01-02  5000006000095  IBM INTERNET  01000025   \n",
       "59      60  5142204384 2010-01-02  5000006000095  IBM INTERNET  01000025   \n",
       "\n",
       "   Merch state  Merch zip Transtype  Amount  Fraud  \n",
       "51          NY        NaN         P   20.15      0  \n",
       "54          NY        NaN         P   23.90      0  \n",
       "55          NY        NaN         P   19.95      0  \n",
       "58          NY        NaN         P   20.15      0  \n",
       "59          NY        NaN         P   20.15      0  "
      ]
     },
     "execution_count": 56,
     "metadata": {},
     "output_type": "execute_result"
    }
   ],
   "source": [
    "null_zip = mydata[mydata['Merch zip'].isnull()]\n",
    "print(null_zip.index)\n",
    "print(len(null_zip))\n",
    "null_zip.head()"
   ]
  },
  {
   "cell_type": "markdown",
   "id": "6dab57e1",
   "metadata": {},
   "source": [
    "None of the records missing their zip code are also missing their states (we already filled in the states."
   ]
  },
  {
   "cell_type": "code",
   "execution_count": 57,
   "id": "d7b90502",
   "metadata": {},
   "outputs": [
    {
     "data": {
      "text/plain": [
       "0"
      ]
     },
     "execution_count": 57,
     "metadata": {},
     "output_type": "execute_result"
    }
   ],
   "source": [
    "null_zip['Merch state'].isnull().sum()"
   ]
  },
  {
   "cell_type": "code",
   "execution_count": 58,
   "id": "2cc8fb85",
   "metadata": {},
   "outputs": [
    {
     "data": {
      "text/plain": [
       "VA     1090\n",
       "Unk     961\n",
       "NY      314\n",
       "MD      247\n",
       "GA      221\n",
       "Name: Merch state, dtype: int64"
      ]
     },
     "execution_count": 58,
     "metadata": {},
     "output_type": "execute_result"
    }
   ],
   "source": [
    "null_zip['Merch state'].value_counts().head()"
   ]
  },
  {
   "cell_type": "markdown",
   "id": "c85d3881",
   "metadata": {},
   "source": [
    "Fill missing values using the mode of merchant number."
   ]
  },
  {
   "cell_type": "code",
   "execution_count": 61,
   "id": "6d72dca6",
   "metadata": {},
   "outputs": [],
   "source": [
    "merchnum_zip = {}\n",
    "for index, merchnum in mydata[mydata['Merchnum'].notnull()]['Merchnum'].items():\n",
    "    if merchnum not in merchnum_zip:\n",
    "        merchnum_zip[merchnum] = mydata.loc[index, 'Merch zip']"
   ]
  },
  {
   "cell_type": "code",
   "execution_count": 62,
   "id": "fdff1a20",
   "metadata": {},
   "outputs": [],
   "source": [
    "mydata['Merch zip'] = mydata['Merch zip'].fillna(mydata['Merchnum'].map(merchnum_zip))"
   ]
  },
  {
   "cell_type": "code",
   "execution_count": 63,
   "id": "708a9e89",
   "metadata": {},
   "outputs": [
    {
     "name": "stdout",
     "output_type": "stream",
     "text": [
      "Int64Index([   51,    54,    55,    58,    59,    60,    61,    62,    64,\n",
      "               65,\n",
      "            ...\n",
      "            96434, 96545, 96563, 96603, 96647, 96651, 96668, 96720, 96730,\n",
      "            96734],\n",
      "           dtype='int64', length=2412)\n",
      "2412\n"
     ]
    },
    {
     "data": {
      "text/html": [
       "<div>\n",
       "<style scoped>\n",
       "    .dataframe tbody tr th:only-of-type {\n",
       "        vertical-align: middle;\n",
       "    }\n",
       "\n",
       "    .dataframe tbody tr th {\n",
       "        vertical-align: top;\n",
       "    }\n",
       "\n",
       "    .dataframe thead th {\n",
       "        text-align: right;\n",
       "    }\n",
       "</style>\n",
       "<table border=\"1\" class=\"dataframe\">\n",
       "  <thead>\n",
       "    <tr style=\"text-align: right;\">\n",
       "      <th></th>\n",
       "      <th>Recnum</th>\n",
       "      <th>Cardnum</th>\n",
       "      <th>Date</th>\n",
       "      <th>Merchnum</th>\n",
       "      <th>Merch description</th>\n",
       "      <th>Merch state</th>\n",
       "      <th>Merch zip</th>\n",
       "      <th>Transtype</th>\n",
       "      <th>Amount</th>\n",
       "      <th>Fraud</th>\n",
       "    </tr>\n",
       "  </thead>\n",
       "  <tbody>\n",
       "    <tr>\n",
       "      <th>51</th>\n",
       "      <td>52</td>\n",
       "      <td>5142204384</td>\n",
       "      <td>2010-01-02</td>\n",
       "      <td>5000006000095</td>\n",
       "      <td>IBM INTERNET  01000025</td>\n",
       "      <td>NY</td>\n",
       "      <td>NaN</td>\n",
       "      <td>P</td>\n",
       "      <td>20.15</td>\n",
       "      <td>0</td>\n",
       "    </tr>\n",
       "    <tr>\n",
       "      <th>54</th>\n",
       "      <td>55</td>\n",
       "      <td>5142146340</td>\n",
       "      <td>2010-01-02</td>\n",
       "      <td>5000006000095</td>\n",
       "      <td>IBM INTERNET  01000025</td>\n",
       "      <td>NY</td>\n",
       "      <td>NaN</td>\n",
       "      <td>P</td>\n",
       "      <td>23.90</td>\n",
       "      <td>0</td>\n",
       "    </tr>\n",
       "    <tr>\n",
       "      <th>55</th>\n",
       "      <td>56</td>\n",
       "      <td>5142260984</td>\n",
       "      <td>2010-01-02</td>\n",
       "      <td>5000006000095</td>\n",
       "      <td>IBM INTERNET  01000025</td>\n",
       "      <td>NY</td>\n",
       "      <td>NaN</td>\n",
       "      <td>P</td>\n",
       "      <td>19.95</td>\n",
       "      <td>0</td>\n",
       "    </tr>\n",
       "    <tr>\n",
       "      <th>58</th>\n",
       "      <td>59</td>\n",
       "      <td>5142204384</td>\n",
       "      <td>2010-01-02</td>\n",
       "      <td>5000006000095</td>\n",
       "      <td>IBM INTERNET  01000025</td>\n",
       "      <td>NY</td>\n",
       "      <td>NaN</td>\n",
       "      <td>P</td>\n",
       "      <td>20.15</td>\n",
       "      <td>0</td>\n",
       "    </tr>\n",
       "    <tr>\n",
       "      <th>59</th>\n",
       "      <td>60</td>\n",
       "      <td>5142204384</td>\n",
       "      <td>2010-01-02</td>\n",
       "      <td>5000006000095</td>\n",
       "      <td>IBM INTERNET  01000025</td>\n",
       "      <td>NY</td>\n",
       "      <td>NaN</td>\n",
       "      <td>P</td>\n",
       "      <td>20.15</td>\n",
       "      <td>0</td>\n",
       "    </tr>\n",
       "  </tbody>\n",
       "</table>\n",
       "</div>"
      ],
      "text/plain": [
       "    Recnum     Cardnum       Date       Merchnum       Merch description  \\\n",
       "51      52  5142204384 2010-01-02  5000006000095  IBM INTERNET  01000025   \n",
       "54      55  5142146340 2010-01-02  5000006000095  IBM INTERNET  01000025   \n",
       "55      56  5142260984 2010-01-02  5000006000095  IBM INTERNET  01000025   \n",
       "58      59  5142204384 2010-01-02  5000006000095  IBM INTERNET  01000025   \n",
       "59      60  5142204384 2010-01-02  5000006000095  IBM INTERNET  01000025   \n",
       "\n",
       "   Merch state  Merch zip Transtype  Amount  Fraud  \n",
       "51          NY        NaN         P   20.15      0  \n",
       "54          NY        NaN         P   23.90      0  \n",
       "55          NY        NaN         P   19.95      0  \n",
       "58          NY        NaN         P   20.15      0  \n",
       "59          NY        NaN         P   20.15      0  "
      ]
     },
     "execution_count": 63,
     "metadata": {},
     "output_type": "execute_result"
    }
   ],
   "source": [
    "null_zip = mydata[mydata['Merch zip'].isnull()]\n",
    "print(null_zip.index)\n",
    "print(len(null_zip))\n",
    "null_zip.head()"
   ]
  },
  {
   "cell_type": "markdown",
   "id": "09bfc7eb",
   "metadata": {},
   "source": [
    "Fill remaining missing values using the mode of merchant description."
   ]
  },
  {
   "cell_type": "code",
   "execution_count": 64,
   "id": "cc5ae03f",
   "metadata": {},
   "outputs": [],
   "source": [
    "merchdesc_zip = {}\n",
    "for index, merchdesc in mydata[mydata['Merch description'].notnull()]['Merch description'].items():\n",
    "    if merchdesc not in merchdesc_zip:\n",
    "        merchdesc_zip[merchdesc] = mydata.loc[index, 'Merch zip']"
   ]
  },
  {
   "cell_type": "code",
   "execution_count": 65,
   "id": "4cc22265",
   "metadata": {},
   "outputs": [],
   "source": [
    "mydata['Merch zip'] = mydata['Merch zip'].fillna(mydata['Merch description'].map(merchdesc_zip))"
   ]
  },
  {
   "cell_type": "markdown",
   "id": "ca01730e",
   "metadata": {},
   "source": [
    "Assign unknown to the adjustment transactions."
   ]
  },
  {
   "cell_type": "code",
   "execution_count": 66,
   "id": "77a284f0",
   "metadata": {},
   "outputs": [],
   "source": [
    "mydata['Merch zip'] = mydata['Merch zip'].mask(mydata['Merch description'] == 'RETAIL CREDIT ADJUSTMENT', 'Unk')\n",
    "mydata['Merch zip'] = mydata['Merch zip'].mask(mydata['Merch description'] == 'RETAIL DEBIT ADJUSTMENT', 'Unk')\n",
    "                                           "
   ]
  },
  {
   "cell_type": "markdown",
   "id": "adb9eedb",
   "metadata": {},
   "source": [
    "Check to see if there are any null values left in Merch zip."
   ]
  },
  {
   "cell_type": "code",
   "execution_count": 67,
   "id": "cfe83574",
   "metadata": {},
   "outputs": [
    {
     "data": {
      "text/plain": [
       "1720"
      ]
     },
     "execution_count": 67,
     "metadata": {},
     "output_type": "execute_result"
    }
   ],
   "source": [
    "mydata['Merch zip'].isnull().sum()"
   ]
  },
  {
   "cell_type": "markdown",
   "id": "fdd6d97f",
   "metadata": {},
   "source": [
    "Fill remaining missing merch zip values with the mode of merch state."
   ]
  },
  {
   "cell_type": "code",
   "execution_count": 68,
   "id": "46cf2225",
   "metadata": {},
   "outputs": [],
   "source": [
    "state_zip = {}\n",
    "for index, state in mydata[mydata['Merch state'].notnull()]['Merch state'].items():\n",
    "    if state not in state_zip:\n",
    "        state_zip[state] = mydata.loc[index, 'Merch zip']"
   ]
  },
  {
   "cell_type": "code",
   "execution_count": 69,
   "id": "08f9861a",
   "metadata": {},
   "outputs": [],
   "source": [
    "mydata['Merch zip'] = mydata['Merch zip'].fillna(mydata['Merch state'].map(state_zip))"
   ]
  },
  {
   "cell_type": "code",
   "execution_count": 70,
   "id": "e8422ba6",
   "metadata": {},
   "outputs": [
    {
     "data": {
      "text/plain": [
       "495"
      ]
     },
     "execution_count": 70,
     "metadata": {},
     "output_type": "execute_result"
    }
   ],
   "source": [
    "mydata['Merch zip'].isnull().sum()"
   ]
  },
  {
   "cell_type": "markdown",
   "id": "787fb2dd",
   "metadata": {},
   "source": [
    "Fill all remaining missing merch zip values with an unknown."
   ]
  },
  {
   "cell_type": "code",
   "execution_count": 71,
   "id": "65ac183c",
   "metadata": {},
   "outputs": [],
   "source": [
    "mydata.fillna('Unk', inplace=True)"
   ]
  },
  {
   "cell_type": "markdown",
   "id": "bc084588",
   "metadata": {},
   "source": [
    "Let's check to see if there are any remaining null values."
   ]
  },
  {
   "cell_type": "code",
   "execution_count": 72,
   "id": "4afd7d8c",
   "metadata": {},
   "outputs": [
    {
     "data": {
      "text/plain": [
       "0"
      ]
     },
     "execution_count": 72,
     "metadata": {},
     "output_type": "execute_result"
    }
   ],
   "source": [
    "mydata['Merch zip'].isnull().sum()"
   ]
  },
  {
   "cell_type": "markdown",
   "id": "d59477da",
   "metadata": {},
   "source": [
    "### Reviewing cleaned data"
   ]
  },
  {
   "cell_type": "code",
   "execution_count": 73,
   "id": "46d34a0c",
   "metadata": {},
   "outputs": [
    {
     "data": {
      "text/plain": [
       "(96397, 10)"
      ]
     },
     "execution_count": 73,
     "metadata": {},
     "output_type": "execute_result"
    }
   ],
   "source": [
    "mydata.shape"
   ]
  },
  {
   "cell_type": "code",
   "execution_count": 74,
   "id": "5aa76442",
   "metadata": {},
   "outputs": [
    {
     "data": {
      "text/plain": [
       "P    96397\n",
       "Name: Transtype, dtype: int64"
      ]
     },
     "execution_count": 74,
     "metadata": {},
     "output_type": "execute_result"
    }
   ],
   "source": [
    "mydata['Transtype'].value_counts()"
   ]
  },
  {
   "cell_type": "code",
   "execution_count": 75,
   "id": "359af013",
   "metadata": {},
   "outputs": [
    {
     "data": {
      "text/plain": [
       "TN    12038\n",
       "VA     7849\n",
       "CA     6823\n",
       "IL     6508\n",
       "MD     5397\n",
       "      ...  \n",
       "NS        5\n",
       "AB        5\n",
       "QC        4\n",
       "MB        3\n",
       "US        1\n",
       "Name: Merch state, Length: 61, dtype: int64"
      ]
     },
     "execution_count": 75,
     "metadata": {},
     "output_type": "execute_result"
    }
   ],
   "source": [
    "mydata['Merch state'].value_counts()"
   ]
  },
  {
   "cell_type": "code",
   "execution_count": 76,
   "id": "197c9cf6",
   "metadata": {},
   "outputs": [
    {
     "data": {
      "text/plain": [
       "0"
      ]
     },
     "execution_count": 76,
     "metadata": {},
     "output_type": "execute_result"
    }
   ],
   "source": [
    "(mydata['Merch state'].isnull() | mydata['Merch state']==0).sum()"
   ]
  },
  {
   "cell_type": "code",
   "execution_count": 77,
   "id": "2e91203f",
   "metadata": {},
   "outputs": [
    {
     "data": {
      "text/plain": [
       "38118.0    11868\n",
       "22202.0     2172\n",
       "63103.0     1650\n",
       "Unk         1465\n",
       "8701.0      1272\n",
       "           ...  \n",
       "2910.0         1\n",
       "1028.0         1\n",
       "33801.0        1\n",
       "98844.0        1\n",
       "92879.0        1\n",
       "Name: Merch zip, Length: 4567, dtype: int64"
      ]
     },
     "execution_count": 77,
     "metadata": {},
     "output_type": "execute_result"
    }
   ],
   "source": [
    "mydata['Merch zip'].value_counts()"
   ]
  },
  {
   "cell_type": "code",
   "execution_count": 78,
   "id": "35203a34",
   "metadata": {},
   "outputs": [
    {
     "data": {
      "text/plain": [
       "0"
      ]
     },
     "execution_count": 78,
     "metadata": {},
     "output_type": "execute_result"
    }
   ],
   "source": [
    "(mydata['Merch zip'].isnull() | mydata['Merch zip']==0).sum()"
   ]
  },
  {
   "cell_type": "code",
   "execution_count": 79,
   "id": "ca1baa04",
   "metadata": {},
   "outputs": [
    {
     "data": {
      "text/plain": [
       "930090121224     9310\n",
       "5509006296254    2131\n",
       "9900020006406    1714\n",
       "Unk              1108\n",
       "602608969534     1107\n",
       "                 ... \n",
       "4588189810001       1\n",
       "17548454638         1\n",
       "166000298756        1\n",
       "980963              1\n",
       "95906687331         1\n",
       "Name: Merchnum, Length: 13090, dtype: int64"
      ]
     },
     "execution_count": 79,
     "metadata": {},
     "output_type": "execute_result"
    }
   ],
   "source": [
    "mydata['Merchnum'].value_counts()"
   ]
  },
  {
   "cell_type": "code",
   "execution_count": 80,
   "id": "cc108d29",
   "metadata": {},
   "outputs": [
    {
     "data": {
      "text/plain": [
       "0"
      ]
     },
     "execution_count": 80,
     "metadata": {},
     "output_type": "execute_result"
    }
   ],
   "source": [
    "(mydata['Merchnum'].isnull() | mydata['Merchnum']==0).sum()"
   ]
  },
  {
   "cell_type": "code",
   "execution_count": 81,
   "id": "dd140222",
   "metadata": {},
   "outputs": [],
   "source": [
    "mydata.to_csv('clean_card_transactions.csv')"
   ]
  },
  {
   "cell_type": "code",
   "execution_count": null,
   "id": "4b587c62",
   "metadata": {},
   "outputs": [],
   "source": []
  }
 ],
 "metadata": {
  "kernelspec": {
   "display_name": "Python 3",
   "language": "python",
   "name": "python3"
  },
  "language_info": {
   "codemirror_mode": {
    "name": "ipython",
    "version": 3
   },
   "file_extension": ".py",
   "mimetype": "text/x-python",
   "name": "python",
   "nbconvert_exporter": "python",
   "pygments_lexer": "ipython3",
   "version": "3.8.5"
  }
 },
 "nbformat": 4,
 "nbformat_minor": 5
}
