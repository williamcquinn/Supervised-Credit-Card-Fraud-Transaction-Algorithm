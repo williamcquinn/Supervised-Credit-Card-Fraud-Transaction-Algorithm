{
 "cells": [
  {
   "cell_type": "markdown",
   "id": "a3c42d7f",
   "metadata": {},
   "source": [
    "# Building The Models"
   ]
  },
  {
   "cell_type": "code",
   "execution_count": 1,
   "id": "27ad7bb2",
   "metadata": {},
   "outputs": [],
   "source": [
    "import numpy as np\n",
    "import pandas as pd\n",
    "import matplotlib.pyplot as plt\n",
    "import seaborn as sns\n",
    "import csv\n",
    "# from pyzipcode import ZipCodeDatabase \n",
    "import timeit\n",
    "import datetime as dt\n",
    "from datetime import timedelta\n",
    "from sklearn.model_selection import train_test_split\n",
    "from sklearn.neural_network import MLPClassifier\n",
    "from sklearn.datasets import make_classification\n",
    "from sklearn.linear_model import LogisticRegression\n",
    "import xgboost as xgb\n",
    "from sklearn.ensemble import RandomForestClassifier\n",
    "from sklearn.ensemble import GradientBoostingClassifier"
   ]
  },
  {
   "cell_type": "code",
   "execution_count": 2,
   "id": "1a261218",
   "metadata": {},
   "outputs": [],
   "source": [
    "final = pd.read_csv(\"cc_transactions_created_variables.csv\",index_col=0)"
   ]
  },
  {
   "cell_type": "code",
   "execution_count": 3,
   "id": "1d6dc41f",
   "metadata": {},
   "outputs": [
    {
     "data": {
      "text/html": [
       "<div>\n",
       "<style scoped>\n",
       "    .dataframe tbody tr th:only-of-type {\n",
       "        vertical-align: middle;\n",
       "    }\n",
       "\n",
       "    .dataframe tbody tr th {\n",
       "        vertical-align: top;\n",
       "    }\n",
       "\n",
       "    .dataframe thead th {\n",
       "        text-align: right;\n",
       "    }\n",
       "</style>\n",
       "<table border=\"1\" class=\"dataframe\">\n",
       "  <thead>\n",
       "    <tr style=\"text-align: right;\">\n",
       "      <th></th>\n",
       "      <th>Recnum</th>\n",
       "      <th>Cardnum</th>\n",
       "      <th>Date</th>\n",
       "      <th>Merchnum</th>\n",
       "      <th>Merch description</th>\n",
       "      <th>Merch state</th>\n",
       "      <th>Merch zip</th>\n",
       "      <th>Transtype</th>\n",
       "      <th>Amount</th>\n",
       "      <th>Fraud</th>\n",
       "      <th>...</th>\n",
       "      <th>card_merchnum_state_actual/toal_180</th>\n",
       "      <th>card_merchnum_state_count_0_by_7</th>\n",
       "      <th>card_merchnum_state_count_0_by_14</th>\n",
       "      <th>card_merchnum_state_count_0_by_30</th>\n",
       "      <th>card_merchnum_state_count_1_by_7</th>\n",
       "      <th>card_merchnum_state_count_1_by_14</th>\n",
       "      <th>card_merchnum_state_count_1_by_30</th>\n",
       "      <th>card_merchnum_state_count_3_by_7</th>\n",
       "      <th>card_merchnum_state_count_3_by_14</th>\n",
       "      <th>card_merchnum_state_count_3_by_30</th>\n",
       "    </tr>\n",
       "  </thead>\n",
       "  <tbody>\n",
       "    <tr>\n",
       "      <th>0</th>\n",
       "      <td>1</td>\n",
       "      <td>5142190439</td>\n",
       "      <td>2010-01-01</td>\n",
       "      <td>5509006296254</td>\n",
       "      <td>FEDEX SHP 12/23/09 AB#</td>\n",
       "      <td>TN</td>\n",
       "      <td>38118.0</td>\n",
       "      <td>P</td>\n",
       "      <td>3.62</td>\n",
       "      <td>0</td>\n",
       "      <td>...</td>\n",
       "      <td>1.000000</td>\n",
       "      <td>0.142857</td>\n",
       "      <td>0.071429</td>\n",
       "      <td>0.033333</td>\n",
       "      <td>0.142857</td>\n",
       "      <td>0.071429</td>\n",
       "      <td>0.033333</td>\n",
       "      <td>0.142857</td>\n",
       "      <td>0.071429</td>\n",
       "      <td>0.033333</td>\n",
       "    </tr>\n",
       "    <tr>\n",
       "      <th>1</th>\n",
       "      <td>2</td>\n",
       "      <td>5142183973</td>\n",
       "      <td>2010-01-01</td>\n",
       "      <td>61003026333</td>\n",
       "      <td>SERVICE MERCHANDISE #81</td>\n",
       "      <td>MA</td>\n",
       "      <td>1803.0</td>\n",
       "      <td>P</td>\n",
       "      <td>31.42</td>\n",
       "      <td>0</td>\n",
       "      <td>...</td>\n",
       "      <td>1.000000</td>\n",
       "      <td>0.142857</td>\n",
       "      <td>0.071429</td>\n",
       "      <td>0.033333</td>\n",
       "      <td>0.142857</td>\n",
       "      <td>0.071429</td>\n",
       "      <td>0.033333</td>\n",
       "      <td>0.142857</td>\n",
       "      <td>0.071429</td>\n",
       "      <td>0.033333</td>\n",
       "    </tr>\n",
       "    <tr>\n",
       "      <th>2</th>\n",
       "      <td>3</td>\n",
       "      <td>5142131721</td>\n",
       "      <td>2010-01-01</td>\n",
       "      <td>4503082993600</td>\n",
       "      <td>OFFICE DEPOT #191</td>\n",
       "      <td>MD</td>\n",
       "      <td>20706.0</td>\n",
       "      <td>P</td>\n",
       "      <td>178.49</td>\n",
       "      <td>0</td>\n",
       "      <td>...</td>\n",
       "      <td>1.000000</td>\n",
       "      <td>0.142857</td>\n",
       "      <td>0.071429</td>\n",
       "      <td>0.033333</td>\n",
       "      <td>0.142857</td>\n",
       "      <td>0.071429</td>\n",
       "      <td>0.033333</td>\n",
       "      <td>0.142857</td>\n",
       "      <td>0.071429</td>\n",
       "      <td>0.033333</td>\n",
       "    </tr>\n",
       "    <tr>\n",
       "      <th>3</th>\n",
       "      <td>4</td>\n",
       "      <td>5142148452</td>\n",
       "      <td>2010-01-01</td>\n",
       "      <td>5509006296254</td>\n",
       "      <td>FEDEX SHP 12/28/09 AB#</td>\n",
       "      <td>TN</td>\n",
       "      <td>38118.0</td>\n",
       "      <td>P</td>\n",
       "      <td>3.62</td>\n",
       "      <td>0</td>\n",
       "      <td>...</td>\n",
       "      <td>1.000000</td>\n",
       "      <td>0.142857</td>\n",
       "      <td>0.071429</td>\n",
       "      <td>0.033333</td>\n",
       "      <td>0.142857</td>\n",
       "      <td>0.071429</td>\n",
       "      <td>0.033333</td>\n",
       "      <td>0.142857</td>\n",
       "      <td>0.071429</td>\n",
       "      <td>0.033333</td>\n",
       "    </tr>\n",
       "    <tr>\n",
       "      <th>4</th>\n",
       "      <td>5</td>\n",
       "      <td>5142190439</td>\n",
       "      <td>2010-01-01</td>\n",
       "      <td>5509006296254</td>\n",
       "      <td>FEDEX SHP 12/23/09 AB#</td>\n",
       "      <td>TN</td>\n",
       "      <td>38118.0</td>\n",
       "      <td>P</td>\n",
       "      <td>3.62</td>\n",
       "      <td>0</td>\n",
       "      <td>...</td>\n",
       "      <td>0.500000</td>\n",
       "      <td>0.142857</td>\n",
       "      <td>0.071429</td>\n",
       "      <td>0.033333</td>\n",
       "      <td>0.142857</td>\n",
       "      <td>0.071429</td>\n",
       "      <td>0.033333</td>\n",
       "      <td>0.142857</td>\n",
       "      <td>0.071429</td>\n",
       "      <td>0.033333</td>\n",
       "    </tr>\n",
       "    <tr>\n",
       "      <th>...</th>\n",
       "      <td>...</td>\n",
       "      <td>...</td>\n",
       "      <td>...</td>\n",
       "      <td>...</td>\n",
       "      <td>...</td>\n",
       "      <td>...</td>\n",
       "      <td>...</td>\n",
       "      <td>...</td>\n",
       "      <td>...</td>\n",
       "      <td>...</td>\n",
       "      <td>...</td>\n",
       "      <td>...</td>\n",
       "      <td>...</td>\n",
       "      <td>...</td>\n",
       "      <td>...</td>\n",
       "      <td>...</td>\n",
       "      <td>...</td>\n",
       "      <td>...</td>\n",
       "      <td>...</td>\n",
       "      <td>...</td>\n",
       "      <td>...</td>\n",
       "    </tr>\n",
       "    <tr>\n",
       "      <th>96392</th>\n",
       "      <td>96749</td>\n",
       "      <td>5142276053</td>\n",
       "      <td>2010-12-31</td>\n",
       "      <td>3500000006160</td>\n",
       "      <td>BEST BUY      00001610</td>\n",
       "      <td>KY</td>\n",
       "      <td>41042.0</td>\n",
       "      <td>P</td>\n",
       "      <td>84.79</td>\n",
       "      <td>0</td>\n",
       "      <td>...</td>\n",
       "      <td>1.000000</td>\n",
       "      <td>0.142857</td>\n",
       "      <td>0.071429</td>\n",
       "      <td>0.033333</td>\n",
       "      <td>0.142857</td>\n",
       "      <td>0.071429</td>\n",
       "      <td>0.033333</td>\n",
       "      <td>0.142857</td>\n",
       "      <td>0.071429</td>\n",
       "      <td>0.033333</td>\n",
       "    </tr>\n",
       "    <tr>\n",
       "      <th>96393</th>\n",
       "      <td>96750</td>\n",
       "      <td>5142225701</td>\n",
       "      <td>2010-12-31</td>\n",
       "      <td>8090710030950</td>\n",
       "      <td>MARKUS OFFICE SUPPLIES</td>\n",
       "      <td>OH</td>\n",
       "      <td>45248.0</td>\n",
       "      <td>P</td>\n",
       "      <td>118.75</td>\n",
       "      <td>0</td>\n",
       "      <td>...</td>\n",
       "      <td>0.134416</td>\n",
       "      <td>0.142857</td>\n",
       "      <td>0.035714</td>\n",
       "      <td>0.016667</td>\n",
       "      <td>0.142857</td>\n",
       "      <td>0.035714</td>\n",
       "      <td>0.016667</td>\n",
       "      <td>0.142857</td>\n",
       "      <td>0.035714</td>\n",
       "      <td>0.016667</td>\n",
       "    </tr>\n",
       "    <tr>\n",
       "      <th>96394</th>\n",
       "      <td>96751</td>\n",
       "      <td>5142226486</td>\n",
       "      <td>2010-12-31</td>\n",
       "      <td>4503057341100</td>\n",
       "      <td>TECH PAC, INC</td>\n",
       "      <td>OH</td>\n",
       "      <td>45150.0</td>\n",
       "      <td>P</td>\n",
       "      <td>363.56</td>\n",
       "      <td>0</td>\n",
       "      <td>...</td>\n",
       "      <td>1.000000</td>\n",
       "      <td>0.142857</td>\n",
       "      <td>0.071429</td>\n",
       "      <td>0.033333</td>\n",
       "      <td>0.142857</td>\n",
       "      <td>0.071429</td>\n",
       "      <td>0.033333</td>\n",
       "      <td>0.142857</td>\n",
       "      <td>0.071429</td>\n",
       "      <td>0.033333</td>\n",
       "    </tr>\n",
       "    <tr>\n",
       "      <th>96395</th>\n",
       "      <td>96752</td>\n",
       "      <td>5142244619</td>\n",
       "      <td>2010-12-31</td>\n",
       "      <td>8834000695412</td>\n",
       "      <td>BUY.COM</td>\n",
       "      <td>CA</td>\n",
       "      <td>92656.0</td>\n",
       "      <td>P</td>\n",
       "      <td>2202.03</td>\n",
       "      <td>0</td>\n",
       "      <td>...</td>\n",
       "      <td>0.487870</td>\n",
       "      <td>0.142857</td>\n",
       "      <td>0.071429</td>\n",
       "      <td>0.011111</td>\n",
       "      <td>0.142857</td>\n",
       "      <td>0.071429</td>\n",
       "      <td>0.011111</td>\n",
       "      <td>0.142857</td>\n",
       "      <td>0.071429</td>\n",
       "      <td>0.011111</td>\n",
       "    </tr>\n",
       "    <tr>\n",
       "      <th>96396</th>\n",
       "      <td>96753</td>\n",
       "      <td>5142243247</td>\n",
       "      <td>2010-12-31</td>\n",
       "      <td>9108347680006</td>\n",
       "      <td>STAPLES NATIONAL #471</td>\n",
       "      <td>NJ</td>\n",
       "      <td>7606.0</td>\n",
       "      <td>P</td>\n",
       "      <td>554.64</td>\n",
       "      <td>0</td>\n",
       "      <td>...</td>\n",
       "      <td>0.413140</td>\n",
       "      <td>0.047619</td>\n",
       "      <td>0.023810</td>\n",
       "      <td>0.011111</td>\n",
       "      <td>0.047619</td>\n",
       "      <td>0.023810</td>\n",
       "      <td>0.011111</td>\n",
       "      <td>0.142857</td>\n",
       "      <td>0.071429</td>\n",
       "      <td>0.033333</td>\n",
       "    </tr>\n",
       "  </tbody>\n",
       "</table>\n",
       "<p>96397 rows × 748 columns</p>\n",
       "</div>"
      ],
      "text/plain": [
       "       Recnum     Cardnum        Date       Merchnum        Merch description  \\\n",
       "0           1  5142190439  2010-01-01  5509006296254   FEDEX SHP 12/23/09 AB#   \n",
       "1           2  5142183973  2010-01-01    61003026333  SERVICE MERCHANDISE #81   \n",
       "2           3  5142131721  2010-01-01  4503082993600        OFFICE DEPOT #191   \n",
       "3           4  5142148452  2010-01-01  5509006296254   FEDEX SHP 12/28/09 AB#   \n",
       "4           5  5142190439  2010-01-01  5509006296254   FEDEX SHP 12/23/09 AB#   \n",
       "...       ...         ...         ...            ...                      ...   \n",
       "96392   96749  5142276053  2010-12-31  3500000006160   BEST BUY      00001610   \n",
       "96393   96750  5142225701  2010-12-31  8090710030950   MARKUS OFFICE SUPPLIES   \n",
       "96394   96751  5142226486  2010-12-31  4503057341100            TECH PAC, INC   \n",
       "96395   96752  5142244619  2010-12-31  8834000695412                  BUY.COM   \n",
       "96396   96753  5142243247  2010-12-31  9108347680006    STAPLES NATIONAL #471   \n",
       "\n",
       "      Merch state Merch zip Transtype   Amount  Fraud  ...  \\\n",
       "0              TN   38118.0         P     3.62      0  ...   \n",
       "1              MA    1803.0         P    31.42      0  ...   \n",
       "2              MD   20706.0         P   178.49      0  ...   \n",
       "3              TN   38118.0         P     3.62      0  ...   \n",
       "4              TN   38118.0         P     3.62      0  ...   \n",
       "...           ...       ...       ...      ...    ...  ...   \n",
       "96392          KY   41042.0         P    84.79      0  ...   \n",
       "96393          OH   45248.0         P   118.75      0  ...   \n",
       "96394          OH   45150.0         P   363.56      0  ...   \n",
       "96395          CA   92656.0         P  2202.03      0  ...   \n",
       "96396          NJ    7606.0         P   554.64      0  ...   \n",
       "\n",
       "      card_merchnum_state_actual/toal_180 card_merchnum_state_count_0_by_7  \\\n",
       "0                                1.000000                         0.142857   \n",
       "1                                1.000000                         0.142857   \n",
       "2                                1.000000                         0.142857   \n",
       "3                                1.000000                         0.142857   \n",
       "4                                0.500000                         0.142857   \n",
       "...                                   ...                              ...   \n",
       "96392                            1.000000                         0.142857   \n",
       "96393                            0.134416                         0.142857   \n",
       "96394                            1.000000                         0.142857   \n",
       "96395                            0.487870                         0.142857   \n",
       "96396                            0.413140                         0.047619   \n",
       "\n",
       "      card_merchnum_state_count_0_by_14 card_merchnum_state_count_0_by_30  \\\n",
       "0                              0.071429                          0.033333   \n",
       "1                              0.071429                          0.033333   \n",
       "2                              0.071429                          0.033333   \n",
       "3                              0.071429                          0.033333   \n",
       "4                              0.071429                          0.033333   \n",
       "...                                 ...                               ...   \n",
       "96392                          0.071429                          0.033333   \n",
       "96393                          0.035714                          0.016667   \n",
       "96394                          0.071429                          0.033333   \n",
       "96395                          0.071429                          0.011111   \n",
       "96396                          0.023810                          0.011111   \n",
       "\n",
       "      card_merchnum_state_count_1_by_7 card_merchnum_state_count_1_by_14  \\\n",
       "0                             0.142857                          0.071429   \n",
       "1                             0.142857                          0.071429   \n",
       "2                             0.142857                          0.071429   \n",
       "3                             0.142857                          0.071429   \n",
       "4                             0.142857                          0.071429   \n",
       "...                                ...                               ...   \n",
       "96392                         0.142857                          0.071429   \n",
       "96393                         0.142857                          0.035714   \n",
       "96394                         0.142857                          0.071429   \n",
       "96395                         0.142857                          0.071429   \n",
       "96396                         0.047619                          0.023810   \n",
       "\n",
       "      card_merchnum_state_count_1_by_30 card_merchnum_state_count_3_by_7  \\\n",
       "0                              0.033333                         0.142857   \n",
       "1                              0.033333                         0.142857   \n",
       "2                              0.033333                         0.142857   \n",
       "3                              0.033333                         0.142857   \n",
       "4                              0.033333                         0.142857   \n",
       "...                                 ...                              ...   \n",
       "96392                          0.033333                         0.142857   \n",
       "96393                          0.016667                         0.142857   \n",
       "96394                          0.033333                         0.142857   \n",
       "96395                          0.011111                         0.142857   \n",
       "96396                          0.011111                         0.142857   \n",
       "\n",
       "       card_merchnum_state_count_3_by_14  card_merchnum_state_count_3_by_30  \n",
       "0                               0.071429                           0.033333  \n",
       "1                               0.071429                           0.033333  \n",
       "2                               0.071429                           0.033333  \n",
       "3                               0.071429                           0.033333  \n",
       "4                               0.071429                           0.033333  \n",
       "...                                  ...                                ...  \n",
       "96392                           0.071429                           0.033333  \n",
       "96393                           0.035714                           0.016667  \n",
       "96394                           0.071429                           0.033333  \n",
       "96395                           0.071429                           0.011111  \n",
       "96396                           0.071429                           0.033333  \n",
       "\n",
       "[96397 rows x 748 columns]"
      ]
     },
     "execution_count": 3,
     "metadata": {},
     "output_type": "execute_result"
    }
   ],
   "source": [
    "final"
   ]
  },
  {
   "cell_type": "code",
   "execution_count": 4,
   "id": "4e390a95",
   "metadata": {},
   "outputs": [],
   "source": [
    "top_30_vars = pd.read_csv(\"Wrapper_Forward_Results.csv\",index_col=0)"
   ]
  },
  {
   "cell_type": "code",
   "execution_count": 5,
   "id": "090ebd87",
   "metadata": {},
   "outputs": [
    {
     "data": {
      "text/html": [
       "<div>\n",
       "<style scoped>\n",
       "    .dataframe tbody tr th:only-of-type {\n",
       "        vertical-align: middle;\n",
       "    }\n",
       "\n",
       "    .dataframe tbody tr th {\n",
       "        vertical-align: top;\n",
       "    }\n",
       "\n",
       "    .dataframe thead th {\n",
       "        text-align: right;\n",
       "    }\n",
       "</style>\n",
       "<table border=\"1\" class=\"dataframe\">\n",
       "  <thead>\n",
       "    <tr style=\"text-align: right;\">\n",
       "      <th></th>\n",
       "      <th>Variable Name</th>\n",
       "    </tr>\n",
       "  </thead>\n",
       "  <tbody>\n",
       "    <tr>\n",
       "      <th>0</th>\n",
       "      <td>card_zip_total_7</td>\n",
       "    </tr>\n",
       "    <tr>\n",
       "      <th>1</th>\n",
       "      <td>card_merchnum_zip_total_7</td>\n",
       "    </tr>\n",
       "    <tr>\n",
       "      <th>2</th>\n",
       "      <td>card_state_total_7</td>\n",
       "    </tr>\n",
       "    <tr>\n",
       "      <th>3</th>\n",
       "      <td>card_merchdesc_total_7</td>\n",
       "    </tr>\n",
       "    <tr>\n",
       "      <th>4</th>\n",
       "      <td>card_merchdesc_total_14</td>\n",
       "    </tr>\n",
       "    <tr>\n",
       "      <th>5</th>\n",
       "      <td>card_state_total_1</td>\n",
       "    </tr>\n",
       "    <tr>\n",
       "      <th>6</th>\n",
       "      <td>card_merchnum_zip_total_14</td>\n",
       "    </tr>\n",
       "    <tr>\n",
       "      <th>7</th>\n",
       "      <td>card_state_total_14</td>\n",
       "    </tr>\n",
       "    <tr>\n",
       "      <th>8</th>\n",
       "      <td>card_merchnum_state_total_1</td>\n",
       "    </tr>\n",
       "    <tr>\n",
       "      <th>9</th>\n",
       "      <td>card_zip_total_30</td>\n",
       "    </tr>\n",
       "    <tr>\n",
       "      <th>10</th>\n",
       "      <td>card_merchnum_state_total_30</td>\n",
       "    </tr>\n",
       "    <tr>\n",
       "      <th>11</th>\n",
       "      <td>card_merchnum_total_30</td>\n",
       "    </tr>\n",
       "    <tr>\n",
       "      <th>12</th>\n",
       "      <td>card_merchnum_zip_total_30</td>\n",
       "    </tr>\n",
       "    <tr>\n",
       "      <th>13</th>\n",
       "      <td>card_zip_max_7</td>\n",
       "    </tr>\n",
       "    <tr>\n",
       "      <th>14</th>\n",
       "      <td>Cardnum_total_3</td>\n",
       "    </tr>\n",
       "    <tr>\n",
       "      <th>15</th>\n",
       "      <td>card_merchnum_total_0</td>\n",
       "    </tr>\n",
       "    <tr>\n",
       "      <th>16</th>\n",
       "      <td>card_merchnum_zip_max_14</td>\n",
       "    </tr>\n",
       "    <tr>\n",
       "      <th>17</th>\n",
       "      <td>card_state_total_30</td>\n",
       "    </tr>\n",
       "    <tr>\n",
       "      <th>18</th>\n",
       "      <td>Cardnum_total_7</td>\n",
       "    </tr>\n",
       "    <tr>\n",
       "      <th>19</th>\n",
       "      <td>card_merchdesc_max_3</td>\n",
       "    </tr>\n",
       "    <tr>\n",
       "      <th>20</th>\n",
       "      <td>card_zip_total_0</td>\n",
       "    </tr>\n",
       "    <tr>\n",
       "      <th>21</th>\n",
       "      <td>card_merchnum_max_3</td>\n",
       "    </tr>\n",
       "    <tr>\n",
       "      <th>22</th>\n",
       "      <td>card_state_max_30</td>\n",
       "    </tr>\n",
       "    <tr>\n",
       "      <th>23</th>\n",
       "      <td>merchnum_state_total_1</td>\n",
       "    </tr>\n",
       "    <tr>\n",
       "      <th>24</th>\n",
       "      <td>card_merchdesc_max_1</td>\n",
       "    </tr>\n",
       "    <tr>\n",
       "      <th>25</th>\n",
       "      <td>merchnum_zip_total_1</td>\n",
       "    </tr>\n",
       "    <tr>\n",
       "      <th>26</th>\n",
       "      <td>card_merchnum_zip_max_1</td>\n",
       "    </tr>\n",
       "    <tr>\n",
       "      <th>27</th>\n",
       "      <td>merchnum_state_max_0</td>\n",
       "    </tr>\n",
       "    <tr>\n",
       "      <th>28</th>\n",
       "      <td>merchnum_zip_total_0</td>\n",
       "    </tr>\n",
       "    <tr>\n",
       "      <th>29</th>\n",
       "      <td>card_merchdesc_max_180</td>\n",
       "    </tr>\n",
       "  </tbody>\n",
       "</table>\n",
       "</div>"
      ],
      "text/plain": [
       "                   Variable Name\n",
       "0               card_zip_total_7\n",
       "1      card_merchnum_zip_total_7\n",
       "2             card_state_total_7\n",
       "3         card_merchdesc_total_7\n",
       "4        card_merchdesc_total_14\n",
       "5             card_state_total_1\n",
       "6     card_merchnum_zip_total_14\n",
       "7            card_state_total_14\n",
       "8    card_merchnum_state_total_1\n",
       "9              card_zip_total_30\n",
       "10  card_merchnum_state_total_30\n",
       "11        card_merchnum_total_30\n",
       "12    card_merchnum_zip_total_30\n",
       "13                card_zip_max_7\n",
       "14               Cardnum_total_3\n",
       "15         card_merchnum_total_0\n",
       "16      card_merchnum_zip_max_14\n",
       "17           card_state_total_30\n",
       "18               Cardnum_total_7\n",
       "19          card_merchdesc_max_3\n",
       "20              card_zip_total_0\n",
       "21           card_merchnum_max_3\n",
       "22             card_state_max_30\n",
       "23        merchnum_state_total_1\n",
       "24          card_merchdesc_max_1\n",
       "25          merchnum_zip_total_1\n",
       "26       card_merchnum_zip_max_1\n",
       "27          merchnum_state_max_0\n",
       "28          merchnum_zip_total_0\n",
       "29        card_merchdesc_max_180"
      ]
     },
     "execution_count": 5,
     "metadata": {},
     "output_type": "execute_result"
    }
   ],
   "source": [
    "top_30_vars"
   ]
  },
  {
   "cell_type": "code",
   "execution_count": 6,
   "id": "6ecf22c7",
   "metadata": {},
   "outputs": [],
   "source": [
    "top_vars = list(top_30_vars['Variable Name'])"
   ]
  },
  {
   "cell_type": "code",
   "execution_count": 7,
   "id": "9ad6c441",
   "metadata": {},
   "outputs": [],
   "source": [
    "df_model = final[top_vars]"
   ]
  },
  {
   "cell_type": "code",
   "execution_count": 8,
   "id": "e3029cdc",
   "metadata": {},
   "outputs": [
    {
     "data": {
      "text/html": [
       "<div>\n",
       "<style scoped>\n",
       "    .dataframe tbody tr th:only-of-type {\n",
       "        vertical-align: middle;\n",
       "    }\n",
       "\n",
       "    .dataframe tbody tr th {\n",
       "        vertical-align: top;\n",
       "    }\n",
       "\n",
       "    .dataframe thead th {\n",
       "        text-align: right;\n",
       "    }\n",
       "</style>\n",
       "<table border=\"1\" class=\"dataframe\">\n",
       "  <thead>\n",
       "    <tr style=\"text-align: right;\">\n",
       "      <th></th>\n",
       "      <th>card_zip_total_7</th>\n",
       "      <th>card_merchnum_zip_total_7</th>\n",
       "      <th>card_state_total_7</th>\n",
       "      <th>card_merchdesc_total_7</th>\n",
       "      <th>card_merchdesc_total_14</th>\n",
       "      <th>card_state_total_1</th>\n",
       "      <th>card_merchnum_zip_total_14</th>\n",
       "      <th>card_state_total_14</th>\n",
       "      <th>card_merchnum_state_total_1</th>\n",
       "      <th>card_zip_total_30</th>\n",
       "      <th>...</th>\n",
       "      <th>card_zip_total_0</th>\n",
       "      <th>card_merchnum_max_3</th>\n",
       "      <th>card_state_max_30</th>\n",
       "      <th>merchnum_state_total_1</th>\n",
       "      <th>card_merchdesc_max_1</th>\n",
       "      <th>merchnum_zip_total_1</th>\n",
       "      <th>card_merchnum_zip_max_1</th>\n",
       "      <th>merchnum_state_max_0</th>\n",
       "      <th>merchnum_zip_total_0</th>\n",
       "      <th>card_merchdesc_max_180</th>\n",
       "    </tr>\n",
       "  </thead>\n",
       "  <tbody>\n",
       "    <tr>\n",
       "      <th>0</th>\n",
       "      <td>3.62</td>\n",
       "      <td>3.62</td>\n",
       "      <td>3.62</td>\n",
       "      <td>3.62</td>\n",
       "      <td>3.62</td>\n",
       "      <td>3.62</td>\n",
       "      <td>3.62</td>\n",
       "      <td>3.62</td>\n",
       "      <td>3.62</td>\n",
       "      <td>3.62</td>\n",
       "      <td>...</td>\n",
       "      <td>3.62</td>\n",
       "      <td>3.62</td>\n",
       "      <td>3.62</td>\n",
       "      <td>3.62</td>\n",
       "      <td>3.62</td>\n",
       "      <td>3.62</td>\n",
       "      <td>3.62</td>\n",
       "      <td>3.62</td>\n",
       "      <td>3.62</td>\n",
       "      <td>3.62</td>\n",
       "    </tr>\n",
       "    <tr>\n",
       "      <th>1</th>\n",
       "      <td>31.42</td>\n",
       "      <td>31.42</td>\n",
       "      <td>31.42</td>\n",
       "      <td>31.42</td>\n",
       "      <td>31.42</td>\n",
       "      <td>31.42</td>\n",
       "      <td>31.42</td>\n",
       "      <td>31.42</td>\n",
       "      <td>31.42</td>\n",
       "      <td>31.42</td>\n",
       "      <td>...</td>\n",
       "      <td>31.42</td>\n",
       "      <td>31.42</td>\n",
       "      <td>31.42</td>\n",
       "      <td>31.42</td>\n",
       "      <td>31.42</td>\n",
       "      <td>31.42</td>\n",
       "      <td>31.42</td>\n",
       "      <td>31.42</td>\n",
       "      <td>31.42</td>\n",
       "      <td>31.42</td>\n",
       "    </tr>\n",
       "    <tr>\n",
       "      <th>2</th>\n",
       "      <td>178.49</td>\n",
       "      <td>178.49</td>\n",
       "      <td>178.49</td>\n",
       "      <td>178.49</td>\n",
       "      <td>178.49</td>\n",
       "      <td>178.49</td>\n",
       "      <td>178.49</td>\n",
       "      <td>178.49</td>\n",
       "      <td>178.49</td>\n",
       "      <td>178.49</td>\n",
       "      <td>...</td>\n",
       "      <td>178.49</td>\n",
       "      <td>178.49</td>\n",
       "      <td>178.49</td>\n",
       "      <td>178.49</td>\n",
       "      <td>178.49</td>\n",
       "      <td>178.49</td>\n",
       "      <td>178.49</td>\n",
       "      <td>178.49</td>\n",
       "      <td>178.49</td>\n",
       "      <td>178.49</td>\n",
       "    </tr>\n",
       "    <tr>\n",
       "      <th>3</th>\n",
       "      <td>3.62</td>\n",
       "      <td>3.62</td>\n",
       "      <td>3.62</td>\n",
       "      <td>3.62</td>\n",
       "      <td>3.62</td>\n",
       "      <td>3.62</td>\n",
       "      <td>3.62</td>\n",
       "      <td>3.62</td>\n",
       "      <td>3.62</td>\n",
       "      <td>3.62</td>\n",
       "      <td>...</td>\n",
       "      <td>3.62</td>\n",
       "      <td>3.62</td>\n",
       "      <td>3.62</td>\n",
       "      <td>7.24</td>\n",
       "      <td>3.62</td>\n",
       "      <td>7.24</td>\n",
       "      <td>3.62</td>\n",
       "      <td>3.62</td>\n",
       "      <td>7.24</td>\n",
       "      <td>3.62</td>\n",
       "    </tr>\n",
       "    <tr>\n",
       "      <th>4</th>\n",
       "      <td>7.24</td>\n",
       "      <td>7.24</td>\n",
       "      <td>7.24</td>\n",
       "      <td>7.24</td>\n",
       "      <td>7.24</td>\n",
       "      <td>7.24</td>\n",
       "      <td>7.24</td>\n",
       "      <td>7.24</td>\n",
       "      <td>7.24</td>\n",
       "      <td>7.24</td>\n",
       "      <td>...</td>\n",
       "      <td>7.24</td>\n",
       "      <td>3.62</td>\n",
       "      <td>3.62</td>\n",
       "      <td>10.86</td>\n",
       "      <td>3.62</td>\n",
       "      <td>10.86</td>\n",
       "      <td>3.62</td>\n",
       "      <td>3.62</td>\n",
       "      <td>10.86</td>\n",
       "      <td>3.62</td>\n",
       "    </tr>\n",
       "  </tbody>\n",
       "</table>\n",
       "<p>5 rows × 30 columns</p>\n",
       "</div>"
      ],
      "text/plain": [
       "   card_zip_total_7  card_merchnum_zip_total_7  card_state_total_7  \\\n",
       "0              3.62                       3.62                3.62   \n",
       "1             31.42                      31.42               31.42   \n",
       "2            178.49                     178.49              178.49   \n",
       "3              3.62                       3.62                3.62   \n",
       "4              7.24                       7.24                7.24   \n",
       "\n",
       "   card_merchdesc_total_7  card_merchdesc_total_14  card_state_total_1  \\\n",
       "0                    3.62                     3.62                3.62   \n",
       "1                   31.42                    31.42               31.42   \n",
       "2                  178.49                   178.49              178.49   \n",
       "3                    3.62                     3.62                3.62   \n",
       "4                    7.24                     7.24                7.24   \n",
       "\n",
       "   card_merchnum_zip_total_14  card_state_total_14  \\\n",
       "0                        3.62                 3.62   \n",
       "1                       31.42                31.42   \n",
       "2                      178.49               178.49   \n",
       "3                        3.62                 3.62   \n",
       "4                        7.24                 7.24   \n",
       "\n",
       "   card_merchnum_state_total_1  card_zip_total_30  ...  card_zip_total_0  \\\n",
       "0                         3.62               3.62  ...              3.62   \n",
       "1                        31.42              31.42  ...             31.42   \n",
       "2                       178.49             178.49  ...            178.49   \n",
       "3                         3.62               3.62  ...              3.62   \n",
       "4                         7.24               7.24  ...              7.24   \n",
       "\n",
       "   card_merchnum_max_3  card_state_max_30  merchnum_state_total_1  \\\n",
       "0                 3.62               3.62                    3.62   \n",
       "1                31.42              31.42                   31.42   \n",
       "2               178.49             178.49                  178.49   \n",
       "3                 3.62               3.62                    7.24   \n",
       "4                 3.62               3.62                   10.86   \n",
       "\n",
       "   card_merchdesc_max_1  merchnum_zip_total_1  card_merchnum_zip_max_1  \\\n",
       "0                  3.62                  3.62                     3.62   \n",
       "1                 31.42                 31.42                    31.42   \n",
       "2                178.49                178.49                   178.49   \n",
       "3                  3.62                  7.24                     3.62   \n",
       "4                  3.62                 10.86                     3.62   \n",
       "\n",
       "   merchnum_state_max_0  merchnum_zip_total_0  card_merchdesc_max_180  \n",
       "0                  3.62                  3.62                    3.62  \n",
       "1                 31.42                 31.42                   31.42  \n",
       "2                178.49                178.49                  178.49  \n",
       "3                  3.62                  7.24                    3.62  \n",
       "4                  3.62                 10.86                    3.62  \n",
       "\n",
       "[5 rows x 30 columns]"
      ]
     },
     "execution_count": 8,
     "metadata": {},
     "output_type": "execute_result"
    }
   ],
   "source": [
    "df_model.head()"
   ]
  },
  {
   "cell_type": "markdown",
   "id": "15a3d1c5",
   "metadata": {},
   "source": [
    "### Z-Scaling"
   ]
  },
  {
   "cell_type": "code",
   "execution_count": 9,
   "id": "abfad144",
   "metadata": {},
   "outputs": [
    {
     "data": {
      "text/html": [
       "<div>\n",
       "<style scoped>\n",
       "    .dataframe tbody tr th:only-of-type {\n",
       "        vertical-align: middle;\n",
       "    }\n",
       "\n",
       "    .dataframe tbody tr th {\n",
       "        vertical-align: top;\n",
       "    }\n",
       "\n",
       "    .dataframe thead th {\n",
       "        text-align: right;\n",
       "    }\n",
       "</style>\n",
       "<table border=\"1\" class=\"dataframe\">\n",
       "  <thead>\n",
       "    <tr style=\"text-align: right;\">\n",
       "      <th></th>\n",
       "      <th>card_zip_total_7</th>\n",
       "      <th>card_merchnum_zip_total_7</th>\n",
       "      <th>card_state_total_7</th>\n",
       "      <th>card_merchdesc_total_7</th>\n",
       "      <th>card_merchdesc_total_14</th>\n",
       "      <th>card_state_total_1</th>\n",
       "      <th>card_merchnum_zip_total_14</th>\n",
       "      <th>card_state_total_14</th>\n",
       "      <th>card_merchnum_state_total_1</th>\n",
       "      <th>card_zip_total_30</th>\n",
       "      <th>...</th>\n",
       "      <th>card_zip_total_0</th>\n",
       "      <th>card_merchnum_max_3</th>\n",
       "      <th>card_state_max_30</th>\n",
       "      <th>merchnum_state_total_1</th>\n",
       "      <th>card_merchdesc_max_1</th>\n",
       "      <th>merchnum_zip_total_1</th>\n",
       "      <th>card_merchnum_zip_max_1</th>\n",
       "      <th>merchnum_state_max_0</th>\n",
       "      <th>merchnum_zip_total_0</th>\n",
       "      <th>card_merchdesc_max_180</th>\n",
       "    </tr>\n",
       "  </thead>\n",
       "  <tbody>\n",
       "    <tr>\n",
       "      <th>0</th>\n",
       "      <td>-0.171937</td>\n",
       "      <td>-0.167033</td>\n",
       "      <td>-0.211571</td>\n",
       "      <td>-0.165501</td>\n",
       "      <td>-0.181367</td>\n",
       "      <td>-0.161578</td>\n",
       "      <td>-0.183715</td>\n",
       "      <td>-0.254346</td>\n",
       "      <td>-0.148173</td>\n",
       "      <td>-0.226775</td>\n",
       "      <td>...</td>\n",
       "      <td>-0.201335</td>\n",
       "      <td>-0.431423</td>\n",
       "      <td>-0.543149</td>\n",
       "      <td>-0.257531</td>\n",
       "      <td>-0.424627</td>\n",
       "      <td>-0.257741</td>\n",
       "      <td>-0.424521</td>\n",
       "      <td>-0.494219</td>\n",
       "      <td>-0.273379</td>\n",
       "      <td>-0.523000</td>\n",
       "    </tr>\n",
       "    <tr>\n",
       "      <th>1</th>\n",
       "      <td>-0.165177</td>\n",
       "      <td>-0.160257</td>\n",
       "      <td>-0.205022</td>\n",
       "      <td>-0.158717</td>\n",
       "      <td>-0.174696</td>\n",
       "      <td>-0.154719</td>\n",
       "      <td>-0.177044</td>\n",
       "      <td>-0.248176</td>\n",
       "      <td>-0.141258</td>\n",
       "      <td>-0.220377</td>\n",
       "      <td>...</td>\n",
       "      <td>-0.190736</td>\n",
       "      <td>-0.404023</td>\n",
       "      <td>-0.521739</td>\n",
       "      <td>-0.251183</td>\n",
       "      <td>-0.397112</td>\n",
       "      <td>-0.251394</td>\n",
       "      <td>-0.397004</td>\n",
       "      <td>-0.466710</td>\n",
       "      <td>-0.263620</td>\n",
       "      <td>-0.499188</td>\n",
       "    </tr>\n",
       "    <tr>\n",
       "      <th>2</th>\n",
       "      <td>-0.129414</td>\n",
       "      <td>-0.124412</td>\n",
       "      <td>-0.170376</td>\n",
       "      <td>-0.122826</td>\n",
       "      <td>-0.139406</td>\n",
       "      <td>-0.118433</td>\n",
       "      <td>-0.141755</td>\n",
       "      <td>-0.215535</td>\n",
       "      <td>-0.104676</td>\n",
       "      <td>-0.186528</td>\n",
       "      <td>...</td>\n",
       "      <td>-0.134667</td>\n",
       "      <td>-0.259066</td>\n",
       "      <td>-0.408472</td>\n",
       "      <td>-0.217602</td>\n",
       "      <td>-0.251545</td>\n",
       "      <td>-0.217814</td>\n",
       "      <td>-0.251429</td>\n",
       "      <td>-0.321183</td>\n",
       "      <td>-0.211993</td>\n",
       "      <td>-0.373212</td>\n",
       "    </tr>\n",
       "    <tr>\n",
       "      <th>3</th>\n",
       "      <td>-0.171937</td>\n",
       "      <td>-0.167033</td>\n",
       "      <td>-0.211571</td>\n",
       "      <td>-0.165501</td>\n",
       "      <td>-0.181367</td>\n",
       "      <td>-0.161578</td>\n",
       "      <td>-0.183715</td>\n",
       "      <td>-0.254346</td>\n",
       "      <td>-0.148173</td>\n",
       "      <td>-0.226775</td>\n",
       "      <td>...</td>\n",
       "      <td>-0.201335</td>\n",
       "      <td>-0.431423</td>\n",
       "      <td>-0.543149</td>\n",
       "      <td>-0.256704</td>\n",
       "      <td>-0.424627</td>\n",
       "      <td>-0.256914</td>\n",
       "      <td>-0.424521</td>\n",
       "      <td>-0.494219</td>\n",
       "      <td>-0.272108</td>\n",
       "      <td>-0.523000</td>\n",
       "    </tr>\n",
       "    <tr>\n",
       "      <th>4</th>\n",
       "      <td>-0.171057</td>\n",
       "      <td>-0.166151</td>\n",
       "      <td>-0.210718</td>\n",
       "      <td>-0.164618</td>\n",
       "      <td>-0.180498</td>\n",
       "      <td>-0.160685</td>\n",
       "      <td>-0.182847</td>\n",
       "      <td>-0.253543</td>\n",
       "      <td>-0.147272</td>\n",
       "      <td>-0.225942</td>\n",
       "      <td>...</td>\n",
       "      <td>-0.199955</td>\n",
       "      <td>-0.431423</td>\n",
       "      <td>-0.543149</td>\n",
       "      <td>-0.255877</td>\n",
       "      <td>-0.424627</td>\n",
       "      <td>-0.256088</td>\n",
       "      <td>-0.424521</td>\n",
       "      <td>-0.494219</td>\n",
       "      <td>-0.270837</td>\n",
       "      <td>-0.523000</td>\n",
       "    </tr>\n",
       "    <tr>\n",
       "      <th>...</th>\n",
       "      <td>...</td>\n",
       "      <td>...</td>\n",
       "      <td>...</td>\n",
       "      <td>...</td>\n",
       "      <td>...</td>\n",
       "      <td>...</td>\n",
       "      <td>...</td>\n",
       "      <td>...</td>\n",
       "      <td>...</td>\n",
       "      <td>...</td>\n",
       "      <td>...</td>\n",
       "      <td>...</td>\n",
       "      <td>...</td>\n",
       "      <td>...</td>\n",
       "      <td>...</td>\n",
       "      <td>...</td>\n",
       "      <td>...</td>\n",
       "      <td>...</td>\n",
       "      <td>...</td>\n",
       "      <td>...</td>\n",
       "      <td>...</td>\n",
       "    </tr>\n",
       "    <tr>\n",
       "      <th>96392</th>\n",
       "      <td>-0.152199</td>\n",
       "      <td>-0.147250</td>\n",
       "      <td>-0.192449</td>\n",
       "      <td>-0.145692</td>\n",
       "      <td>-0.161890</td>\n",
       "      <td>-0.141551</td>\n",
       "      <td>-0.164238</td>\n",
       "      <td>-0.236331</td>\n",
       "      <td>-0.127983</td>\n",
       "      <td>-0.208094</td>\n",
       "      <td>...</td>\n",
       "      <td>-0.170389</td>\n",
       "      <td>-0.351420</td>\n",
       "      <td>-0.480635</td>\n",
       "      <td>-0.238997</td>\n",
       "      <td>-0.344287</td>\n",
       "      <td>-0.239208</td>\n",
       "      <td>-0.344177</td>\n",
       "      <td>-0.413900</td>\n",
       "      <td>-0.244885</td>\n",
       "      <td>-0.453473</td>\n",
       "    </tr>\n",
       "    <tr>\n",
       "      <th>96393</th>\n",
       "      <td>-0.143941</td>\n",
       "      <td>-0.138973</td>\n",
       "      <td>-0.003648</td>\n",
       "      <td>-0.137405</td>\n",
       "      <td>-0.009805</td>\n",
       "      <td>-0.133172</td>\n",
       "      <td>-0.012154</td>\n",
       "      <td>0.382068</td>\n",
       "      <td>-0.119536</td>\n",
       "      <td>-0.062221</td>\n",
       "      <td>...</td>\n",
       "      <td>-0.157442</td>\n",
       "      <td>-0.317948</td>\n",
       "      <td>0.520730</td>\n",
       "      <td>-0.231242</td>\n",
       "      <td>-0.310674</td>\n",
       "      <td>-0.231454</td>\n",
       "      <td>-0.310562</td>\n",
       "      <td>-0.380296</td>\n",
       "      <td>-0.232964</td>\n",
       "      <td>-0.012289</td>\n",
       "    </tr>\n",
       "    <tr>\n",
       "      <th>96394</th>\n",
       "      <td>-0.084409</td>\n",
       "      <td>-0.079306</td>\n",
       "      <td>-0.109853</td>\n",
       "      <td>-0.077661</td>\n",
       "      <td>-0.094998</td>\n",
       "      <td>-0.055044</td>\n",
       "      <td>-0.097347</td>\n",
       "      <td>-0.158514</td>\n",
       "      <td>-0.058642</td>\n",
       "      <td>-0.143934</td>\n",
       "      <td>...</td>\n",
       "      <td>-0.064110</td>\n",
       "      <td>-0.076656</td>\n",
       "      <td>-0.265939</td>\n",
       "      <td>1.061622</td>\n",
       "      <td>-0.068367</td>\n",
       "      <td>1.061342</td>\n",
       "      <td>-0.068241</td>\n",
       "      <td>1.964087</td>\n",
       "      <td>1.754664</td>\n",
       "      <td>-0.214687</td>\n",
       "    </tr>\n",
       "    <tr>\n",
       "      <th>96395</th>\n",
       "      <td>0.362658</td>\n",
       "      <td>0.368779</td>\n",
       "      <td>0.306312</td>\n",
       "      <td>0.371000</td>\n",
       "      <td>0.346150</td>\n",
       "      <td>0.380825</td>\n",
       "      <td>0.343799</td>\n",
       "      <td>0.233574</td>\n",
       "      <td>0.398656</td>\n",
       "      <td>0.404304</td>\n",
       "      <td>...</td>\n",
       "      <td>0.636792</td>\n",
       "      <td>1.735394</td>\n",
       "      <td>1.149972</td>\n",
       "      <td>1.048000</td>\n",
       "      <td>1.751308</td>\n",
       "      <td>1.047721</td>\n",
       "      <td>1.751535</td>\n",
       "      <td>1.681136</td>\n",
       "      <td>0.498347</td>\n",
       "      <td>1.360088</td>\n",
       "    </tr>\n",
       "    <tr>\n",
       "      <th>96396</th>\n",
       "      <td>0.766883</td>\n",
       "      <td>0.008007</td>\n",
       "      <td>0.697901</td>\n",
       "      <td>0.776665</td>\n",
       "      <td>0.745023</td>\n",
       "      <td>-0.025627</td>\n",
       "      <td>-0.011386</td>\n",
       "      <td>0.602506</td>\n",
       "      <td>-0.011113</td>\n",
       "      <td>0.661773</td>\n",
       "      <td>...</td>\n",
       "      <td>0.008737</td>\n",
       "      <td>0.111678</td>\n",
       "      <td>1.874296</td>\n",
       "      <td>-0.131713</td>\n",
       "      <td>0.120760</td>\n",
       "      <td>-0.131930</td>\n",
       "      <td>0.120896</td>\n",
       "      <td>0.051022</td>\n",
       "      <td>-0.079950</td>\n",
       "      <td>2.165682</td>\n",
       "    </tr>\n",
       "  </tbody>\n",
       "</table>\n",
       "<p>96397 rows × 30 columns</p>\n",
       "</div>"
      ],
      "text/plain": [
       "       card_zip_total_7  card_merchnum_zip_total_7  card_state_total_7  \\\n",
       "0             -0.171937                  -0.167033           -0.211571   \n",
       "1             -0.165177                  -0.160257           -0.205022   \n",
       "2             -0.129414                  -0.124412           -0.170376   \n",
       "3             -0.171937                  -0.167033           -0.211571   \n",
       "4             -0.171057                  -0.166151           -0.210718   \n",
       "...                 ...                        ...                 ...   \n",
       "96392         -0.152199                  -0.147250           -0.192449   \n",
       "96393         -0.143941                  -0.138973           -0.003648   \n",
       "96394         -0.084409                  -0.079306           -0.109853   \n",
       "96395          0.362658                   0.368779            0.306312   \n",
       "96396          0.766883                   0.008007            0.697901   \n",
       "\n",
       "       card_merchdesc_total_7  card_merchdesc_total_14  card_state_total_1  \\\n",
       "0                   -0.165501                -0.181367           -0.161578   \n",
       "1                   -0.158717                -0.174696           -0.154719   \n",
       "2                   -0.122826                -0.139406           -0.118433   \n",
       "3                   -0.165501                -0.181367           -0.161578   \n",
       "4                   -0.164618                -0.180498           -0.160685   \n",
       "...                       ...                      ...                 ...   \n",
       "96392               -0.145692                -0.161890           -0.141551   \n",
       "96393               -0.137405                -0.009805           -0.133172   \n",
       "96394               -0.077661                -0.094998           -0.055044   \n",
       "96395                0.371000                 0.346150            0.380825   \n",
       "96396                0.776665                 0.745023           -0.025627   \n",
       "\n",
       "       card_merchnum_zip_total_14  card_state_total_14  \\\n",
       "0                       -0.183715            -0.254346   \n",
       "1                       -0.177044            -0.248176   \n",
       "2                       -0.141755            -0.215535   \n",
       "3                       -0.183715            -0.254346   \n",
       "4                       -0.182847            -0.253543   \n",
       "...                           ...                  ...   \n",
       "96392                   -0.164238            -0.236331   \n",
       "96393                   -0.012154             0.382068   \n",
       "96394                   -0.097347            -0.158514   \n",
       "96395                    0.343799             0.233574   \n",
       "96396                   -0.011386             0.602506   \n",
       "\n",
       "       card_merchnum_state_total_1  card_zip_total_30  ...  card_zip_total_0  \\\n",
       "0                        -0.148173          -0.226775  ...         -0.201335   \n",
       "1                        -0.141258          -0.220377  ...         -0.190736   \n",
       "2                        -0.104676          -0.186528  ...         -0.134667   \n",
       "3                        -0.148173          -0.226775  ...         -0.201335   \n",
       "4                        -0.147272          -0.225942  ...         -0.199955   \n",
       "...                            ...                ...  ...               ...   \n",
       "96392                    -0.127983          -0.208094  ...         -0.170389   \n",
       "96393                    -0.119536          -0.062221  ...         -0.157442   \n",
       "96394                    -0.058642          -0.143934  ...         -0.064110   \n",
       "96395                     0.398656           0.404304  ...          0.636792   \n",
       "96396                    -0.011113           0.661773  ...          0.008737   \n",
       "\n",
       "       card_merchnum_max_3  card_state_max_30  merchnum_state_total_1  \\\n",
       "0                -0.431423          -0.543149               -0.257531   \n",
       "1                -0.404023          -0.521739               -0.251183   \n",
       "2                -0.259066          -0.408472               -0.217602   \n",
       "3                -0.431423          -0.543149               -0.256704   \n",
       "4                -0.431423          -0.543149               -0.255877   \n",
       "...                    ...                ...                     ...   \n",
       "96392            -0.351420          -0.480635               -0.238997   \n",
       "96393            -0.317948           0.520730               -0.231242   \n",
       "96394            -0.076656          -0.265939                1.061622   \n",
       "96395             1.735394           1.149972                1.048000   \n",
       "96396             0.111678           1.874296               -0.131713   \n",
       "\n",
       "       card_merchdesc_max_1  merchnum_zip_total_1  card_merchnum_zip_max_1  \\\n",
       "0                 -0.424627             -0.257741                -0.424521   \n",
       "1                 -0.397112             -0.251394                -0.397004   \n",
       "2                 -0.251545             -0.217814                -0.251429   \n",
       "3                 -0.424627             -0.256914                -0.424521   \n",
       "4                 -0.424627             -0.256088                -0.424521   \n",
       "...                     ...                   ...                      ...   \n",
       "96392             -0.344287             -0.239208                -0.344177   \n",
       "96393             -0.310674             -0.231454                -0.310562   \n",
       "96394             -0.068367              1.061342                -0.068241   \n",
       "96395              1.751308              1.047721                 1.751535   \n",
       "96396              0.120760             -0.131930                 0.120896   \n",
       "\n",
       "       merchnum_state_max_0  merchnum_zip_total_0  card_merchdesc_max_180  \n",
       "0                 -0.494219             -0.273379               -0.523000  \n",
       "1                 -0.466710             -0.263620               -0.499188  \n",
       "2                 -0.321183             -0.211993               -0.373212  \n",
       "3                 -0.494219             -0.272108               -0.523000  \n",
       "4                 -0.494219             -0.270837               -0.523000  \n",
       "...                     ...                   ...                     ...  \n",
       "96392             -0.413900             -0.244885               -0.453473  \n",
       "96393             -0.380296             -0.232964               -0.012289  \n",
       "96394              1.964087              1.754664               -0.214687  \n",
       "96395              1.681136              0.498347                1.360088  \n",
       "96396              0.051022             -0.079950                2.165682  \n",
       "\n",
       "[96397 rows x 30 columns]"
      ]
     },
     "execution_count": 9,
     "metadata": {},
     "output_type": "execute_result"
    }
   ],
   "source": [
    "df_model = (df_model-df_model.mean()) / df_model.std()\n",
    "df_model"
   ]
  },
  {
   "cell_type": "code",
   "execution_count": 10,
   "id": "50c1823e",
   "metadata": {},
   "outputs": [],
   "source": [
    "df_model[\"Fraud\"] = final[\"Fraud\"]\n",
    "df_model[\"Date\"] = final[\"Date\"]"
   ]
  },
  {
   "cell_type": "code",
   "execution_count": 11,
   "id": "96ba9093",
   "metadata": {},
   "outputs": [],
   "source": [
    "model = df_model[df_model.Date <= '2010-08-31']\n",
    "oot = df_model[df_model.Date > '2010-08-31']"
   ]
  },
  {
   "cell_type": "code",
   "execution_count": 12,
   "id": "e8c23362",
   "metadata": {},
   "outputs": [
    {
     "name": "stdout",
     "output_type": "stream",
     "text": [
      "(69046, 32)\n",
      "(27351, 32)\n"
     ]
    }
   ],
   "source": [
    "print(model.shape)\n",
    "print(oot.shape)"
   ]
  },
  {
   "cell_type": "code",
   "execution_count": 13,
   "id": "8114aa45",
   "metadata": {},
   "outputs": [
    {
     "data": {
      "text/plain": [
       "703"
      ]
     },
     "execution_count": 13,
     "metadata": {},
     "output_type": "execute_result"
    }
   ],
   "source": [
    "len(model[model.Fraud == 1])"
   ]
  },
  {
   "cell_type": "code",
   "execution_count": 14,
   "id": "2f7f92f4",
   "metadata": {},
   "outputs": [
    {
     "data": {
      "text/html": [
       "<div>\n",
       "<style scoped>\n",
       "    .dataframe tbody tr th:only-of-type {\n",
       "        vertical-align: middle;\n",
       "    }\n",
       "\n",
       "    .dataframe tbody tr th {\n",
       "        vertical-align: top;\n",
       "    }\n",
       "\n",
       "    .dataframe thead th {\n",
       "        text-align: right;\n",
       "    }\n",
       "</style>\n",
       "<table border=\"1\" class=\"dataframe\">\n",
       "  <thead>\n",
       "    <tr style=\"text-align: right;\">\n",
       "      <th></th>\n",
       "      <th>card_zip_total_7</th>\n",
       "      <th>card_merchnum_zip_total_7</th>\n",
       "      <th>card_state_total_7</th>\n",
       "      <th>card_merchdesc_total_7</th>\n",
       "      <th>card_merchdesc_total_14</th>\n",
       "      <th>card_state_total_1</th>\n",
       "      <th>card_merchnum_zip_total_14</th>\n",
       "      <th>card_state_total_14</th>\n",
       "      <th>card_merchnum_state_total_1</th>\n",
       "      <th>card_zip_total_30</th>\n",
       "      <th>...</th>\n",
       "      <th>card_state_max_30</th>\n",
       "      <th>merchnum_state_total_1</th>\n",
       "      <th>card_merchdesc_max_1</th>\n",
       "      <th>merchnum_zip_total_1</th>\n",
       "      <th>card_merchnum_zip_max_1</th>\n",
       "      <th>merchnum_state_max_0</th>\n",
       "      <th>merchnum_zip_total_0</th>\n",
       "      <th>card_merchdesc_max_180</th>\n",
       "      <th>Fraud</th>\n",
       "      <th>Date</th>\n",
       "    </tr>\n",
       "  </thead>\n",
       "  <tbody>\n",
       "    <tr>\n",
       "      <th>0</th>\n",
       "      <td>-0.171937</td>\n",
       "      <td>-0.167033</td>\n",
       "      <td>-0.211571</td>\n",
       "      <td>-0.165501</td>\n",
       "      <td>-0.181367</td>\n",
       "      <td>-0.161578</td>\n",
       "      <td>-0.183715</td>\n",
       "      <td>-0.254346</td>\n",
       "      <td>-0.148173</td>\n",
       "      <td>-0.226775</td>\n",
       "      <td>...</td>\n",
       "      <td>-0.543149</td>\n",
       "      <td>-0.257531</td>\n",
       "      <td>-0.424627</td>\n",
       "      <td>-0.257741</td>\n",
       "      <td>-0.424521</td>\n",
       "      <td>-0.494219</td>\n",
       "      <td>-0.273379</td>\n",
       "      <td>-0.523000</td>\n",
       "      <td>0</td>\n",
       "      <td>2010-01-01</td>\n",
       "    </tr>\n",
       "    <tr>\n",
       "      <th>1</th>\n",
       "      <td>-0.165177</td>\n",
       "      <td>-0.160257</td>\n",
       "      <td>-0.205022</td>\n",
       "      <td>-0.158717</td>\n",
       "      <td>-0.174696</td>\n",
       "      <td>-0.154719</td>\n",
       "      <td>-0.177044</td>\n",
       "      <td>-0.248176</td>\n",
       "      <td>-0.141258</td>\n",
       "      <td>-0.220377</td>\n",
       "      <td>...</td>\n",
       "      <td>-0.521739</td>\n",
       "      <td>-0.251183</td>\n",
       "      <td>-0.397112</td>\n",
       "      <td>-0.251394</td>\n",
       "      <td>-0.397004</td>\n",
       "      <td>-0.466710</td>\n",
       "      <td>-0.263620</td>\n",
       "      <td>-0.499188</td>\n",
       "      <td>0</td>\n",
       "      <td>2010-01-01</td>\n",
       "    </tr>\n",
       "    <tr>\n",
       "      <th>2</th>\n",
       "      <td>-0.129414</td>\n",
       "      <td>-0.124412</td>\n",
       "      <td>-0.170376</td>\n",
       "      <td>-0.122826</td>\n",
       "      <td>-0.139406</td>\n",
       "      <td>-0.118433</td>\n",
       "      <td>-0.141755</td>\n",
       "      <td>-0.215535</td>\n",
       "      <td>-0.104676</td>\n",
       "      <td>-0.186528</td>\n",
       "      <td>...</td>\n",
       "      <td>-0.408472</td>\n",
       "      <td>-0.217602</td>\n",
       "      <td>-0.251545</td>\n",
       "      <td>-0.217814</td>\n",
       "      <td>-0.251429</td>\n",
       "      <td>-0.321183</td>\n",
       "      <td>-0.211993</td>\n",
       "      <td>-0.373212</td>\n",
       "      <td>0</td>\n",
       "      <td>2010-01-01</td>\n",
       "    </tr>\n",
       "    <tr>\n",
       "      <th>3</th>\n",
       "      <td>-0.171937</td>\n",
       "      <td>-0.167033</td>\n",
       "      <td>-0.211571</td>\n",
       "      <td>-0.165501</td>\n",
       "      <td>-0.181367</td>\n",
       "      <td>-0.161578</td>\n",
       "      <td>-0.183715</td>\n",
       "      <td>-0.254346</td>\n",
       "      <td>-0.148173</td>\n",
       "      <td>-0.226775</td>\n",
       "      <td>...</td>\n",
       "      <td>-0.543149</td>\n",
       "      <td>-0.256704</td>\n",
       "      <td>-0.424627</td>\n",
       "      <td>-0.256914</td>\n",
       "      <td>-0.424521</td>\n",
       "      <td>-0.494219</td>\n",
       "      <td>-0.272108</td>\n",
       "      <td>-0.523000</td>\n",
       "      <td>0</td>\n",
       "      <td>2010-01-01</td>\n",
       "    </tr>\n",
       "    <tr>\n",
       "      <th>4</th>\n",
       "      <td>-0.171057</td>\n",
       "      <td>-0.166151</td>\n",
       "      <td>-0.210718</td>\n",
       "      <td>-0.164618</td>\n",
       "      <td>-0.180498</td>\n",
       "      <td>-0.160685</td>\n",
       "      <td>-0.182847</td>\n",
       "      <td>-0.253543</td>\n",
       "      <td>-0.147272</td>\n",
       "      <td>-0.225942</td>\n",
       "      <td>...</td>\n",
       "      <td>-0.543149</td>\n",
       "      <td>-0.255877</td>\n",
       "      <td>-0.424627</td>\n",
       "      <td>-0.256088</td>\n",
       "      <td>-0.424521</td>\n",
       "      <td>-0.494219</td>\n",
       "      <td>-0.270837</td>\n",
       "      <td>-0.523000</td>\n",
       "      <td>0</td>\n",
       "      <td>2010-01-01</td>\n",
       "    </tr>\n",
       "  </tbody>\n",
       "</table>\n",
       "<p>5 rows × 32 columns</p>\n",
       "</div>"
      ],
      "text/plain": [
       "   card_zip_total_7  card_merchnum_zip_total_7  card_state_total_7  \\\n",
       "0         -0.171937                  -0.167033           -0.211571   \n",
       "1         -0.165177                  -0.160257           -0.205022   \n",
       "2         -0.129414                  -0.124412           -0.170376   \n",
       "3         -0.171937                  -0.167033           -0.211571   \n",
       "4         -0.171057                  -0.166151           -0.210718   \n",
       "\n",
       "   card_merchdesc_total_7  card_merchdesc_total_14  card_state_total_1  \\\n",
       "0               -0.165501                -0.181367           -0.161578   \n",
       "1               -0.158717                -0.174696           -0.154719   \n",
       "2               -0.122826                -0.139406           -0.118433   \n",
       "3               -0.165501                -0.181367           -0.161578   \n",
       "4               -0.164618                -0.180498           -0.160685   \n",
       "\n",
       "   card_merchnum_zip_total_14  card_state_total_14  \\\n",
       "0                   -0.183715            -0.254346   \n",
       "1                   -0.177044            -0.248176   \n",
       "2                   -0.141755            -0.215535   \n",
       "3                   -0.183715            -0.254346   \n",
       "4                   -0.182847            -0.253543   \n",
       "\n",
       "   card_merchnum_state_total_1  card_zip_total_30  ...  card_state_max_30  \\\n",
       "0                    -0.148173          -0.226775  ...          -0.543149   \n",
       "1                    -0.141258          -0.220377  ...          -0.521739   \n",
       "2                    -0.104676          -0.186528  ...          -0.408472   \n",
       "3                    -0.148173          -0.226775  ...          -0.543149   \n",
       "4                    -0.147272          -0.225942  ...          -0.543149   \n",
       "\n",
       "   merchnum_state_total_1  card_merchdesc_max_1  merchnum_zip_total_1  \\\n",
       "0               -0.257531             -0.424627             -0.257741   \n",
       "1               -0.251183             -0.397112             -0.251394   \n",
       "2               -0.217602             -0.251545             -0.217814   \n",
       "3               -0.256704             -0.424627             -0.256914   \n",
       "4               -0.255877             -0.424627             -0.256088   \n",
       "\n",
       "   card_merchnum_zip_max_1  merchnum_state_max_0  merchnum_zip_total_0  \\\n",
       "0                -0.424521             -0.494219             -0.273379   \n",
       "1                -0.397004             -0.466710             -0.263620   \n",
       "2                -0.251429             -0.321183             -0.211993   \n",
       "3                -0.424521             -0.494219             -0.272108   \n",
       "4                -0.424521             -0.494219             -0.270837   \n",
       "\n",
       "   card_merchdesc_max_180  Fraud        Date  \n",
       "0               -0.523000      0  2010-01-01  \n",
       "1               -0.499188      0  2010-01-01  \n",
       "2               -0.373212      0  2010-01-01  \n",
       "3               -0.523000      0  2010-01-01  \n",
       "4               -0.523000      0  2010-01-01  \n",
       "\n",
       "[5 rows x 32 columns]"
      ]
     },
     "execution_count": 14,
     "metadata": {},
     "output_type": "execute_result"
    }
   ],
   "source": [
    "model.head()"
   ]
  },
  {
   "cell_type": "code",
   "execution_count": 15,
   "id": "3639dec2",
   "metadata": {},
   "outputs": [],
   "source": [
    "x_trntst = model.iloc[:,0:30]\n",
    "y_trntst = model[[\"Fraud\"]]\n",
    "\n",
    "x_oot = oot.iloc[:,0:30]\n",
    "y_oot = oot[[\"Fraud\"]]"
   ]
  },
  {
   "cell_type": "code",
   "execution_count": 16,
   "id": "081de710",
   "metadata": {},
   "outputs": [
    {
     "data": {
      "text/html": [
       "<div>\n",
       "<style scoped>\n",
       "    .dataframe tbody tr th:only-of-type {\n",
       "        vertical-align: middle;\n",
       "    }\n",
       "\n",
       "    .dataframe tbody tr th {\n",
       "        vertical-align: top;\n",
       "    }\n",
       "\n",
       "    .dataframe thead th {\n",
       "        text-align: right;\n",
       "    }\n",
       "</style>\n",
       "<table border=\"1\" class=\"dataframe\">\n",
       "  <thead>\n",
       "    <tr style=\"text-align: right;\">\n",
       "      <th></th>\n",
       "      <th>trn</th>\n",
       "      <th>tst</th>\n",
       "      <th>oot</th>\n",
       "    </tr>\n",
       "  </thead>\n",
       "  <tbody>\n",
       "    <tr>\n",
       "      <th>0</th>\n",
       "      <td>0.0</td>\n",
       "      <td>0.0</td>\n",
       "      <td>0.0</td>\n",
       "    </tr>\n",
       "    <tr>\n",
       "      <th>1</th>\n",
       "      <td>0.0</td>\n",
       "      <td>0.0</td>\n",
       "      <td>0.0</td>\n",
       "    </tr>\n",
       "    <tr>\n",
       "      <th>2</th>\n",
       "      <td>0.0</td>\n",
       "      <td>0.0</td>\n",
       "      <td>0.0</td>\n",
       "    </tr>\n",
       "    <tr>\n",
       "      <th>3</th>\n",
       "      <td>0.0</td>\n",
       "      <td>0.0</td>\n",
       "      <td>0.0</td>\n",
       "    </tr>\n",
       "    <tr>\n",
       "      <th>4</th>\n",
       "      <td>0.0</td>\n",
       "      <td>0.0</td>\n",
       "      <td>0.0</td>\n",
       "    </tr>\n",
       "    <tr>\n",
       "      <th>5</th>\n",
       "      <td>0.0</td>\n",
       "      <td>0.0</td>\n",
       "      <td>0.0</td>\n",
       "    </tr>\n",
       "    <tr>\n",
       "      <th>6</th>\n",
       "      <td>0.0</td>\n",
       "      <td>0.0</td>\n",
       "      <td>0.0</td>\n",
       "    </tr>\n",
       "    <tr>\n",
       "      <th>7</th>\n",
       "      <td>0.0</td>\n",
       "      <td>0.0</td>\n",
       "      <td>0.0</td>\n",
       "    </tr>\n",
       "    <tr>\n",
       "      <th>8</th>\n",
       "      <td>0.0</td>\n",
       "      <td>0.0</td>\n",
       "      <td>0.0</td>\n",
       "    </tr>\n",
       "    <tr>\n",
       "      <th>9</th>\n",
       "      <td>0.0</td>\n",
       "      <td>0.0</td>\n",
       "      <td>0.0</td>\n",
       "    </tr>\n",
       "  </tbody>\n",
       "</table>\n",
       "</div>"
      ],
      "text/plain": [
       "   trn  tst  oot\n",
       "0  0.0  0.0  0.0\n",
       "1  0.0  0.0  0.0\n",
       "2  0.0  0.0  0.0\n",
       "3  0.0  0.0  0.0\n",
       "4  0.0  0.0  0.0\n",
       "5  0.0  0.0  0.0\n",
       "6  0.0  0.0  0.0\n",
       "7  0.0  0.0  0.0\n",
       "8  0.0  0.0  0.0\n",
       "9  0.0  0.0  0.0"
      ]
     },
     "execution_count": 16,
     "metadata": {},
     "output_type": "execute_result"
    }
   ],
   "source": [
    "nitermax = 10\n",
    "\n",
    "FDR3 = pd.DataFrame(np.zeros((nitermax, 3)))\n",
    "FDR3.columns = ['trn', 'tst', 'oot']\n",
    "FDR3"
   ]
  },
  {
   "cell_type": "markdown",
   "id": "6b5e0c78",
   "metadata": {},
   "source": [
    "### Neural Network"
   ]
  },
  {
   "cell_type": "code",
   "execution_count": 53,
   "id": "432e6908",
   "metadata": {},
   "outputs": [
    {
     "name": "stdout",
     "output_type": "stream",
     "text": [
      "0 0.7790927021696252 0.7755102040816326 0.6404494382022472\n",
      "1 0.7862745098039216 0.772020725388601 0.6095505617977528\n",
      "2 0.7739307535641547 0.7452830188679245 0.6404494382022472\n",
      "3 0.7851239669421488 0.7671232876712328 0.6376404494382022\n",
      "4 0.7755102040816326 0.7793427230046949 0.6039325842696629\n",
      "5 0.7731958762886598 0.7385321100917431 0.6376404494382022\n",
      "6 0.7545638945233266 0.7761904761904762 0.6320224719101124\n",
      "7 0.7632093933463796 0.75 0.6067415730337079\n",
      "8 0.7789256198347108 0.7579908675799086 0.601123595505618\n",
      "9 0.7796257796257796 0.7837837837837838 0.5955056179775281\n"
     ]
    }
   ],
   "source": [
    "for niter in range(nitermax):\n",
    "    X_trn,X_tst,Y_trn,Y_tst=train_test_split(x_trntst,y_trntst,test_size=0.3)\n",
    "    \n",
    "    model=MLPClassifier(hidden_layer_sizes=(10),\n",
    "                       activation='relu',\n",
    "                       max_iter=2000,\n",
    "                       alpha=0.0001,\n",
    "                       solver='sgd',\n",
    "                       verbose=0,\n",
    "                       tol=0.00001,\n",
    "                       learning_rate='adaptive',\n",
    "                       learning_rate_init=0.01)\n",
    "    \n",
    "    X_trn_array=X_trn.values\n",
    "    X_tst_array=X_tst.values\n",
    "    X_oot_array=x_oot.values\n",
    "    Y_tst_array=Y_trn.values\n",
    "    Y_tst_array=Y_tst.values\n",
    "    Y_oot_array=y_oot.values\n",
    "    \n",
    "    X_trn_eval=X_trn.copy()\n",
    "    X_tst_eval=X_tst.copy()\n",
    "    X_oot_eval=x_oot.copy()\n",
    "    \n",
    "    model.fit(X_trn, Y_trn.values.ravel())\n",
    "    \n",
    "    predictions = model.predict_proba(X_trn)[:,1]\n",
    "    X_trn_eval['predicted'] = predictions\n",
    "    X_trn_eval[\"Fraud\"] = Y_trn[\"Fraud\"]\n",
    "    topRows = int(round(X_trn_eval.shape[0]*0.03))\n",
    "    temp = X_trn_eval.sort_values('predicted', ascending = False).head(topRows)\n",
    "    needed = temp.loc[:, 'Fraud']\n",
    "    FDR3.loc[niter, 'trn'] = sum(needed) / sum(X_trn_eval.loc[:,'Fraud'])\n",
    "    \n",
    "    predictions = model.predict_proba(X_tst)[:,1]\n",
    "    X_tst_eval['predicted'] = predictions\n",
    "    X_tst_eval[\"Fraud\"] = Y_tst[\"Fraud\"]\n",
    "    topRows = int(round(X_tst_eval.shape[0]*0.03))\n",
    "    temp = X_tst_eval.sort_values('predicted', ascending = False).head(topRows)\n",
    "    needed = temp.loc[:, 'Fraud']\n",
    "    FDR3.loc[niter, 'tst'] = sum(needed) / sum(X_tst_eval.loc[:,'Fraud'])\n",
    "    \n",
    "    predictions = model.predict_proba(x_oot)[:,1]\n",
    "    X_oot_eval['predicted'] = predictions\n",
    "    X_oot_eval[\"Fraud\"] = y_oot[\"Fraud\"]\n",
    "    topRows = int(round(X_oot_eval.shape[0]*0.03))\n",
    "    temp = X_oot_eval.sort_values('predicted', ascending = False).head(topRows)\n",
    "    needed = temp.loc[:, 'Fraud']\n",
    "    FDR3.loc[niter, 'oot'] = sum(needed) / sum(X_oot_eval.loc[:,'Fraud'])\n",
    "    \n",
    "    print(niter, FDR3.loc[niter, 'trn'], FDR3.loc[niter, 'tst'], FDR3.loc[niter, 'oot'])"
   ]
  },
  {
   "cell_type": "code",
   "execution_count": 54,
   "id": "38d36d0e",
   "metadata": {},
   "outputs": [
    {
     "data": {
      "text/plain": [
       "trn    0.774945\n",
       "tst    0.764578\n",
       "oot    0.620506\n",
       "dtype: float64"
      ]
     },
     "execution_count": 54,
     "metadata": {},
     "output_type": "execute_result"
    }
   ],
   "source": [
    "FDR3.mean()"
   ]
  },
  {
   "cell_type": "code",
   "execution_count": 46,
   "id": "be013c7c",
   "metadata": {},
   "outputs": [
    {
     "data": {
      "text/plain": [
       "trn    0.852911\n",
       "tst    0.795166\n",
       "oot    0.644101\n",
       "dtype: float64"
      ]
     },
     "execution_count": 46,
     "metadata": {},
     "output_type": "execute_result"
    }
   ],
   "source": [
    "# best_nn = FDR3.mean()\n",
    "best_nn"
   ]
  },
  {
   "cell_type": "markdown",
   "id": "1ca0fd33",
   "metadata": {},
   "source": [
    "### Logistic Regression"
   ]
  },
  {
   "cell_type": "code",
   "execution_count": 87,
   "id": "0cc33ae9",
   "metadata": {},
   "outputs": [
    {
     "name": "stderr",
     "output_type": "stream",
     "text": [
      "/usr/local/lib/python3.8/dist-packages/sklearn/linear_model/_logistic.py:1317: UserWarning: l1_ratio parameter is only used when penalty is 'elasticnet'. Got (penalty=l2)\n",
      "  warnings.warn(\"l1_ratio parameter is only used when penalty is \"\n"
     ]
    },
    {
     "name": "stdout",
     "output_type": "stream",
     "text": [
      "0 0.670020120724346 0.6650485436893204 0.5365168539325843\n"
     ]
    },
    {
     "name": "stderr",
     "output_type": "stream",
     "text": [
      "/usr/local/lib/python3.8/dist-packages/sklearn/linear_model/_logistic.py:1317: UserWarning: l1_ratio parameter is only used when penalty is 'elasticnet'. Got (penalty=l2)\n",
      "  warnings.warn(\"l1_ratio parameter is only used when penalty is \"\n"
     ]
    },
    {
     "name": "stdout",
     "output_type": "stream",
     "text": [
      "1 0.6534446764091858 0.6830357142857143 0.5365168539325843\n"
     ]
    },
    {
     "name": "stderr",
     "output_type": "stream",
     "text": [
      "/usr/local/lib/python3.8/dist-packages/sklearn/linear_model/_logistic.py:1317: UserWarning: l1_ratio parameter is only used when penalty is 'elasticnet'. Got (penalty=l2)\n",
      "  warnings.warn(\"l1_ratio parameter is only used when penalty is \"\n"
     ]
    },
    {
     "name": "stdout",
     "output_type": "stream",
     "text": [
      "2 0.6588693957115009 0.7 0.5561797752808989\n"
     ]
    },
    {
     "name": "stderr",
     "output_type": "stream",
     "text": [
      "/usr/local/lib/python3.8/dist-packages/sklearn/linear_model/_logistic.py:1317: UserWarning: l1_ratio parameter is only used when penalty is 'elasticnet'. Got (penalty=l2)\n",
      "  warnings.warn(\"l1_ratio parameter is only used when penalty is \"\n"
     ]
    },
    {
     "name": "stdout",
     "output_type": "stream",
     "text": [
      "3 0.675146771037182 0.6822916666666666 0.547752808988764\n"
     ]
    },
    {
     "name": "stderr",
     "output_type": "stream",
     "text": [
      "/usr/local/lib/python3.8/dist-packages/sklearn/linear_model/_logistic.py:1317: UserWarning: l1_ratio parameter is only used when penalty is 'elasticnet'. Got (penalty=l2)\n",
      "  warnings.warn(\"l1_ratio parameter is only used when penalty is \"\n"
     ]
    },
    {
     "name": "stdout",
     "output_type": "stream",
     "text": [
      "4 0.6740890688259109 0.6794258373205742 0.5589887640449438\n"
     ]
    },
    {
     "name": "stderr",
     "output_type": "stream",
     "text": [
      "/usr/local/lib/python3.8/dist-packages/sklearn/linear_model/_logistic.py:1317: UserWarning: l1_ratio parameter is only used when penalty is 'elasticnet'. Got (penalty=l2)\n",
      "  warnings.warn(\"l1_ratio parameter is only used when penalty is \"\n"
     ]
    },
    {
     "name": "stdout",
     "output_type": "stream",
     "text": [
      "5 0.6540880503144654 0.668141592920354 0.5337078651685393\n"
     ]
    },
    {
     "name": "stderr",
     "output_type": "stream",
     "text": [
      "/usr/local/lib/python3.8/dist-packages/sklearn/linear_model/_logistic.py:1317: UserWarning: l1_ratio parameter is only used when penalty is 'elasticnet'. Got (penalty=l2)\n",
      "  warnings.warn(\"l1_ratio parameter is only used when penalty is \"\n"
     ]
    },
    {
     "name": "stdout",
     "output_type": "stream",
     "text": [
      "6 0.6693711967545639 0.680952380952381 0.5421348314606742\n"
     ]
    },
    {
     "name": "stderr",
     "output_type": "stream",
     "text": [
      "/usr/local/lib/python3.8/dist-packages/sklearn/linear_model/_logistic.py:1317: UserWarning: l1_ratio parameter is only used when penalty is 'elasticnet'. Got (penalty=l2)\n",
      "  warnings.warn(\"l1_ratio parameter is only used when penalty is \"\n"
     ]
    },
    {
     "name": "stdout",
     "output_type": "stream",
     "text": [
      "7 0.6424116424116424 0.6981981981981982 0.5393258426966292\n"
     ]
    },
    {
     "name": "stderr",
     "output_type": "stream",
     "text": [
      "/usr/local/lib/python3.8/dist-packages/sklearn/linear_model/_logistic.py:1317: UserWarning: l1_ratio parameter is only used when penalty is 'elasticnet'. Got (penalty=l2)\n",
      "  warnings.warn(\"l1_ratio parameter is only used when penalty is \"\n"
     ]
    },
    {
     "name": "stdout",
     "output_type": "stream",
     "text": [
      "8 0.6774193548387096 0.642512077294686 0.5449438202247191\n"
     ]
    },
    {
     "name": "stderr",
     "output_type": "stream",
     "text": [
      "/usr/local/lib/python3.8/dist-packages/sklearn/linear_model/_logistic.py:1317: UserWarning: l1_ratio parameter is only used when penalty is 'elasticnet'. Got (penalty=l2)\n",
      "  warnings.warn(\"l1_ratio parameter is only used when penalty is \"\n"
     ]
    },
    {
     "name": "stdout",
     "output_type": "stream",
     "text": [
      "9 0.6666666666666666 0.6727272727272727 0.547752808988764\n"
     ]
    }
   ],
   "source": [
    "for niter in range(nitermax):\n",
    "    X_trn,X_tst,Y_trn,Y_tst=train_test_split(x_trntst,y_trntst,test_size=0.3)\n",
    "    \n",
    "    model = LogisticRegression(penalty = 'l2',\n",
    "                              C = 0.1,\n",
    "                              solver = 'lbfgs',\n",
    "                              l1_ratio = 'none')\n",
    "    \n",
    "    X_trn_array=X_trn.values\n",
    "    X_tst_array=X_tst.values\n",
    "    X_oot_array=x_oot.values\n",
    "    Y_tst_array=Y_trn.values\n",
    "    Y_tst_array=Y_tst.values\n",
    "    Y_oot_array=y_oot.values\n",
    "    \n",
    "    X_trn_eval=X_trn.copy()\n",
    "    X_tst_eval=X_tst.copy()\n",
    "    X_oot_eval=x_oot.copy()\n",
    "    \n",
    "    model.fit(X_trn, Y_trn.values.ravel())\n",
    "    \n",
    "    predictions = model.predict_proba(X_trn)[:,1]\n",
    "    X_trn_eval['predicted'] = predictions\n",
    "    X_trn_eval[\"Fraud\"] = Y_trn[\"Fraud\"]\n",
    "    topRows = int(round(X_trn_eval.shape[0]*0.03))\n",
    "    temp = X_trn_eval.sort_values('predicted', ascending = False).head(topRows)\n",
    "    needed = temp.loc[:, 'Fraud']\n",
    "    FDR3.loc[niter, 'trn'] = sum(needed) / sum(X_trn_eval.loc[:,'Fraud'])\n",
    "    \n",
    "    predictions = model.predict_proba(X_tst)[:,1]\n",
    "    X_tst_eval['predicted'] = predictions\n",
    "    X_tst_eval[\"Fraud\"] = Y_tst[\"Fraud\"]\n",
    "    topRows = int(round(X_tst_eval.shape[0]*0.03))\n",
    "    temp = X_tst_eval.sort_values('predicted', ascending = False).head(topRows)\n",
    "    needed = temp.loc[:, 'Fraud']\n",
    "    FDR3.loc[niter, 'tst'] = sum(needed) / sum(X_tst_eval.loc[:,'Fraud'])\n",
    "    \n",
    "    predictions = model.predict_proba(x_oot)[:,1]\n",
    "    X_oot_eval['predicted'] = predictions\n",
    "    X_oot_eval[\"Fraud\"] = y_oot[\"Fraud\"]\n",
    "    topRows = int(round(X_oot_eval.shape[0]*0.03))\n",
    "    temp = X_oot_eval.sort_values('predicted', ascending = False).head(topRows)\n",
    "    needed = temp.loc[:, 'Fraud']\n",
    "    FDR3.loc[niter, 'oot'] = sum(needed) / sum(X_oot_eval.loc[:,'Fraud'])\n",
    "    \n",
    "    print(niter, FDR3.loc[niter, 'trn'], FDR3.loc[niter, 'tst'], FDR3.loc[niter, 'oot'])"
   ]
  },
  {
   "cell_type": "code",
   "execution_count": 88,
   "id": "dd9a70fe",
   "metadata": {},
   "outputs": [
    {
     "data": {
      "text/plain": [
       "trn    0.664153\n",
       "tst    0.677233\n",
       "oot    0.544382\n",
       "dtype: float64"
      ]
     },
     "execution_count": 88,
     "metadata": {},
     "output_type": "execute_result"
    }
   ],
   "source": [
    "FDR3.mean()"
   ]
  },
  {
   "cell_type": "code",
   "execution_count": 59,
   "id": "32ff0e3a",
   "metadata": {},
   "outputs": [
    {
     "data": {
      "text/plain": [
       "trn    0.676199\n",
       "tst    0.690352\n",
       "oot    0.542697\n",
       "dtype: float64"
      ]
     },
     "execution_count": 59,
     "metadata": {},
     "output_type": "execute_result"
    }
   ],
   "source": [
    "best_log = FDR3.mean()\n",
    "best_log"
   ]
  },
  {
   "cell_type": "markdown",
   "id": "e8c191db",
   "metadata": {},
   "source": [
    "### Gradient Boosting Tree"
   ]
  },
  {
   "cell_type": "code",
   "execution_count": 101,
   "id": "0e198eff",
   "metadata": {},
   "outputs": [
    {
     "name": "stdout",
     "output_type": "stream",
     "text": [
      "0 0.718052738336714 0.7380952380952381 0.5084269662921348\n",
      "1 0.7452229299363057 0.7068965517241379 0.5561797752808989\n",
      "2 0.731404958677686 0.680365296803653 0.5421348314606742\n",
      "3 0.7006237006237006 0.7162162162162162 0.5224719101123596\n",
      "4 0.7405940594059406 0.7222222222222222 0.5814606741573034\n",
      "5 0.7447257383966245 0.7336244541484717 0.5955056179775281\n",
      "6 0.7326530612244898 0.7230046948356808 0.550561797752809\n",
      "7 0.7261410788381742 0.7013574660633484 0.5252808988764045\n",
      "8 0.751004016064257 0.7463414634146341 0.5337078651685393\n",
      "9 0.7398058252427184 0.675531914893617 0.5280898876404494\n"
     ]
    }
   ],
   "source": [
    "for niter in range(nitermax):\n",
    "    X_trn,X_tst,Y_trn,Y_tst=train_test_split(x_trntst,y_trntst,test_size=0.3)\n",
    "    \n",
    "   \n",
    "    model = GradientBoostingClassifier(learning_rate=0.01,\n",
    "                              n_estimators=100,\n",
    "                              max_depth=3,\n",
    "                              max_features=5,\n",
    "                              min_samples_leaf=1,\n",
    "                              min_samples_split=2,\n",
    "                              subsample=1)\n",
    "   \n",
    "    \n",
    "    X_trn_array=X_trn.values\n",
    "    X_tst_array=X_tst.values\n",
    "    X_oot_array=x_oot.values\n",
    "    Y_tst_array=Y_trn.values\n",
    "    Y_tst_array=Y_tst.values\n",
    "    Y_oot_array=y_oot.values\n",
    "    \n",
    "    X_trn_eval=X_trn.copy()\n",
    "    X_tst_eval=X_tst.copy()\n",
    "    X_oot_eval=x_oot.copy()\n",
    "    \n",
    "    model.fit(X_trn, Y_trn.values.ravel())\n",
    "    \n",
    "    predictions = model.predict_proba(X_trn)[:,1]\n",
    "    X_trn_eval['predicted'] = predictions\n",
    "    X_trn_eval[\"Fraud\"] = Y_trn[\"Fraud\"]\n",
    "    topRows = int(round(X_trn_eval.shape[0]*0.03))\n",
    "    temp = X_trn_eval.sort_values('predicted', ascending = False).head(topRows)\n",
    "    needed = temp.loc[:, 'Fraud']\n",
    "    FDR3.loc[niter, 'trn'] = sum(needed) / sum(X_trn_eval.loc[:,'Fraud'])\n",
    "    \n",
    "    predictions = model.predict_proba(X_tst)[:,1]\n",
    "    X_tst_eval['predicted'] = predictions\n",
    "    X_tst_eval[\"Fraud\"] = Y_tst[\"Fraud\"]\n",
    "    topRows = int(round(X_tst_eval.shape[0]*0.03))\n",
    "    temp = X_tst_eval.sort_values('predicted', ascending = False).head(topRows)\n",
    "    needed = temp.loc[:, 'Fraud']\n",
    "    FDR3.loc[niter, 'tst'] = sum(needed) / sum(X_tst_eval.loc[:,'Fraud'])\n",
    "    \n",
    "    predictions = model.predict_proba(x_oot)[:,1]\n",
    "    X_oot_eval['predicted'] = predictions\n",
    "    X_oot_eval[\"Fraud\"] = y_oot[\"Fraud\"]\n",
    "    topRows = int(round(X_oot_eval.shape[0]*0.03))\n",
    "    temp = X_oot_eval.sort_values('predicted', ascending = False).head(topRows)\n",
    "    needed = temp.loc[:, 'Fraud']\n",
    "    FDR3.loc[niter, 'oot'] = sum(needed) / sum(X_oot_eval.loc[:,'Fraud'])\n",
    "    \n",
    "    print(niter, FDR3.loc[niter, 'trn'], FDR3.loc[niter, 'tst'], FDR3.loc[niter, 'oot'])"
   ]
  },
  {
   "cell_type": "code",
   "execution_count": 102,
   "id": "11f15db8",
   "metadata": {},
   "outputs": [
    {
     "data": {
      "text/plain": [
       "trn    0.733023\n",
       "tst    0.714366\n",
       "oot    0.544382\n",
       "dtype: float64"
      ]
     },
     "execution_count": 102,
     "metadata": {},
     "output_type": "execute_result"
    }
   ],
   "source": [
    "FDR3.mean()"
   ]
  },
  {
   "cell_type": "code",
   "execution_count": 93,
   "id": "db2f36ed",
   "metadata": {},
   "outputs": [
    {
     "data": {
      "text/plain": [
       "trn    0.983638\n",
       "tst    0.879998\n",
       "oot    0.636517\n",
       "dtype: float64"
      ]
     },
     "execution_count": 93,
     "metadata": {},
     "output_type": "execute_result"
    }
   ],
   "source": [
    "best_gbt = FDR3.mean()\n",
    "best_gbt"
   ]
  },
  {
   "cell_type": "markdown",
   "id": "144c9645",
   "metadata": {},
   "source": [
    "### Random Forest "
   ]
  },
  {
   "cell_type": "code",
   "execution_count": 28,
   "id": "8f5f8ae6",
   "metadata": {},
   "outputs": [
    {
     "name": "stdout",
     "output_type": "stream",
     "text": [
      "0 0.993801652892562 0.8812785388127854 0.6544943820224719\n",
      "1 0.9822485207100592 0.9030612244897959 0.6573033707865169\n",
      "2 0.9957627118644068 0.8181818181818182 0.6432584269662921\n",
      "3 0.991701244813278 0.8687782805429864 0.651685393258427\n",
      "4 0.98046875 0.9057591623036649 0.6207865168539326\n",
      "5 0.9939024390243902 0.8767772511848341 0.6432584269662921\n",
      "6 0.98989898989899 0.8509615384615384 0.6601123595505618\n",
      "7 0.9800399201596807 0.8514851485148515 0.651685393258427\n",
      "8 0.9937888198757764 0.8636363636363636 0.6292134831460674\n",
      "9 0.9897330595482546 0.8888888888888888 0.651685393258427\n"
     ]
    }
   ],
   "source": [
    "for niter in range(nitermax):\n",
    "    X_trn,X_tst,Y_trn,Y_tst=train_test_split(x_trntst,y_trntst,test_size=0.3)\n",
    "    \n",
    "   \n",
    "    model = RandomForestClassifier(bootstrap = True,\n",
    "                                  n_estimators = 500,\n",
    "                                  max_depth = None,\n",
    "                                  max_features = 20,\n",
    "                                  min_samples_leaf = 15,\n",
    "                                  min_samples_split = 2,\n",
    "                                  criterion = 'gini')\n",
    "   \n",
    "    \n",
    "    X_trn_array=X_trn.values\n",
    "    X_tst_array=X_tst.values\n",
    "    X_oot_array=x_oot.values\n",
    "    Y_tst_array=Y_trn.values\n",
    "    Y_tst_array=Y_tst.values\n",
    "    Y_oot_array=y_oot.values\n",
    "    \n",
    "    X_trn_eval=X_trn.copy()\n",
    "    X_tst_eval=X_tst.copy()\n",
    "    X_oot_eval=x_oot.copy()\n",
    "    \n",
    "    model.fit(X_trn, Y_trn.values.ravel())\n",
    "    \n",
    "    predictions = model.predict_proba(X_trn)[:,1]\n",
    "    X_trn_eval['predicted'] = predictions\n",
    "    X_trn_eval[\"Fraud\"] = Y_trn[\"Fraud\"]\n",
    "    topRows = int(round(X_trn_eval.shape[0]*0.03))\n",
    "    temp = X_trn_eval.sort_values('predicted', ascending = False).head(topRows)\n",
    "    needed = temp.loc[:, 'Fraud']\n",
    "    FDR3.loc[niter, 'trn'] = sum(needed) / sum(X_trn_eval.loc[:,'Fraud'])\n",
    "    \n",
    "    predictions = model.predict_proba(X_tst)[:,1]\n",
    "    X_tst_eval['predicted'] = predictions\n",
    "    X_tst_eval[\"Fraud\"] = Y_tst[\"Fraud\"]\n",
    "    topRows = int(round(X_tst_eval.shape[0]*0.03))\n",
    "    temp = X_tst_eval.sort_values('predicted', ascending = False).head(topRows)\n",
    "    needed = temp.loc[:, 'Fraud']\n",
    "    FDR3.loc[niter, 'tst'] = sum(needed) / sum(X_tst_eval.loc[:,'Fraud'])\n",
    "    \n",
    "    predictions = model.predict_proba(x_oot)[:,1]\n",
    "    X_oot_eval['predicted'] = predictions\n",
    "    X_oot_eval[\"Fraud\"] = y_oot[\"Fraud\"]\n",
    "    topRows = int(round(X_oot_eval.shape[0]*0.03))\n",
    "    temp = X_oot_eval.sort_values('predicted', ascending = False).head(topRows)\n",
    "    needed = temp.loc[:, 'Fraud']\n",
    "    FDR3.loc[niter, 'oot'] = sum(needed) / sum(X_oot_eval.loc[:,'Fraud'])\n",
    "    \n",
    "    print(niter, FDR3.loc[niter, 'trn'], FDR3.loc[niter, 'tst'], FDR3.loc[niter, 'oot'])"
   ]
  },
  {
   "cell_type": "code",
   "execution_count": 41,
   "id": "0447374b",
   "metadata": {},
   "outputs": [
    {
     "data": {
      "text/plain": [
       "trn    0.989135\n",
       "tst    0.870881\n",
       "oot    0.646348\n",
       "dtype: float64"
      ]
     },
     "execution_count": 41,
     "metadata": {},
     "output_type": "execute_result"
    }
   ],
   "source": [
    "FDR3.mean()"
   ]
  },
  {
   "cell_type": "code",
   "execution_count": 118,
   "id": "5d092c7d",
   "metadata": {},
   "outputs": [
    {
     "data": {
      "text/plain": [
       "trn    0.985253\n",
       "tst    0.875273\n",
       "oot    0.650000\n",
       "dtype: float64"
      ]
     },
     "execution_count": 118,
     "metadata": {},
     "output_type": "execute_result"
    }
   ],
   "source": [
    "best_rf = FDR3.mean()\n",
    "best_rf"
   ]
  },
  {
   "cell_type": "code",
   "execution_count": 42,
   "id": "0bea05bf",
   "metadata": {},
   "outputs": [
    {
     "data": {
      "text/plain": [
       "RandomForestClassifier(max_features=20, min_samples_leaf=15, n_estimators=500)"
      ]
     },
     "execution_count": 42,
     "metadata": {},
     "output_type": "execute_result"
    }
   ],
   "source": [
    "best_random_forest_model = model\n",
    "best_random_forest_model"
   ]
  },
  {
   "cell_type": "markdown",
   "id": "6291912a",
   "metadata": {},
   "source": [
    "# Tables For Report"
   ]
  },
  {
   "cell_type": "code",
   "execution_count": 17,
   "id": "b2be665e",
   "metadata": {},
   "outputs": [],
   "source": [
    "X_trn,X_tst,Y_trn,Y_tst=train_test_split(x_trntst,y_trntst,test_size=0.3)"
   ]
  },
  {
   "cell_type": "code",
   "execution_count": 39,
   "id": "9bf0ecfb",
   "metadata": {
    "collapsed": true,
    "jupyter": {
     "outputs_hidden": true,
     "source_hidden": true
    }
   },
   "outputs": [
    {
     "name": "stdout",
     "output_type": "stream",
     "text": [
      "<function fdr_RF at 0x7fa0e12b2550>\n",
      "{'fdr': {}}\n"
     ]
    },
    {
     "name": "stderr",
     "output_type": "stream",
     "text": [
      "<ipython-input-39-c5b11200645c>:11: FutureWarning: The pandas.datetime class is deprecated and will be removed from pandas in a future version. Import from datetime module instead.\n",
      "  time_results = pd.datetime.now()\n",
      "<ipython-input-39-c5b11200645c>:17: FutureWarning: The pandas.datetime class is deprecated and will be removed from pandas in a future version. Import from datetime module instead.\n",
      "  curr_time = pd.datetime.now()\n"
     ]
    },
    {
     "ename": "KeyError",
     "evalue": "'random_forest_1'",
     "output_type": "error",
     "traceback": [
      "\u001b[0;31m---------------------------------------------------------------------------\u001b[0m",
      "\u001b[0;31mKeyError\u001b[0m                                  Traceback (most recent call last)",
      "\u001b[0;32m<ipython-input-39-c5b11200645c>\u001b[0m in \u001b[0;36m<module>\u001b[0;34m\u001b[0m\n\u001b[1;32m     20\u001b[0m \u001b[0;34m\u001b[0m\u001b[0m\n\u001b[1;32m     21\u001b[0m     \u001b[0mprint\u001b[0m\u001b[0;34m(\u001b[0m\u001b[0mresults_dict_RF\u001b[0m\u001b[0;34m[\u001b[0m\u001b[0mmodel_name\u001b[0m\u001b[0;34m]\u001b[0m\u001b[0;34m)\u001b[0m\u001b[0;34m\u001b[0m\u001b[0;34m\u001b[0m\u001b[0m\n\u001b[0;32m---> 22\u001b[0;31m     \u001b[0mprint\u001b[0m\u001b[0;34m(\u001b[0m\u001b[0mfdr_RF\u001b[0m\u001b[0;34m(\u001b[0m\u001b[0mvars\u001b[0m\u001b[0;34m(\u001b[0m\u001b[0;34m)\u001b[0m\u001b[0;34m[\u001b[0m\u001b[0mmodel_name\u001b[0m\u001b[0;34m]\u001b[0m\u001b[0;34m,\u001b[0m\u001b[0mX_trn\u001b[0m\u001b[0;34m,\u001b[0m\u001b[0mY_trn\u001b[0m\u001b[0;34m)\u001b[0m\u001b[0;34m)\u001b[0m\u001b[0;34m\u001b[0m\u001b[0;34m\u001b[0m\u001b[0m\n\u001b[0m\u001b[1;32m     23\u001b[0m     \u001b[0;31m# calculate fdr for training, testing, and validation sets\u001b[0m\u001b[0;34m\u001b[0m\u001b[0;34m\u001b[0m\u001b[0;34m\u001b[0m\u001b[0m\n\u001b[1;32m     24\u001b[0m     \u001b[0mresults_dict_RF\u001b[0m\u001b[0;34m[\u001b[0m\u001b[0mmodel_name\u001b[0m\u001b[0;34m]\u001b[0m\u001b[0;34m[\u001b[0m\u001b[0;34m'fdr'\u001b[0m\u001b[0;34m]\u001b[0m\u001b[0;34m[\u001b[0m\u001b[0;34m'train_fdr_30'\u001b[0m\u001b[0;34m]\u001b[0m\u001b[0;34m=\u001b[0m\u001b[0mfdr_RF\u001b[0m\u001b[0;34m(\u001b[0m\u001b[0mvars\u001b[0m\u001b[0;34m(\u001b[0m\u001b[0;34m)\u001b[0m\u001b[0;34m[\u001b[0m\u001b[0mmodel_name\u001b[0m\u001b[0;34m]\u001b[0m\u001b[0;34m,\u001b[0m\u001b[0mX_trn\u001b[0m\u001b[0;34m,\u001b[0m\u001b[0mY_trn\u001b[0m\u001b[0;34m)\u001b[0m\u001b[0;34m\u001b[0m\u001b[0;34m\u001b[0m\u001b[0m\n",
      "\u001b[0;31mKeyError\u001b[0m: 'random_forest_1'"
     ]
    }
   ],
   "source": [
    "def fdr_RF(model,X_data,Y_data):\n",
    "    Y_data = pd.DataFrame(Y_data)\n",
    "    Y_data['Fraud Proba'] = model.predict_proba(X_data)[:,1].tolist()\n",
    "    Y_data = Y_data.sort_values(by='Fraud Proba',ascending=False)\n",
    "    total_bads = Y_data['fraud_label'][Y_data['fraud_label']==1].count()\n",
    "    top_rows = int(len(X_data)*.03)\n",
    "    sum_bads = Y_data['fraud_label'].head(top_rows)[Y_data['fraud_label']==1].count()\n",
    "    fdr = sum_bads/total_bads\n",
    "    return fdr*100\n",
    "\n",
    "time_results = pd.datetime.now()\n",
    "results_dict_RF = {}\n",
    "\n",
    "print(fdr_RF(vars))\n",
    "\n",
    "for i in range(1,13):\n",
    "    curr_time = pd.datetime.now()\n",
    "    model_name = \"random_forest_\"+str(i)\n",
    "    results_dict_RF[model_name] = {'fdr':{}}\n",
    "    \n",
    "    print(results_dict_RF[model_name])\n",
    "    print(fdr_RF(vars()[model_name],X_trn,Y_trn))\n",
    "    # calculate fdr for training, testing, and validation sets\n",
    "    results_dict_RF[model_name]['fdr']['train_fdr_30']=fdr_RF(vars()[model_name],X_trn,Y_trn)\n",
    "    results_dict_RF[model_name]['fdr']['test_fdr_30']=fdr_RF(vars()[model_name],X_tst,Y_tst)\n",
    "    results_dict_RF[model_name]['fdr']['oot_fdr_30']=fdr_RF(vars()[model_name],x_oot,y_oot)\n",
    "\n",
    "    print(\"Done with:\",model_name, \"; time:\",pd.datetime.now()-curr_time)\n",
    "\n",
    "    print(\"DONE!\", pd.datetime.now()-time_results)\n",
    "\n",
    "# Get the best model number with highest test fdr\n",
    "for k,v in results_dict_RF.items():\n",
    "    maximum_key = max(results_dict_RF, key=lambda v: results_dict_RF[v]['fdr']['test_fdr_30'])\n",
    "    vars()[maximum_key]"
   ]
  },
  {
   "cell_type": "code",
   "execution_count": 27,
   "id": "876763ab",
   "metadata": {
    "jupyter": {
     "source_hidden": true
    }
   },
   "outputs": [],
   "source": [
    "def output_table(y_res_valid,Y_valid):\n",
    "    # returs the output tables\n",
    "    # y_res_valis is y_pred\n",
    "    # Y_valid is y_true\n",
    "    # returns:\n",
    "    # cumulative dataset, Bin Statistics\n",
    "    no_of_bads =Y_valid.sum()\n",
    "    no_of_records = len(Y_valid)\n",
    "    no_of_goods = no_of_records - no_of_bads\n",
    "    print('no_of_records',no_of_records)\n",
    "    print('No of bads',no_of_bads)\n",
    "    print('no_of_goods',no_of_goods)\n",
    "\n",
    "    fin_tabl_df = pd.DataFrame({'score':y_res_valid,'label': Y_valid}).sort_values(by='score',ascending=False)\n",
    "    df_pres_cum = pd.DataFrame(columns=['Total # Records','# Goods','# Bads'])\n",
    "\n",
    "    for i_tbl_df in range(1,21): #21 is the final\n",
    "        # print(i_tbl_df)\n",
    "        top3_res2 = fin_tabl_df.head(round(Y_valid.shape[0]*(i_tbl_df/100)))\n",
    "        top3_res2#['label'].sum()/sum(Y_valid)\n",
    "        # print('No of records:',top3_res2.shape[0])\n",
    "        df_pres_cum.loc[i_tbl_df-1,'Total # Records'] = top3_res2.shape[0]\n",
    "        # print('No of bads:',top3_res2['label'].sum())\n",
    "        df_pres_cum.loc[i_tbl_df-1,'# Bads'] = top3_res2['label'].sum()\n",
    "        # print('No of goods:',top3_res2.shape[0]- top3_res2['label'].sum())\n",
    "        df_pres_cum.loc[i_tbl_df-1,'# Goods'] = top3_res2.shape[0]- top3_res2['label'].sum()\n",
    "\n",
    "    df_pres = df_pres_cum.diff()\n",
    "    df_pres.loc[0] = df_pres_cum.loc[0]\n",
    "    df_pres = df_pres.rename(columns={\"Total # Records\": \"# Records\"})\n",
    "    df_pres['% Goods'] = 100*(df_pres['# Goods']/df_pres['# Records'])\n",
    "    df_pres['% Bads'] = 100*(df_pres['# Bads']/df_pres['# Records'])\n",
    "    print('Bin statistics')\n",
    "    df_pres.to_csv(path+'Test_Bin_stats.csv')\n",
    "    display(df_pres)\n",
    "\n",
    "    df_pres_cum['% Goods'] = 100*(df_pres_cum['# Goods']/no_of_goods)\n",
    "    df_pres_cum['% Bads'] = 100*(df_pres_cum['# Bads']/no_of_bads)\n",
    "    df_pres_cum['KS'] = df_pres_cum['% Bads'] - df_pres_cum['% Goods']\n",
    "    df_pres_cum['FPR'] = df_pres_cum['# Goods']/df_pres_cum['# Bads']\n",
    "    df_pres_cum = df_pres_cum.rename(columns={\"# Goods\": \"Cumulative Goods\",'# Bads':'Cumulative Bads','% Bads':'% Bads (FDR)'})\n",
    "    print('Cumulative results')\n",
    "    #df_pres_cum.to_csv(path+'Test_Cum_stats.csv') To save into a csv file\n",
    "    display(df_pres_cum)\n",
    "    \n",
    "    return df_pres_cum, df_pres\n"
   ]
  },
  {
   "cell_type": "code",
   "execution_count": 29,
   "id": "1284d068",
   "metadata": {
    "collapsed": true,
    "jupyter": {
     "outputs_hidden": true,
     "source_hidden": true
    }
   },
   "outputs": [
    {
     "ename": "NameError",
     "evalue": "name 'maximum_key' is not defined",
     "output_type": "error",
     "traceback": [
      "\u001b[0;31m---------------------------------------------------------------------------\u001b[0m",
      "\u001b[0;31mNameError\u001b[0m                                 Traceback (most recent call last)",
      "\u001b[0;32m<ipython-input-29-99182026394b>\u001b[0m in \u001b[0;36m<module>\u001b[0;34m\u001b[0m\n\u001b[1;32m      1\u001b[0m \u001b[0;31m# Concatenating Fraud probability fitted with the best model with actual fraud label for calculating bin statistics\u001b[0m\u001b[0;34m\u001b[0m\u001b[0;34m\u001b[0m\u001b[0;34m\u001b[0m\u001b[0m\n\u001b[0;32m----> 2\u001b[0;31m \u001b[0mY_train\u001b[0m\u001b[0;34m[\u001b[0m\u001b[0;34m'Fraud Proba'\u001b[0m\u001b[0;34m]\u001b[0m \u001b[0;34m=\u001b[0m \u001b[0mvars\u001b[0m\u001b[0;34m(\u001b[0m\u001b[0;34m)\u001b[0m\u001b[0;34m[\u001b[0m\u001b[0mmaximum_key\u001b[0m\u001b[0;34m]\u001b[0m\u001b[0;34m.\u001b[0m\u001b[0mpredict_proba\u001b[0m\u001b[0;34m(\u001b[0m\u001b[0mX_trn\u001b[0m\u001b[0;34m)\u001b[0m\u001b[0;34m[\u001b[0m\u001b[0;34m:\u001b[0m\u001b[0;34m,\u001b[0m\u001b[0;36m1\u001b[0m\u001b[0;34m]\u001b[0m\u001b[0;34m.\u001b[0m\u001b[0mtolist\u001b[0m\u001b[0;34m(\u001b[0m\u001b[0;34m)\u001b[0m\u001b[0;34m\u001b[0m\u001b[0;34m\u001b[0m\u001b[0m\n\u001b[0m\u001b[1;32m      3\u001b[0m \u001b[0mY_test\u001b[0m\u001b[0;34m[\u001b[0m\u001b[0;34m'Fraud Proba'\u001b[0m\u001b[0;34m]\u001b[0m \u001b[0;34m=\u001b[0m \u001b[0mvars\u001b[0m\u001b[0;34m(\u001b[0m\u001b[0;34m)\u001b[0m\u001b[0;34m[\u001b[0m\u001b[0mmaximum_key\u001b[0m\u001b[0;34m]\u001b[0m\u001b[0;34m.\u001b[0m\u001b[0mpredict_proba\u001b[0m\u001b[0;34m(\u001b[0m\u001b[0mX_tst\u001b[0m\u001b[0;34m)\u001b[0m\u001b[0;34m[\u001b[0m\u001b[0;34m:\u001b[0m\u001b[0;34m,\u001b[0m\u001b[0;36m1\u001b[0m\u001b[0;34m]\u001b[0m\u001b[0;34m.\u001b[0m\u001b[0mtolist\u001b[0m\u001b[0;34m(\u001b[0m\u001b[0;34m)\u001b[0m\u001b[0;34m\u001b[0m\u001b[0;34m\u001b[0m\u001b[0m\n\u001b[1;32m      4\u001b[0m \u001b[0mY_oot\u001b[0m\u001b[0;34m[\u001b[0m\u001b[0;34m'Fraud Proba'\u001b[0m\u001b[0;34m]\u001b[0m \u001b[0;34m=\u001b[0m \u001b[0mvars\u001b[0m\u001b[0;34m(\u001b[0m\u001b[0;34m)\u001b[0m\u001b[0;34m[\u001b[0m\u001b[0mmaximum_key\u001b[0m\u001b[0;34m]\u001b[0m\u001b[0;34m.\u001b[0m\u001b[0mpredict_proba\u001b[0m\u001b[0;34m(\u001b[0m\u001b[0mx_oot\u001b[0m\u001b[0;34m)\u001b[0m\u001b[0;34m[\u001b[0m\u001b[0;34m:\u001b[0m\u001b[0;34m,\u001b[0m\u001b[0;36m1\u001b[0m\u001b[0;34m]\u001b[0m\u001b[0;34m.\u001b[0m\u001b[0mtolist\u001b[0m\u001b[0;34m(\u001b[0m\u001b[0;34m)\u001b[0m\u001b[0;34m\u001b[0m\u001b[0;34m\u001b[0m\u001b[0m\n",
      "\u001b[0;31mNameError\u001b[0m: name 'maximum_key' is not defined"
     ]
    }
   ],
   "source": [
    "# Concatenating Fraud probability fitted with the best model with actual fraud label for calculating bin statistics\n",
    "Y_train['Fraud Proba'] = vars()[maximum_key].predict_proba(X_trn)[:,1].tolist()\n",
    "Y_test['Fraud Proba'] = vars()[maximum_key].predict_proba(X_tst)[:,1].tolist()\n",
    "Y_oot['Fraud Proba'] = vars()[maximum_key].predict_proba(x_oot)[:,1].tolist()"
   ]
  },
  {
   "cell_type": "code",
   "execution_count": null,
   "id": "96376d4b",
   "metadata": {
    "jupyter": {
     "source_hidden": true
    }
   },
   "outputs": [],
   "source": [
    "# Training Set\n",
    "output_table(Y_train['Fraud Proba'],Y_train['fraud_label'])"
   ]
  },
  {
   "cell_type": "code",
   "execution_count": null,
   "id": "48b15a78",
   "metadata": {
    "jupyter": {
     "source_hidden": true
    }
   },
   "outputs": [],
   "source": [
    "# Testing Set\n",
    "output_table(Y_test['Fraud Proba'],Y_test['fraud_label'])"
   ]
  },
  {
   "cell_type": "code",
   "execution_count": null,
   "id": "894ddf02",
   "metadata": {
    "jupyter": {
     "source_hidden": true
    }
   },
   "outputs": [],
   "source": [
    "# OOT Set\n",
    "output_table(Y_oot['Fraud Proba'],Y_oot['fraud_label'])"
   ]
  },
  {
   "cell_type": "code",
   "execution_count": null,
   "id": "c15ff29e",
   "metadata": {
    "jupyter": {
     "source_hidden": true
    }
   },
   "outputs": [],
   "source": []
  },
  {
   "cell_type": "code",
   "execution_count": 55,
   "id": "e3359ad4",
   "metadata": {},
   "outputs": [],
   "source": [
    "def output_table(y_res_valid,Y_valid):\n",
    "    # returs the output tables\n",
    "    # y_res_valis is y_pred\n",
    "    # Y_valid is y_true\n",
    "    # returns:\n",
    "    # cumulative dataset, Bin Statistics\n",
    "    no_of_bads =Y_valid.sum()\n",
    "    no_of_records = len(Y_valid)\n",
    "    no_of_goods = no_of_records - no_of_bads\n",
    "    print('no_of_records',no_of_records)\n",
    "    print('No of bads',no_of_bads)\n",
    "    print('no_of_goods',no_of_goods)\n",
    "\n",
    "    fin_tabl_df = pd.DataFrame({'score':y_res_valid,'label': Y_valid}).sort_values(by='score',ascending=False)\n",
    "    df_pres_cum = pd.DataFrame(columns=['Total # Records','# Goods','# Bads'])\n",
    "\n",
    "    for i_tbl_df in range(1,21): #21 is the final\n",
    "        # print(i_tbl_df)\n",
    "        top3_res2 = fin_tabl_df.head(round(Y_valid.shape[0]*(i_tbl_df/100)))\n",
    "        top3_res2#['label'].sum()/sum(Y_valid)\n",
    "        # print('No of records:',top3_res2.shape[0])\n",
    "        df_pres_cum.loc[i_tbl_df-1,'Total # Records'] = top3_res2.shape[0]\n",
    "        # print('No of bads:',top3_res2['label'].sum())\n",
    "        df_pres_cum.loc[i_tbl_df-1,'# Bads'] = top3_res2['label'].sum()\n",
    "        # print('No of goods:',top3_res2.shape[0]- top3_res2['label'].sum())\n",
    "        df_pres_cum.loc[i_tbl_df-1,'# Goods'] = top3_res2.shape[0]- top3_res2['label'].sum()\n",
    "\n",
    "    df_pres = df_pres_cum.diff()\n",
    "    df_pres.loc[0] = df_pres_cum.loc[0]\n",
    "    df_pres = df_pres.rename(columns={\"Total # Records\": \"# Records\"})\n",
    "    df_pres['% Goods'] = 100*(df_pres['# Goods']/df_pres['# Records'])\n",
    "    df_pres['% Bads'] = 100*(df_pres['# Bads']/df_pres['# Records'])\n",
    "    # print('Bin statistics')\n",
    "    # df_pres.to_csv('Test_Bin_stats.csv')\n",
    "    # display(df_pres)\n",
    "\n",
    "    df_pres_cum['% Goods'] = 100*(df_pres_cum['# Goods']/no_of_goods)\n",
    "    df_pres_cum['% Bads'] = 100*(df_pres_cum['# Bads']/no_of_bads)\n",
    "    df_pres_cum['KS'] = df_pres_cum['% Bads'] - df_pres_cum['% Goods']\n",
    "    df_pres_cum['FPR'] = df_pres_cum['# Goods']/df_pres_cum['# Bads']\n",
    "    df_pres_cum = df_pres_cum.rename(columns={\"# Goods\": \"Cumulative Goods\",'# Bads':'Cumulative Bads','% Bads':'% Bads (FDR)'})\n",
    "    # print('Cumulative results')\n",
    "    \n",
    "    # df_pres_cum.to_csv(path+'Test_Cum_stats.csv') To save into a csv file\n",
    "    \n",
    "    #display(df_pres_cum)\n",
    "    return df_pres_cum, df_pres"
   ]
  },
  {
   "cell_type": "code",
   "execution_count": 53,
   "id": "d4138a5b",
   "metadata": {},
   "outputs": [
    {
     "name": "stderr",
     "output_type": "stream",
     "text": [
      "<ipython-input-53-03c03090aa69>:2: SettingWithCopyWarning: \n",
      "A value is trying to be set on a copy of a slice from a DataFrame.\n",
      "Try using .loc[row_indexer,col_indexer] = value instead\n",
      "\n",
      "See the caveats in the documentation: https://pandas.pydata.org/pandas-docs/stable/user_guide/indexing.html#returning-a-view-versus-a-copy\n",
      "  Y_trn['Fraud Proba'] = best_random_forest_model.predict_proba(X_trn)[:,1].tolist()\n",
      "<ipython-input-53-03c03090aa69>:3: SettingWithCopyWarning: \n",
      "A value is trying to be set on a copy of a slice from a DataFrame.\n",
      "Try using .loc[row_indexer,col_indexer] = value instead\n",
      "\n",
      "See the caveats in the documentation: https://pandas.pydata.org/pandas-docs/stable/user_guide/indexing.html#returning-a-view-versus-a-copy\n",
      "  Y_tst['Fraud Proba'] = best_random_forest_model.predict_proba(X_tst)[:,1].tolist()\n",
      "<ipython-input-53-03c03090aa69>:4: SettingWithCopyWarning: \n",
      "A value is trying to be set on a copy of a slice from a DataFrame.\n",
      "Try using .loc[row_indexer,col_indexer] = value instead\n",
      "\n",
      "See the caveats in the documentation: https://pandas.pydata.org/pandas-docs/stable/user_guide/indexing.html#returning-a-view-versus-a-copy\n",
      "  y_oot['Fraud Proba'] = best_random_forest_model.predict_proba(x_oot)[:,1].tolist()\n"
     ]
    }
   ],
   "source": [
    "# Concatenating Fraud probability fitted with the best model with actual fraud label for calculating bin statistics\n",
    "Y_trn['Fraud Proba'] = best_random_forest_model.predict_proba(X_trn)[:,1].tolist()\n",
    "Y_tst['Fraud Proba'] = best_random_forest_model.predict_proba(X_tst)[:,1].tolist()\n",
    "y_oot['Fraud Proba'] = best_random_forest_model.predict_proba(x_oot)[:,1].tolist()"
   ]
  },
  {
   "cell_type": "code",
   "execution_count": 56,
   "id": "4bbe089d",
   "metadata": {},
   "outputs": [
    {
     "name": "stdout",
     "output_type": "stream",
     "text": [
      "no_of_records 48332\n",
      "No of bads 487\n",
      "no_of_goods 47845\n"
     ]
    }
   ],
   "source": [
    "# Training Set \n",
    "df_pres_cum_trn, df_pres_trn = output_table(Y_trn['Fraud Proba'],Y_trn['Fraud'])"
   ]
  },
  {
   "cell_type": "code",
   "execution_count": 57,
   "id": "aa0ec2a7",
   "metadata": {},
   "outputs": [],
   "source": [
    "# df_pres_cum_trn.to_csv('trn_cum.csv')"
   ]
  },
  {
   "cell_type": "code",
   "execution_count": 58,
   "id": "cf7d8166",
   "metadata": {},
   "outputs": [],
   "source": [
    "# df_pres_trn.to_csv('trn.csv')"
   ]
  },
  {
   "cell_type": "code",
   "execution_count": 59,
   "id": "6d85cc20",
   "metadata": {},
   "outputs": [
    {
     "name": "stdout",
     "output_type": "stream",
     "text": [
      "no_of_records 20714\n",
      "No of bads 216\n",
      "no_of_goods 20498\n"
     ]
    }
   ],
   "source": [
    "# Testing Set \n",
    "df_pres_cum_tst, df_pres_tst = output_table(Y_tst['Fraud Proba'],Y_tst['Fraud'])"
   ]
  },
  {
   "cell_type": "code",
   "execution_count": 60,
   "id": "d4bc7ee4",
   "metadata": {},
   "outputs": [],
   "source": [
    "# df_pres_cum_tst.to_csv('tst_cum.csv')"
   ]
  },
  {
   "cell_type": "code",
   "execution_count": 61,
   "id": "24b9f79e",
   "metadata": {},
   "outputs": [],
   "source": [
    "# df_pres_tst.to_csv('tst.csv')"
   ]
  },
  {
   "cell_type": "code",
   "execution_count": 62,
   "id": "96555a86",
   "metadata": {},
   "outputs": [
    {
     "name": "stdout",
     "output_type": "stream",
     "text": [
      "no_of_records 27351\n",
      "No of bads 356\n",
      "no_of_goods 26995\n"
     ]
    }
   ],
   "source": [
    "# OOT Set\n",
    "df_pres_cum_oot, df_pres_oot = output_table(y_oot['Fraud Proba'],y_oot['Fraud'])"
   ]
  },
  {
   "cell_type": "code",
   "execution_count": 63,
   "id": "0449d28a",
   "metadata": {},
   "outputs": [],
   "source": [
    "# df_pres_cum_oot.to_csv('oot_cum.csv')"
   ]
  },
  {
   "cell_type": "code",
   "execution_count": 64,
   "id": "d4497c98",
   "metadata": {},
   "outputs": [],
   "source": [
    "# df_pres_oot.to_csv('oot.csv')"
   ]
  },
  {
   "cell_type": "code",
   "execution_count": 67,
   "id": "8a6aef19",
   "metadata": {},
   "outputs": [
    {
     "data": {
      "text/html": [
       "<div>\n",
       "<style scoped>\n",
       "    .dataframe tbody tr th:only-of-type {\n",
       "        vertical-align: middle;\n",
       "    }\n",
       "\n",
       "    .dataframe tbody tr th {\n",
       "        vertical-align: top;\n",
       "    }\n",
       "\n",
       "    .dataframe thead th {\n",
       "        text-align: right;\n",
       "    }\n",
       "</style>\n",
       "<table border=\"1\" class=\"dataframe\">\n",
       "  <thead>\n",
       "    <tr style=\"text-align: right;\">\n",
       "      <th></th>\n",
       "      <th># Records</th>\n",
       "      <th># Goods</th>\n",
       "      <th># Bads</th>\n",
       "      <th>% Goods</th>\n",
       "      <th>% Bads</th>\n",
       "    </tr>\n",
       "  </thead>\n",
       "  <tbody>\n",
       "    <tr>\n",
       "      <th>0</th>\n",
       "      <td>274</td>\n",
       "      <td>123</td>\n",
       "      <td>151</td>\n",
       "      <td>44.890511</td>\n",
       "      <td>55.109489</td>\n",
       "    </tr>\n",
       "    <tr>\n",
       "      <th>1</th>\n",
       "      <td>273</td>\n",
       "      <td>228</td>\n",
       "      <td>45</td>\n",
       "      <td>83.516484</td>\n",
       "      <td>16.483516</td>\n",
       "    </tr>\n",
       "    <tr>\n",
       "      <th>2</th>\n",
       "      <td>274</td>\n",
       "      <td>238</td>\n",
       "      <td>36</td>\n",
       "      <td>86.861314</td>\n",
       "      <td>13.138686</td>\n",
       "    </tr>\n",
       "    <tr>\n",
       "      <th>3</th>\n",
       "      <td>273</td>\n",
       "      <td>252</td>\n",
       "      <td>21</td>\n",
       "      <td>92.307692</td>\n",
       "      <td>7.692308</td>\n",
       "    </tr>\n",
       "    <tr>\n",
       "      <th>4</th>\n",
       "      <td>274</td>\n",
       "      <td>265</td>\n",
       "      <td>9</td>\n",
       "      <td>96.715328</td>\n",
       "      <td>3.284672</td>\n",
       "    </tr>\n",
       "    <tr>\n",
       "      <th>5</th>\n",
       "      <td>273</td>\n",
       "      <td>260</td>\n",
       "      <td>13</td>\n",
       "      <td>95.238095</td>\n",
       "      <td>4.761905</td>\n",
       "    </tr>\n",
       "    <tr>\n",
       "      <th>6</th>\n",
       "      <td>274</td>\n",
       "      <td>271</td>\n",
       "      <td>3</td>\n",
       "      <td>98.905109</td>\n",
       "      <td>1.094891</td>\n",
       "    </tr>\n",
       "    <tr>\n",
       "      <th>7</th>\n",
       "      <td>273</td>\n",
       "      <td>267</td>\n",
       "      <td>6</td>\n",
       "      <td>97.802198</td>\n",
       "      <td>2.197802</td>\n",
       "    </tr>\n",
       "    <tr>\n",
       "      <th>8</th>\n",
       "      <td>274</td>\n",
       "      <td>272</td>\n",
       "      <td>2</td>\n",
       "      <td>99.270073</td>\n",
       "      <td>0.729927</td>\n",
       "    </tr>\n",
       "    <tr>\n",
       "      <th>9</th>\n",
       "      <td>273</td>\n",
       "      <td>267</td>\n",
       "      <td>6</td>\n",
       "      <td>97.802198</td>\n",
       "      <td>2.197802</td>\n",
       "    </tr>\n",
       "    <tr>\n",
       "      <th>10</th>\n",
       "      <td>274</td>\n",
       "      <td>273</td>\n",
       "      <td>1</td>\n",
       "      <td>99.635036</td>\n",
       "      <td>0.364964</td>\n",
       "    </tr>\n",
       "    <tr>\n",
       "      <th>11</th>\n",
       "      <td>273</td>\n",
       "      <td>270</td>\n",
       "      <td>3</td>\n",
       "      <td>98.901099</td>\n",
       "      <td>1.098901</td>\n",
       "    </tr>\n",
       "    <tr>\n",
       "      <th>12</th>\n",
       "      <td>274</td>\n",
       "      <td>269</td>\n",
       "      <td>5</td>\n",
       "      <td>98.175182</td>\n",
       "      <td>1.824818</td>\n",
       "    </tr>\n",
       "    <tr>\n",
       "      <th>13</th>\n",
       "      <td>273</td>\n",
       "      <td>270</td>\n",
       "      <td>3</td>\n",
       "      <td>98.901099</td>\n",
       "      <td>1.098901</td>\n",
       "    </tr>\n",
       "    <tr>\n",
       "      <th>14</th>\n",
       "      <td>274</td>\n",
       "      <td>274</td>\n",
       "      <td>0</td>\n",
       "      <td>100.0</td>\n",
       "      <td>0.0</td>\n",
       "    </tr>\n",
       "    <tr>\n",
       "      <th>15</th>\n",
       "      <td>273</td>\n",
       "      <td>273</td>\n",
       "      <td>0</td>\n",
       "      <td>100.0</td>\n",
       "      <td>0.0</td>\n",
       "    </tr>\n",
       "    <tr>\n",
       "      <th>16</th>\n",
       "      <td>274</td>\n",
       "      <td>272</td>\n",
       "      <td>2</td>\n",
       "      <td>99.270073</td>\n",
       "      <td>0.729927</td>\n",
       "    </tr>\n",
       "    <tr>\n",
       "      <th>17</th>\n",
       "      <td>273</td>\n",
       "      <td>272</td>\n",
       "      <td>1</td>\n",
       "      <td>99.6337</td>\n",
       "      <td>0.3663</td>\n",
       "    </tr>\n",
       "    <tr>\n",
       "      <th>18</th>\n",
       "      <td>274</td>\n",
       "      <td>273</td>\n",
       "      <td>1</td>\n",
       "      <td>99.635036</td>\n",
       "      <td>0.364964</td>\n",
       "    </tr>\n",
       "    <tr>\n",
       "      <th>19</th>\n",
       "      <td>273</td>\n",
       "      <td>271</td>\n",
       "      <td>2</td>\n",
       "      <td>99.267399</td>\n",
       "      <td>0.732601</td>\n",
       "    </tr>\n",
       "  </tbody>\n",
       "</table>\n",
       "</div>"
      ],
      "text/plain": [
       "   # Records # Goods # Bads    % Goods     % Bads\n",
       "0        274     123    151  44.890511  55.109489\n",
       "1        273     228     45  83.516484  16.483516\n",
       "2        274     238     36  86.861314  13.138686\n",
       "3        273     252     21  92.307692   7.692308\n",
       "4        274     265      9  96.715328   3.284672\n",
       "5        273     260     13  95.238095   4.761905\n",
       "6        274     271      3  98.905109   1.094891\n",
       "7        273     267      6  97.802198   2.197802\n",
       "8        274     272      2  99.270073   0.729927\n",
       "9        273     267      6  97.802198   2.197802\n",
       "10       274     273      1  99.635036   0.364964\n",
       "11       273     270      3  98.901099   1.098901\n",
       "12       274     269      5  98.175182   1.824818\n",
       "13       273     270      3  98.901099   1.098901\n",
       "14       274     274      0      100.0        0.0\n",
       "15       273     273      0      100.0        0.0\n",
       "16       274     272      2  99.270073   0.729927\n",
       "17       273     272      1    99.6337     0.3663\n",
       "18       274     273      1  99.635036   0.364964\n",
       "19       273     271      2  99.267399   0.732601"
      ]
     },
     "execution_count": 67,
     "metadata": {},
     "output_type": "execute_result"
    }
   ],
   "source": [
    "df_pres_oot"
   ]
  },
  {
   "cell_type": "code",
   "execution_count": 68,
   "id": "ab8357ca",
   "metadata": {},
   "outputs": [],
   "source": [
    "# Function to calculate savings\n",
    "# Assuming $2000 gain for every True Positive\n",
    "def fraud_savings(model,X_data, Y_data,i):\n",
    "    Y_data = pd.DataFrame(Y_data)\n",
    "    Y_data['Fraud Proba'] = model.predict_proba(X_data)[:,1].tolist()\n",
    "    Y_data = Y_data.sort_values(by='Fraud Proba',ascending=False)\n",
    "    # total_bads = Y_data['Fraud'][Y_data['Fraud']==1].count()\n",
    "    top_rows = int(len(X_data)*i*.01)\n",
    "    sum_bads = Y_data['Fraud'].head(top_rows)[Y_data['Fraud']==1].count()\n",
    "    # loss = Y_data['Fraud'].head(top_rows)[Y_data['Fraud']==0].count()\n",
    "    fraud_savings = sum_bads*2000\n",
    "    return fraud_savings"
   ]
  },
  {
   "cell_type": "code",
   "execution_count": 69,
   "id": "230ca5cb",
   "metadata": {},
   "outputs": [],
   "source": [
    "# Function to calculate losses\n",
    "# Assuming $50 loss for every False Positive\n",
    "def fraud_losses(model,X_data, Y_data,i):\n",
    "    Y_data = pd.DataFrame(Y_data)\n",
    "    Y_data['Fraud Proba'] = model.predict_proba(X_data)[:,1].tolist()\n",
    "    Y_data = Y_data.sort_values(by='Fraud Proba',ascending=False)\n",
    "    # total_bads = Y_data['Fraud'][Y_data['Fraud']==1].count()\n",
    "    top_rows = int(len(X_data)*i*.01)\n",
    "    #sum_bads = Y_data['Fraud'].head(top_rows)[Y_data['Fraud']==1].count()\n",
    "    loss = Y_data['Fraud'].head(top_rows)[Y_data['Fraud']==0].count()\n",
    "    fraud_losses = loss*50\n",
    "    return fraud_losses"
   ]
  },
  {
   "cell_type": "code",
   "execution_count": 70,
   "id": "08e17db7",
   "metadata": {},
   "outputs": [],
   "source": [
    "# Calculating savings for FDR till 50%\n",
    "savings = {}\n",
    "for j in range(0,51):\n",
    "    savings[j] = fraud_savings(best_random_forest_model,x_oot,y_oot,j)"
   ]
  },
  {
   "cell_type": "code",
   "execution_count": 71,
   "id": "e8a72637",
   "metadata": {},
   "outputs": [],
   "source": [
    "# Calculating losses for FDR till 50%\n",
    "losses = {}\n",
    "for j in range(0,51):\n",
    "    losses[j] = fraud_losses(best_random_forest_model,x_oot,y_oot,j)"
   ]
  },
  {
   "cell_type": "code",
   "execution_count": 72,
   "id": "7d5944dd",
   "metadata": {},
   "outputs": [],
   "source": [
    "# Calculating overall savings by subtracting losses from gains\n",
    "overall_savings = {key: savings[key] - losses[key] for key in savings}"
   ]
  },
  {
   "cell_type": "code",
   "execution_count": 200,
   "id": "19e986b4",
   "metadata": {},
   "outputs": [
    {
     "data": {
      "image/png": "[encoded data removed]",
      "text/plain": [
       "<Figure size 1440x720 with 1 Axes>"
      ]
     },
     "metadata": {},
     "output_type": "display_data"
    }
   ],
   "source": [
    "import matplotlib.pylab as plt\n",
    "\n",
    "sns.set(font_scale=2)\n",
    "lists = sorted(savings.items()) # sorted by key, return a list of tuples\n",
    "# loss = sorted(losses.items())\n",
    "x, y = zip(*lists) # unpack a list of pairs into two tuples\n",
    "x,z = zip(*losses.items())\n",
    "x,b = zip(*overall_savings.items())\n",
    "axes = plt.axes()\n",
    "plt.plot(x, y, label='Fraud Savings', linewidth = 5)\n",
    "plt.plot(x,z, label = 'Lost Sales', linewidth = 5)\n",
    "plt.plot(x,b, label = 'Overall Savings', linewidth = 5)\n",
    "plt.ylim(ymin=1)\n",
    "plt.xlim(xmin=1)\n",
    "plt.xlabel(\"OOT Population % bins\")\n",
    "plt.ylabel(\"Dollars ($)\")\n",
    "plt.vlines(x=6, ymin=0, ymax=700000, color='red', zorder=2, linestyles='dashed', linewidth = 5)\n",
    "axes.set_xticks([1,5,10,20,30,40,50])\n",
    "plt.annotate('481,700',(6.5,490000))\n",
    "plt.legend()\n",
    "plt.rcParams[\"figure.figsize\"] = (20,10)\n",
    "plt.show()"
   ]
  },
  {
   "cell_type": "code",
   "execution_count": 84,
   "id": "bb62c4c6",
   "metadata": {},
   "outputs": [
    {
     "name": "stdout",
     "output_type": "stream",
     "text": [
      "savings: $ 550000\n",
      "losses: $ 68300\n",
      "overall savings: $ 481700\n"
     ]
    }
   ],
   "source": [
    "# when the cutoff is 6%\n",
    "\n",
    "print('savings: $', savings[6])\n",
    "print('losses: $', losses[6])\n",
    "print('overall savings: $', overall_savings[6])"
   ]
  },
  {
   "cell_type": "markdown",
   "id": "85715c5f",
   "metadata": {},
   "source": [
    "## More Graphs"
   ]
  },
  {
   "cell_type": "code",
   "execution_count": 125,
   "id": "a20e223c",
   "metadata": {},
   "outputs": [],
   "source": [
    "temp = oot.join(final[['Cardnum','Merchnum']])\n",
    "graphing = temp.join(y_oot['Fraud Proba'])"
   ]
  },
  {
   "cell_type": "markdown",
   "id": "63b08867",
   "metadata": {},
   "source": [
    "### Cardnum"
   ]
  },
  {
   "cell_type": "code",
   "execution_count": 174,
   "id": "8192def9",
   "metadata": {},
   "outputs": [
    {
     "data": {
      "text/plain": [
       "Cardnum\n",
       "5142235211    0.500274\n",
       "5142288601    0.438080\n",
       "5142220919    0.425534\n",
       "5142294097    0.371610\n",
       "5142112858    0.366316\n",
       "5142199009    0.288893\n",
       "5142183973    0.259296\n",
       "5142273038    0.251868\n",
       "5142189945    0.230009\n",
       "5142228988    0.223733\n",
       "5142278415    0.223192\n",
       "5142299705    0.222210\n",
       "5142147267    0.183284\n",
       "5142227637    0.177343\n",
       "5142217059    0.165050\n",
       "5142183210    0.140536\n",
       "5142125025    0.133175\n",
       "5142152857    0.130520\n",
       "5142152302    0.121214\n",
       "5142126798    0.112673\n",
       "Name: Fraud Proba, dtype: float64"
      ]
     },
     "execution_count": 174,
     "metadata": {},
     "output_type": "execute_result"
    }
   ],
   "source": [
    "graphing.groupby(['Cardnum'])['Fraud Proba'].mean().sort_values(ascending=False).head(20)"
   ]
  },
  {
   "cell_type": "code",
   "execution_count": 186,
   "id": "55f5d7c8",
   "metadata": {},
   "outputs": [
    {
     "data": {
      "text/plain": [
       "(38, 35)"
      ]
     },
     "execution_count": 186,
     "metadata": {},
     "output_type": "execute_result"
    }
   ],
   "source": [
    "graphing[graphing['Cardnum'] == 5142235211].shape"
   ]
  },
  {
   "cell_type": "code",
   "execution_count": 201,
   "id": "e267d037",
   "metadata": {},
   "outputs": [
    {
     "data": {
      "text/plain": [
       "Text(0.5, 0, '')"
      ]
     },
     "execution_count": 201,
     "metadata": {},
     "output_type": "execute_result"
    },
    {
     "data": {
      "image/png": "[encoded data removed]",
      "text/plain": [
       "<Figure size 1440x720 with 1 Axes>"
      ]
     },
     "metadata": {},
     "output_type": "display_data"
    }
   ],
   "source": [
    "x = graphing[graphing['Cardnum'] == 5142235211]['Date']\n",
    "y = graphing[graphing['Cardnum'] == 5142235211]['Fraud Proba']\n",
    "\n",
    "sns.set(font_scale=2)\n",
    "plt.plot(x,y)\n",
    "plt.ylabel(\"Fraud Score\")\n",
    "plt.xlabel(\"\")"
   ]
  },
  {
   "cell_type": "code",
   "execution_count": 202,
   "id": "cefc358f",
   "metadata": {},
   "outputs": [
    {
     "data": {
      "text/plain": [
       "Text(0.5, 0, 'Transaction Count With That Card Number')"
      ]
     },
     "execution_count": 202,
     "metadata": {},
     "output_type": "execute_result"
    },
    {
     "data": {
      "image/png": "[encoded data removed]",
      "text/plain": [
       "<Figure size 1440x720 with 1 Axes>"
      ]
     },
     "metadata": {},
     "output_type": "display_data"
    }
   ],
   "source": [
    "x = list(range(0,graphing[graphing['Cardnum'] == 5142235211].shape[0]))\n",
    "y = graphing[graphing['Cardnum'] == 5142235211]['Fraud Proba']\n",
    "\n",
    "\n",
    "sns.set(font_scale=2)\n",
    "plt.plot(x,y)\n",
    "plt.ylabel(\"Fraud Score\")\n",
    "plt.xlabel(\"Transaction Count With That Card Number\")"
   ]
  },
  {
   "cell_type": "markdown",
   "id": "c296112c",
   "metadata": {},
   "source": [
    "### Merchnum"
   ]
  },
  {
   "cell_type": "code",
   "execution_count": 189,
   "id": "ab0fd1dc",
   "metadata": {},
   "outputs": [
    {
     "data": {
      "text/plain": [
       "Merchnum\n",
       "467590957335     0.938756\n",
       "8000924602       0.924669\n",
       "806907277331     0.884346\n",
       "5000507068272    0.877817\n",
       "4574100693306    0.788862\n",
       "6851300664361    0.635322\n",
       "6070095870009    0.620720\n",
       "6163608306809    0.607867\n",
       "604906758338     0.596865\n",
       "4112000606412    0.593333\n",
       "8730008059686    0.579692\n",
       "2036100687150    0.557382\n",
       "1219000663138    0.546655\n",
       "6005030600003    0.521013\n",
       "5900000064440    0.488203\n",
       "6898688857771    0.460682\n",
       "5859560900441    0.450396\n",
       "817004603228     0.444396\n",
       "997670240334     0.437866\n",
       "4620006308197    0.435807\n",
       "Name: Fraud Proba, dtype: float64"
      ]
     },
     "execution_count": 189,
     "metadata": {},
     "output_type": "execute_result"
    }
   ],
   "source": [
    "graphing.groupby(['Merchnum'])['Fraud Proba'].mean().sort_values(ascending=False).head(20)"
   ]
  },
  {
   "cell_type": "code",
   "execution_count": 196,
   "id": "6aeb5b8c",
   "metadata": {},
   "outputs": [
    {
     "data": {
      "text/plain": [
       "(28, 35)"
      ]
     },
     "execution_count": 196,
     "metadata": {},
     "output_type": "execute_result"
    }
   ],
   "source": [
    "graphing[graphing['Merchnum'] == '6070095870009'].shape"
   ]
  },
  {
   "cell_type": "code",
   "execution_count": 203,
   "id": "1609f99b",
   "metadata": {},
   "outputs": [
    {
     "data": {
      "text/plain": [
       "Text(0.5, 0, '')"
      ]
     },
     "execution_count": 203,
     "metadata": {},
     "output_type": "execute_result"
    },
    {
     "data": {
      "image/png": "[encoded data removed]",
      "text/plain": [
       "<Figure size 1440x720 with 1 Axes>"
      ]
     },
     "metadata": {},
     "output_type": "display_data"
    }
   ],
   "source": [
    "x = graphing[graphing['Merchnum'] == '6070095870009']['Date']\n",
    "y = graphing[graphing['Merchnum'] == '6070095870009']['Fraud Proba']\n",
    "\n",
    "sns.set(font_scale=2)\n",
    "plt.plot(x,y)\n",
    "plt.ylabel(\"Fraud Score\")\n",
    "plt.xlabel(\"\")"
   ]
  },
  {
   "cell_type": "code",
   "execution_count": 204,
   "id": "812b0afa",
   "metadata": {},
   "outputs": [
    {
     "data": {
      "text/plain": [
       "Text(0.5, 0, 'Transaction Count With That Merchant Number')"
      ]
     },
     "execution_count": 204,
     "metadata": {},
     "output_type": "execute_result"
    },
    {
     "data": {
      "image/png": "[encoded data removed]",
      "text/plain": [
       "<Figure size 1440x720 with 1 Axes>"
      ]
     },
     "metadata": {},
     "output_type": "display_data"
    }
   ],
   "source": [
    "x = list(range(0,graphing[graphing['Merchnum'] == '6070095870009'].shape[0]))\n",
    "y = graphing[graphing['Merchnum'] == '6070095870009']['Fraud Proba']\n",
    "\n",
    "\n",
    "sns.set(font_scale=2)\n",
    "plt.plot(x,y)\n",
    "plt.ylabel(\"Fraud Score\")\n",
    "plt.xlabel(\"Transaction Count With That Merchant Number\")"
   ]
  },
  {
   "cell_type": "code",
   "execution_count": null,
   "id": "e821fb9d",
   "metadata": {},
   "outputs": [],
   "source": []
  }
 ],
 "metadata": {
  "kernelspec": {
   "display_name": "Python 3",
   "language": "python",
   "name": "python3"
  },
  "language_info": {
   "codemirror_mode": {
    "name": "ipython",
    "version": 3
   },
   "file_extension": ".py",
   "mimetype": "text/x-python",
   "name": "python",
   "nbconvert_exporter": "python",
   "pygments_lexer": "ipython3",
   "version": "3.8.5"
  }
 },
 "nbformat": 4,
 "nbformat_minor": 5
}
